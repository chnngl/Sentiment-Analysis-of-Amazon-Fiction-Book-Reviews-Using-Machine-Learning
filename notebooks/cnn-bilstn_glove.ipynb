{
  "cells": [
    {
      "cell_type": "code",
      "execution_count": null,
      "metadata": {
        "id": "eCsyYhnET751"
      },
      "outputs": [],
      "source": [
        "from google.colab import files\n",
        "import pandas as pd\n",
        "uploaded = files.upload()"
      ]
    },
    {
      "cell_type": "code",
      "execution_count": null,
      "metadata": {
        "id": "-_GKEvNiWczK"
      },
      "outputs": [],
      "source": [
        "import pandas as pd\n",
        "\n",
        "# Load the CSV file directly by filename\n",
        "df = pd.read_csv('balanced30k_processed_dl.csv')\n",
        "\n",
        "# Check the first few rows to confirm it loaded correctly\n",
        "print(df.head())"
      ]
    },
    {
      "cell_type": "code",
      "execution_count": null,
      "metadata": {
        "id": "fY3wS300T4GL"
      },
      "outputs": [],
      "source": [
        "import numpy as np\n",
        "import pandas as pd\n",
        "from tensorflow.keras.preprocessing.text import Tokenizer\n",
        "from tensorflow.keras.preprocessing.sequence import pad_sequences\n",
        "from sklearn.model_selection import train_test_split\n",
        "from sklearn.preprocessing import LabelEncoder\n",
        "\n",
        "# Dataset\n",
        "X = df['cleaned_text_dl']\n",
        "y = df['label']"
      ]
    },
    {
      "cell_type": "code",
      "execution_count": null,
      "metadata": {
        "id": "XYr97fuZT7ev"
      },
      "outputs": [],
      "source": [
        "# Split into train (70%), val (15%), test (15%) with stratification to keep class balance\n",
        "X_train, X_temp, y_train, y_temp = train_test_split(\n",
        "    X, y, test_size=0.3, random_state=42, stratify=y)\n",
        "\n",
        "X_val, X_test, y_val, y_test = train_test_split(\n",
        "    X_temp, y_temp, test_size=1/3, random_state=42, stratify=y_temp)\n",
        "\n",
        "print(f'Train size: {len(X_train)}')\n",
        "print(f'Validation size: {len(X_val)}')\n",
        "print(f'Test size: {len(X_test)}')"
      ]
    },
    {
      "cell_type": "code",
      "execution_count": null,
      "metadata": {
        "id": "HzkRQ1ATUNpZ"
      },
      "outputs": [],
      "source": [
        "max_vocab_size = 20000\n",
        "max_sequence_length = 250\n",
        "\n",
        "tokenizer = Tokenizer(num_words=max_vocab_size, oov_token=\"<OOV>\")\n",
        "tokenizer.fit_on_texts(X_train)\n",
        "\n",
        "X_train_seq = tokenizer.texts_to_sequences(X_train)\n",
        "X_val_seq = tokenizer.texts_to_sequences(X_val)\n",
        "X_test_seq = tokenizer.texts_to_sequences(X_test)\n",
        "\n",
        "X_train_pad = pad_sequences(X_train_seq, maxlen=max_sequence_length, padding='post')\n",
        "X_val_pad = pad_sequences(X_val_seq, maxlen=max_sequence_length, padding='post')\n",
        "X_test_pad = pad_sequences(X_test_seq, maxlen=max_sequence_length, padding='post')\n",
        "\n",
        "print(f'Example tokenized sequence: {X_train_seq[0]}')\n",
        "print(f'Example padded sequence shape: {X_train_pad.shape}')"
      ]
    },
    {
      "cell_type": "code",
      "execution_count": null,
      "metadata": {
        "id": "sarAJ6DrUUOx"
      },
      "outputs": [],
      "source": [
        "!wget --no-check-certificate http://nlp.stanford.edu/data/glove.6B.zip\n",
        "!unzip glove.6B.zip"
      ]
    },
    {
      "cell_type": "code",
      "execution_count": null,
      "metadata": {
        "id": "YL0Gi2TGUWVL"
      },
      "outputs": [],
      "source": [
        "embedding_index = {}\n",
        "with open(\"glove.6B.100d.txt\", encoding='utf8') as f:\n",
        "    for line in f:\n",
        "        values = line.split()\n",
        "        word = values[0]\n",
        "        coefs = np.asarray(values[1:], dtype='float32')\n",
        "        embedding_index[word] = coefs\n",
        "\n",
        "print(f\"Loaded {len(embedding_index)} word vectors.\")"
      ]
    },
    {
      "cell_type": "code",
      "execution_count": null,
      "metadata": {
        "id": "ph0w1kvfUbTk"
      },
      "outputs": [],
      "source": [
        "embedding_dim = 100\n",
        "word_index = tokenizer.word_index\n",
        "num_words = min(max_vocab_size, len(word_index) + 1)\n",
        "\n",
        "# Build embedding matrix\n",
        "embedding_matrix = np.zeros((num_words, embedding_dim))\n",
        "\n",
        "for word, i in word_index.items():\n",
        "    if i < num_words:\n",
        "        embedding_vector = embedding_index.get(word)\n",
        "        if embedding_vector is not None:\n",
        "            embedding_matrix[i] = embedding_vector"
      ]
    },
    {
      "cell_type": "code",
      "execution_count": null,
      "metadata": {
        "id": "wa2VC-L0Udz8"
      },
      "outputs": [],
      "source": [
        "from tensorflow.keras.models import Sequential\n",
        "from tensorflow.keras.layers import Embedding, Dropout, Conv1D, SpatialDropout1D, MaxPooling1D, Bidirectional, LSTM, GlobalMaxPooling1D, Dense\n",
        "from tensorflow.keras.optimizers import Adam\n",
        "from tensorflow.keras.regularizers import l2\n",
        "\n",
        "model_cnn_bilstm = Sequential([\n",
        "    Embedding(input_dim=num_words,\n",
        "              output_dim=embedding_dim,\n",
        "              weights=[embedding_matrix],\n",
        "              input_length=max_sequence_length,\n",
        "              trainable=True),\n",
        "\n",
        "    SpatialDropout1D(0.3),\n",
        "\n",
        "    Conv1D(128, kernel_size=5, activation='relu', kernel_regularizer=l2(1e-4)),\n",
        "    #MaxPooling1D(pool_size=2),\n",
        "    #BatchNormalization(),\n",
        "\n",
        "    Bidirectional(LSTM(128, return_sequences=True, dropout=0.4)),\n",
        "\n",
        "    Dropout(0.45),\n",
        "    GlobalMaxPooling1D(),\n",
        "\n",
        "    Dense(64, activation='relu', kernel_regularizer=l2(1e-4)),\n",
        "    Dropout(0.45),\n",
        "\n",
        "    Dense(3, activation='softmax', kernel_regularizer=l2(1e-4))\n",
        "])\n",
        "\n",
        "model_cnn_bilstm.compile(\n",
        "    optimizer=Adam(learning_rate=5e-5, clipnorm=1.0),\n",
        "    loss='sparse_categorical_crossentropy',\n",
        "    metrics=['accuracy']\n",
        ")\n",
        "\n",
        "model_cnn_bilstm.summary()"
      ]
    },
    {
      "cell_type": "code",
      "execution_count": null,
      "metadata": {
        "id": "GJOGYZJNUgXe"
      },
      "outputs": [],
      "source": [
        "from tensorflow.keras.callbacks import EarlyStopping\n",
        "from tensorflow.keras.callbacks import ReduceLROnPlateau\n",
        "\n",
        "early_stop = EarlyStopping(\n",
        "    monitor='val_loss',\n",
        "    patience=3,          # how many epochs to wait after last improvement\n",
        "    restore_best_weights=True  # restores model weights from best epoch\n",
        ")\n",
        "reduce_lr = ReduceLROnPlateau(monitor='val_loss',\n",
        "                              factor=0.5,\n",
        "                              patience=4,\n",
        "                              min_lr=1e-6,\n",
        "                              verbose=1)\n",
        "\n",
        "history = model_cnn_bilstm.fit(\n",
        "    X_train_pad, y_train,\n",
        "    validation_data=(X_val_pad, y_val),\n",
        "    epochs=50,\n",
        "    batch_size=32,\n",
        "    verbose=1,\n",
        "    callbacks=[early_stop, reduce_lr]\n",
        ")"
      ]
    },
    {
      "cell_type": "code",
      "execution_count": null,
      "metadata": {
        "id": "-9Mn1KjzoGCh"
      },
      "outputs": [],
      "source": [
        "import matplotlib.pyplot as plt\n",
        "\n",
        "# Accuracy plot\n",
        "plt.figure(figsize=(7, 5))\n",
        "plt.plot(history.history['accuracy'], label='Train Accuracy')\n",
        "plt.plot(history.history['val_accuracy'], label='Validation Accuracy')\n",
        "plt.title('Model Accuracy')\n",
        "plt.xlabel('Epoch')\n",
        "plt.ylabel('Accuracy')\n",
        "plt.legend()\n",
        "plt.tight_layout()\n",
        "plt.savefig(\"model_accuracy_cnn+biLSTM.png\", dpi=300, bbox_inches='tight')\n",
        "plt.show()\n",
        "\n",
        "# Loss plot\n",
        "plt.figure(figsize=(7, 5))\n",
        "plt.plot(history.history['loss'], label='Train Loss')\n",
        "plt.plot(history.history['val_loss'], label='Validation Loss')\n",
        "plt.title('Model Loss')\n",
        "plt.xlabel('Epoch')\n",
        "plt.ylabel('Loss')\n",
        "plt.legend()\n",
        "plt.tight_layout()\n",
        "plt.savefig(\"model_loss_cnn+biLSTM.png\", dpi=300, bbox_inches='tight')\n",
        "plt.show()"
      ]
    },
    {
      "cell_type": "code",
      "execution_count": null,
      "metadata": {
        "id": "amOl_Tt5oLrH"
      },
      "outputs": [],
      "source": [
        "# Get predicted probabilities\n",
        "y_val_probs = model_cnn_bilstm.predict(X_val_pad)\n",
        "\n",
        "# Convert to predicted class labels (0, 1, 2)\n",
        "y_val_pred = np.argmax(y_val_probs, axis=1)\n",
        "\n",
        "# Convert to numpy arrays\n",
        "y_val_true = np.array(y_val)"
      ]
    },
    {
      "cell_type": "code",
      "execution_count": null,
      "metadata": {
        "id": "GvcsPXw7oOph"
      },
      "outputs": [],
      "source": [
        "# Find misclassified indices\n",
        "wrong_indices = np.where(y_val_pred != y_val_true)[0]\n",
        "print(f\"Number of misclassified samples: {len(wrong_indices)}\")\n",
        "\n",
        "for idx in wrong_indices[:10]:  # find 10 misclassification\n",
        "    print(f\"\\n Review: {X_val.iloc[idx]}\")\n",
        "    print(f\"True label: {y_val_true[idx]}\")\n",
        "    print(f\"Predicted:  {y_val_pred[idx]}\")\n"
      ]
    },
    {
      "cell_type": "code",
      "execution_count": null,
      "metadata": {
        "id": "BV-JEK6SoRSs"
      },
      "outputs": [],
      "source": [
        "from sklearn.metrics import classification_report\n",
        "# Get predicted class indices from softmax probabilities\n",
        "y_val_probs = model_cnn_bilstm.predict(X_val_pad)\n",
        "y_val_pred = np.argmax(y_val_probs, axis=1)\n",
        "\n",
        "# Evaluate against true labels\n",
        "print(classification_report(y_val, y_val_pred, zero_division=0))"
      ]
    },
    {
      "cell_type": "markdown",
      "metadata": {
        "id": "2GQXv41pkm3e"
      },
      "source": []
    }
  ],
  "metadata": {
    "accelerator": "GPU",
    "colab": {
      "gpuType": "T4",
      "provenance": []
    },
    "kernelspec": {
      "display_name": "Python 3",
      "name": "python3"
    },
    "language_info": {
      "name": "python"
    }
  },
  "nbformat": 4,
  "nbformat_minor": 0
}