{
 "cells": [
  {
   "cell_type": "code",
   "execution_count": 1,
   "id": "daf81d96",
   "metadata": {
    "execution": {
     "iopub.execute_input": "2025-09-03T17:18:33.771298Z",
     "iopub.status.busy": "2025-09-03T17:18:33.770976Z",
     "iopub.status.idle": "2025-09-03T17:18:38.634586Z",
     "shell.execute_reply": "2025-09-03T17:18:38.633047Z"
    },
    "papermill": {
     "duration": 4.870859,
     "end_time": "2025-09-03T17:18:38.636504",
     "exception": false,
     "start_time": "2025-09-03T17:18:33.765645",
     "status": "completed"
    },
    "tags": []
   },
   "outputs": [],
   "source": [
    "\n",
    "!pip -q uninstall -y keras keras-nlp keras-core keras-cv || true"
   ]
  },
  {
   "cell_type": "code",
   "execution_count": 2,
   "id": "abd6a1c1",
   "metadata": {
    "execution": {
     "iopub.execute_input": "2025-09-03T17:18:38.645611Z",
     "iopub.status.busy": "2025-09-03T17:18:38.644811Z",
     "iopub.status.idle": "2025-09-03T17:18:44.514477Z",
     "shell.execute_reply": "2025-09-03T17:18:44.513435Z"
    },
    "papermill": {
     "duration": 5.876022,
     "end_time": "2025-09-03T17:18:44.516393",
     "exception": false,
     "start_time": "2025-09-03T17:18:38.640371",
     "status": "completed"
    },
    "tags": []
   },
   "outputs": [
    {
     "name": "stdout",
     "output_type": "stream",
     "text": [
      "\u001b[2K   \u001b[90m━━━━━━━━━━━━━━━━━━━━━━━━━━━━━━━━━━━━━━━━\u001b[0m \u001b[32m1.4/1.4 MB\u001b[0m \u001b[31m16.7 MB/s\u001b[0m eta \u001b[36m0:00:00\u001b[0m\r\n",
      "\u001b[?25h"
     ]
    }
   ],
   "source": [
    "!pip -q install -U \"tensorflow==2.18.0\" \"tf-keras==2.18.0\" \"tensorflow-text==2.18.1\"\n",
    "# (numpy 1.26.4 is fine with TF 2.18; no need to change)\n"
   ]
  },
  {
   "cell_type": "code",
   "execution_count": 3,
   "id": "8569b09a",
   "metadata": {
    "_cell_guid": "b1076dfc-b9ad-4769-8c92-a6c4dae69d19",
    "_uuid": "8f2839f25d086af736a60e9eeb907d3b93b6e0e5",
    "execution": {
     "iopub.execute_input": "2025-09-03T17:18:44.525541Z",
     "iopub.status.busy": "2025-09-03T17:18:44.525187Z",
     "iopub.status.idle": "2025-09-03T17:18:46.291283Z",
     "shell.execute_reply": "2025-09-03T17:18:46.290222Z"
    },
    "papermill": {
     "duration": 1.772429,
     "end_time": "2025-09-03T17:18:46.292770",
     "exception": false,
     "start_time": "2025-09-03T17:18:44.520341",
     "status": "completed"
    },
    "tags": []
   },
   "outputs": [
    {
     "name": "stdout",
     "output_type": "stream",
     "text": [
      "/kaggle/input/processed-dl/balanced30k_processed_dl.csv\n"
     ]
    }
   ],
   "source": [
    "# This Python 3 environment comes with many helpful analytics libraries installed\n",
    "# It is defined by the kaggle/python Docker image: https://github.com/kaggle/docker-python\n",
    "# For example, here's several helpful packages to load\n",
    "\n",
    "import numpy as np # linear algebra\n",
    "import pandas as pd # data processing, CSV file I/O (e.g. pd.read_csv)\n",
    "\n",
    "# Input data files are available in the read-only \"../input/\" directory\n",
    "# For example, running this (by clicking run or pressing Shift+Enter) will list all files under the input directory\n",
    "\n",
    "import os\n",
    "for dirname, _, filenames in os.walk('/kaggle/input'):\n",
    "    for filename in filenames:\n",
    "        print(os.path.join(dirname, filename))\n",
    "\n",
    "# You can write up to 20GB to the current directory (/kaggle/working/) that gets preserved as output when you create a version using \"Save & Run All\" \n",
    "# You can also write temporary files to /kaggle/temp/, but they won't be saved outside of the current session"
   ]
  },
  {
   "cell_type": "code",
   "execution_count": 4,
   "id": "10e2c196",
   "metadata": {
    "execution": {
     "iopub.execute_input": "2025-09-03T17:18:46.301463Z",
     "iopub.status.busy": "2025-09-03T17:18:46.300978Z",
     "iopub.status.idle": "2025-09-03T17:18:47.484961Z",
     "shell.execute_reply": "2025-09-03T17:18:47.484008Z"
    },
    "papermill": {
     "duration": 1.190118,
     "end_time": "2025-09-03T17:18:47.486650",
     "exception": false,
     "start_time": "2025-09-03T17:18:46.296532",
     "status": "completed"
    },
    "tags": []
   },
   "outputs": [
    {
     "data": {
      "text/html": [
       "<div>\n",
       "<style scoped>\n",
       "    .dataframe tbody tr th:only-of-type {\n",
       "        vertical-align: middle;\n",
       "    }\n",
       "\n",
       "    .dataframe tbody tr th {\n",
       "        vertical-align: top;\n",
       "    }\n",
       "\n",
       "    .dataframe thead th {\n",
       "        text-align: right;\n",
       "    }\n",
       "</style>\n",
       "<table border=\"1\" class=\"dataframe\">\n",
       "  <thead>\n",
       "    <tr style=\"text-align: right;\">\n",
       "      <th></th>\n",
       "      <th>Title</th>\n",
       "      <th>review/score</th>\n",
       "      <th>review/text</th>\n",
       "      <th>categories</th>\n",
       "      <th>word_count</th>\n",
       "      <th>label</th>\n",
       "      <th>cleaned_text_dl</th>\n",
       "    </tr>\n",
       "  </thead>\n",
       "  <tbody>\n",
       "    <tr>\n",
       "      <th>0</th>\n",
       "      <td>The Good Earth</td>\n",
       "      <td>2.0</td>\n",
       "      <td>The book The Good Earth is about the rise and ...</td>\n",
       "      <td>Juvenile Fiction</td>\n",
       "      <td>262</td>\n",
       "      <td>0</td>\n",
       "      <td>the book the good earth is about the rise and ...</td>\n",
       "    </tr>\n",
       "    <tr>\n",
       "      <th>1</th>\n",
       "      <td>Like Water for Chocolate</td>\n",
       "      <td>4.0</td>\n",
       "      <td>Don't know why this book sticks in my mind, bu...</td>\n",
       "      <td>Fiction</td>\n",
       "      <td>55</td>\n",
       "      <td>2</td>\n",
       "      <td>do not know why this book sticks in my mind , ...</td>\n",
       "    </tr>\n",
       "    <tr>\n",
       "      <th>2</th>\n",
       "      <td>Shadowy Horses</td>\n",
       "      <td>4.0</td>\n",
       "      <td>By far the best of the latest crop of Romantic...</td>\n",
       "      <td>Fiction</td>\n",
       "      <td>247</td>\n",
       "      <td>2</td>\n",
       "      <td>by far the best of the latest crop of romantic...</td>\n",
       "    </tr>\n",
       "    <tr>\n",
       "      <th>3</th>\n",
       "      <td>The Hobbitt, or there and back again; illustra...</td>\n",
       "      <td>5.0</td>\n",
       "      <td>Classic tale, great illustrations. A known qua...</td>\n",
       "      <td>Fiction</td>\n",
       "      <td>23</td>\n",
       "      <td>2</td>\n",
       "      <td>classic tale , great illustrations . a known q...</td>\n",
       "    </tr>\n",
       "    <tr>\n",
       "      <th>4</th>\n",
       "      <td>Shamanspace</td>\n",
       "      <td>1.0</td>\n",
       "      <td>For the past year, I had come across Steve Ayl...</td>\n",
       "      <td>Fiction</td>\n",
       "      <td>226</td>\n",
       "      <td>0</td>\n",
       "      <td>for the past year , i had come across steve ay...</td>\n",
       "    </tr>\n",
       "  </tbody>\n",
       "</table>\n",
       "</div>"
      ],
      "text/plain": [
       "                                               Title  review/score  \\\n",
       "0                                     The Good Earth           2.0   \n",
       "1                           Like Water for Chocolate           4.0   \n",
       "2                                     Shadowy Horses           4.0   \n",
       "3  The Hobbitt, or there and back again; illustra...           5.0   \n",
       "4                                        Shamanspace           1.0   \n",
       "\n",
       "                                         review/text        categories  \\\n",
       "0  The book The Good Earth is about the rise and ...  Juvenile Fiction   \n",
       "1  Don't know why this book sticks in my mind, bu...           Fiction   \n",
       "2  By far the best of the latest crop of Romantic...           Fiction   \n",
       "3  Classic tale, great illustrations. A known qua...           Fiction   \n",
       "4  For the past year, I had come across Steve Ayl...           Fiction   \n",
       "\n",
       "   word_count  label                                    cleaned_text_dl  \n",
       "0         262      0  the book the good earth is about the rise and ...  \n",
       "1          55      2  do not know why this book sticks in my mind , ...  \n",
       "2         247      2  by far the best of the latest crop of romantic...  \n",
       "3          23      2  classic tale , great illustrations . a known q...  \n",
       "4         226      0  for the past year , i had come across steve ay...  "
      ]
     },
     "execution_count": 4,
     "metadata": {},
     "output_type": "execute_result"
    }
   ],
   "source": [
    "import pandas as pd\n",
    "df = pd.read_csv('/kaggle/input/processed-dl/balanced30k_processed_dl.csv')\n",
    "df.head()"
   ]
  },
  {
   "cell_type": "code",
   "execution_count": 5,
   "id": "20fe4543",
   "metadata": {
    "execution": {
     "iopub.execute_input": "2025-09-03T17:18:47.495625Z",
     "iopub.status.busy": "2025-09-03T17:18:47.495341Z",
     "iopub.status.idle": "2025-09-03T17:19:04.243884Z",
     "shell.execute_reply": "2025-09-03T17:19:04.243097Z"
    },
    "papermill": {
     "duration": 16.75475,
     "end_time": "2025-09-03T17:19:04.245514",
     "exception": false,
     "start_time": "2025-09-03T17:18:47.490764",
     "status": "completed"
    },
    "tags": []
   },
   "outputs": [
    {
     "name": "stderr",
     "output_type": "stream",
     "text": [
      "2025-09-03 17:18:49.731014: E external/local_xla/xla/stream_executor/cuda/cuda_fft.cc:477] Unable to register cuFFT factory: Attempting to register factory for plugin cuFFT when one has already been registered\n",
      "WARNING: All log messages before absl::InitializeLog() is called are written to STDERR\n",
      "E0000 00:00:1756919929.964197      13 cuda_dnn.cc:8310] Unable to register cuDNN factory: Attempting to register factory for plugin cuDNN when one has already been registered\n",
      "E0000 00:00:1756919930.032161      13 cuda_blas.cc:1418] Unable to register cuBLAS factory: Attempting to register factory for plugin cuBLAS when one has already been registered\n"
     ]
    }
   ],
   "source": [
    "from tensorflow.keras.preprocessing.text import Tokenizer\n",
    "from tensorflow.keras.preprocessing.sequence import pad_sequences\n",
    "from sklearn.model_selection import train_test_split\n",
    "from sklearn.preprocessing import LabelEncoder\n",
    "\n",
    "# Dataset\n",
    "X = df['cleaned_text_dl']\n",
    "y = df['label']"
   ]
  },
  {
   "cell_type": "code",
   "execution_count": 6,
   "id": "2eecbd43",
   "metadata": {
    "execution": {
     "iopub.execute_input": "2025-09-03T17:19:04.256363Z",
     "iopub.status.busy": "2025-09-03T17:19:04.255847Z",
     "iopub.status.idle": "2025-09-03T17:19:04.290196Z",
     "shell.execute_reply": "2025-09-03T17:19:04.288818Z"
    },
    "papermill": {
     "duration": 0.042063,
     "end_time": "2025-09-03T17:19:04.291736",
     "exception": false,
     "start_time": "2025-09-03T17:19:04.249673",
     "status": "completed"
    },
    "tags": []
   },
   "outputs": [
    {
     "name": "stdout",
     "output_type": "stream",
     "text": [
      "Train size: 21000\n",
      "Validation size: 6000\n",
      "Test size: 3000\n"
     ]
    }
   ],
   "source": [
    "# Split into train (70%), val (20%), test (10%) with stratification to keep class balance\n",
    "X_train, X_temp, y_train, y_temp = train_test_split(\n",
    "    X, y, test_size=0.3, random_state=42, stratify=y)\n",
    "\n",
    "X_val, X_test, y_val, y_test = train_test_split(\n",
    "    X_temp, y_temp, test_size=1/3, random_state=42, stratify=y_temp)\n",
    "\n",
    "print(f'Train size: {len(X_train)}')\n",
    "print(f'Validation size: {len(X_val)}')\n",
    "print(f'Test size: {len(X_test)}')"
   ]
  },
  {
   "cell_type": "code",
   "execution_count": 7,
   "id": "c3a28a10",
   "metadata": {
    "execution": {
     "iopub.execute_input": "2025-09-03T17:19:04.300997Z",
     "iopub.status.busy": "2025-09-03T17:19:04.300642Z",
     "iopub.status.idle": "2025-09-03T17:19:08.381005Z",
     "shell.execute_reply": "2025-09-03T17:19:08.379957Z"
    },
    "papermill": {
     "duration": 4.086354,
     "end_time": "2025-09-03T17:19:08.382287",
     "exception": false,
     "start_time": "2025-09-03T17:19:04.295933",
     "status": "completed"
    },
    "tags": []
   },
   "outputs": [
    {
     "name": "stdout",
     "output_type": "stream",
     "text": [
      "Example tokenized sequence: [44, 23, 22, 25, 1326, 2525, 16, 21, 1, 313, 23, 53, 269, 124, 12, 11, 66, 38, 699, 1143, 8, 57, 708, 207, 9908, 221, 1, 55, 43, 1, 2, 1, 49, 382, 10, 130, 1143, 16, 21, 66, 8, 50, 5201, 3, 1, 83, 2, 334, 964, 3, 10957, 235, 4, 1, 313, 87, 99, 22, 5729, 28, 2, 719, 1, 4, 1996, 10, 1143, 16, 21, 66, 27, 15099, 1014, 3497, 4438, 1, 3, 995, 5869, 18, 6797, 254, 6, 1, 1, 313, 3, 13095, 429, 2, 1, 3, 1, 1, 4, 6613, 26, 1472, 184, 257, 6798, 18, 103, 33, 9, 15, 122, 10, 13096, 60, 780, 15, 2895, 231, 42, 160, 1996, 3, 1887, 17, 5, 129, 1382, 5, 67, 10, 73, 310, 4, 87, 7918, 15100, 10, 5, 563, 11621, 317, 3378, 11, 3809, 42, 2, 177, 2109, 3, 743, 10397, 4, 2, 7919, 6, 2, 5730, 528, 4, 2, 6993, 1629, 4665, 46, 3999, 53, 124, 143, 10, 11, 13, 12, 8, 1008, 2712, 25, 9, 824, 9, 8, 5, 751, 339, 3, 37, 1, 3416]\n",
      "Example padded sequence shape: (21000, 250)\n"
     ]
    }
   ],
   "source": [
    "max_vocab_size = 20000\n",
    "max_sequence_length = 250\n",
    "\n",
    "tokenizer = Tokenizer(num_words=max_vocab_size, oov_token=\"<OOV>\")\n",
    "tokenizer.fit_on_texts(X_train)\n",
    "\n",
    "X_train_seq = tokenizer.texts_to_sequences(X_train)\n",
    "X_val_seq = tokenizer.texts_to_sequences(X_val)\n",
    "X_test_seq = tokenizer.texts_to_sequences(X_test)\n",
    "\n",
    "X_train_pad = pad_sequences(X_train_seq, maxlen=max_sequence_length, padding='post')\n",
    "X_val_pad = pad_sequences(X_val_seq, maxlen=max_sequence_length, padding='post')\n",
    "X_test_pad = pad_sequences(X_test_seq, maxlen=max_sequence_length, padding='post')\n",
    "\n",
    "print(f'Example tokenized sequence: {X_train_seq[0]}')\n",
    "print(f'Example padded sequence shape: {X_train_pad.shape}')"
   ]
  },
  {
   "cell_type": "code",
   "execution_count": 8,
   "id": "f319aa12",
   "metadata": {
    "execution": {
     "iopub.execute_input": "2025-09-03T17:19:08.390682Z",
     "iopub.status.busy": "2025-09-03T17:19:08.390432Z",
     "iopub.status.idle": "2025-09-03T17:22:12.214126Z",
     "shell.execute_reply": "2025-09-03T17:22:12.212865Z"
    },
    "papermill": {
     "duration": 183.830002,
     "end_time": "2025-09-03T17:22:12.215999",
     "exception": false,
     "start_time": "2025-09-03T17:19:08.385997",
     "status": "completed"
    },
    "tags": []
   },
   "outputs": [
    {
     "name": "stdout",
     "output_type": "stream",
     "text": [
      "--2025-09-03 17:19:08--  http://nlp.stanford.edu/data/glove.6B.zip\r\n",
      "Resolving nlp.stanford.edu (nlp.stanford.edu)... 171.64.67.140\r\n",
      "Connecting to nlp.stanford.edu (nlp.stanford.edu)|171.64.67.140|:80... connected.\r\n",
      "HTTP request sent, awaiting response... 302 Found\r\n",
      "Location: https://nlp.stanford.edu/data/glove.6B.zip [following]\r\n",
      "--2025-09-03 17:19:08--  https://nlp.stanford.edu/data/glove.6B.zip\r\n",
      "Connecting to nlp.stanford.edu (nlp.stanford.edu)|171.64.67.140|:443... connected.\r\n",
      "HTTP request sent, awaiting response... 301 Moved Permanently\r\n",
      "Location: https://downloads.cs.stanford.edu/nlp/data/glove.6B.zip [following]\r\n",
      "--2025-09-03 17:19:08--  https://downloads.cs.stanford.edu/nlp/data/glove.6B.zip\r\n",
      "Resolving downloads.cs.stanford.edu (downloads.cs.stanford.edu)... 171.64.64.22\r\n",
      "Connecting to downloads.cs.stanford.edu (downloads.cs.stanford.edu)|171.64.64.22|:443... connected.\r\n",
      "HTTP request sent, awaiting response... 200 OK\r\n",
      "Length: 862182613 (822M) [application/zip]\r\n",
      "Saving to: ‘glove.6B.zip’\r\n",
      "\r\n",
      "glove.6B.zip        100%[===================>] 822.24M  5.00MB/s    in 2m 39s  \r\n",
      "\r\n",
      "2025-09-03 17:21:48 (5.17 MB/s) - ‘glove.6B.zip’ saved [862182613/862182613]\r\n",
      "\r\n",
      "Archive:  glove.6B.zip\r\n",
      "  inflating: glove.6B.50d.txt        \r\n",
      "  inflating: glove.6B.100d.txt       \r\n",
      "  inflating: glove.6B.200d.txt       \r\n",
      "  inflating: glove.6B.300d.txt       \r\n"
     ]
    }
   ],
   "source": [
    "!wget --no-check-certificate http://nlp.stanford.edu/data/glove.6B.zip\n",
    "!unzip glove.6B.zip"
   ]
  },
  {
   "cell_type": "code",
   "execution_count": 9,
   "id": "1faba330",
   "metadata": {
    "execution": {
     "iopub.execute_input": "2025-09-03T17:22:12.299836Z",
     "iopub.status.busy": "2025-09-03T17:22:12.299141Z",
     "iopub.status.idle": "2025-09-03T17:22:22.019333Z",
     "shell.execute_reply": "2025-09-03T17:22:22.018486Z"
    },
    "papermill": {
     "duration": 9.76369,
     "end_time": "2025-09-03T17:22:22.020768",
     "exception": false,
     "start_time": "2025-09-03T17:22:12.257078",
     "status": "completed"
    },
    "tags": []
   },
   "outputs": [
    {
     "name": "stdout",
     "output_type": "stream",
     "text": [
      "Loaded 400000 word vectors.\n"
     ]
    }
   ],
   "source": [
    "embedding_index = {}\n",
    "with open(\"glove.6B.100d.txt\", encoding='utf8') as f:\n",
    "    for line in f:\n",
    "        values = line.split()\n",
    "        word = values[0]\n",
    "        coefs = np.asarray(values[1:], dtype='float32')\n",
    "        embedding_index[word] = coefs\n",
    "\n",
    "print(f\"Loaded {len(embedding_index)} word vectors.\")"
   ]
  },
  {
   "cell_type": "code",
   "execution_count": 10,
   "id": "60b70814",
   "metadata": {
    "execution": {
     "iopub.execute_input": "2025-09-03T17:22:22.166792Z",
     "iopub.status.busy": "2025-09-03T17:22:22.166418Z",
     "iopub.status.idle": "2025-09-03T17:22:22.241113Z",
     "shell.execute_reply": "2025-09-03T17:22:22.240178Z"
    },
    "papermill": {
     "duration": 0.116733,
     "end_time": "2025-09-03T17:22:22.242806",
     "exception": false,
     "start_time": "2025-09-03T17:22:22.126073",
     "status": "completed"
    },
    "tags": []
   },
   "outputs": [],
   "source": [
    "embedding_dim = 100\n",
    "word_index = tokenizer.word_index\n",
    "num_words = min(max_vocab_size, len(word_index) + 1)\n",
    "\n",
    "# Build embedding matrix\n",
    "embedding_matrix = np.zeros((num_words, embedding_dim))\n",
    "\n",
    "for word, i in word_index.items():\n",
    "    if i < num_words:\n",
    "        embedding_vector = embedding_index.get(word)\n",
    "        if embedding_vector is not None:\n",
    "            embedding_matrix[i] = embedding_vector"
   ]
  },
  {
   "cell_type": "code",
   "execution_count": 11,
   "id": "0dd0d0c2",
   "metadata": {
    "execution": {
     "iopub.execute_input": "2025-09-03T17:22:22.325283Z",
     "iopub.status.busy": "2025-09-03T17:22:22.324931Z",
     "iopub.status.idle": "2025-09-03T17:22:22.516193Z",
     "shell.execute_reply": "2025-09-03T17:22:22.515504Z"
    },
    "papermill": {
     "duration": 0.233977,
     "end_time": "2025-09-03T17:22:22.517470",
     "exception": false,
     "start_time": "2025-09-03T17:22:22.283493",
     "status": "completed"
    },
    "tags": []
   },
   "outputs": [
    {
     "name": "stderr",
     "output_type": "stream",
     "text": [
      "/usr/local/lib/python3.11/dist-packages/keras/src/layers/core/embedding.py:97: UserWarning: Argument `input_length` is deprecated. Just remove it.\n",
      "  warnings.warn(\n",
      "2025-09-03 17:22:22.346529: E external/local_xla/xla/stream_executor/cuda/cuda_driver.cc:152] failed call to cuInit: INTERNAL: CUDA error: Failed call to cuInit: UNKNOWN ERROR (303)\n"
     ]
    },
    {
     "data": {
      "text/html": [
       "<pre style=\"white-space:pre;overflow-x:auto;line-height:normal;font-family:Menlo,'DejaVu Sans Mono',consolas,'Courier New',monospace\"><span style=\"font-weight: bold\">Model: \"sequential\"</span>\n",
       "</pre>\n"
      ],
      "text/plain": [
       "\u001b[1mModel: \"sequential\"\u001b[0m\n"
      ]
     },
     "metadata": {},
     "output_type": "display_data"
    },
    {
     "data": {
      "text/html": [
       "<pre style=\"white-space:pre;overflow-x:auto;line-height:normal;font-family:Menlo,'DejaVu Sans Mono',consolas,'Courier New',monospace\">┏━━━━━━━━━━━━━━━━━━━━━━━━━━━━━━━━━━━━━━┳━━━━━━━━━━━━━━━━━━━━━━━━━━━━━┳━━━━━━━━━━━━━━━━━┓\n",
       "┃<span style=\"font-weight: bold\"> Layer (type)                         </span>┃<span style=\"font-weight: bold\"> Output Shape                </span>┃<span style=\"font-weight: bold\">         Param # </span>┃\n",
       "┡━━━━━━━━━━━━━━━━━━━━━━━━━━━━━━━━━━━━━━╇━━━━━━━━━━━━━━━━━━━━━━━━━━━━━╇━━━━━━━━━━━━━━━━━┩\n",
       "│ embedding (<span style=\"color: #0087ff; text-decoration-color: #0087ff\">Embedding</span>)                │ ?                           │       <span style=\"color: #00af00; text-decoration-color: #00af00\">2,000,000</span> │\n",
       "├──────────────────────────────────────┼─────────────────────────────┼─────────────────┤\n",
       "│ spatial_dropout1d (<span style=\"color: #0087ff; text-decoration-color: #0087ff\">SpatialDropout1D</span>) │ ?                           │               <span style=\"color: #00af00; text-decoration-color: #00af00\">0</span> │\n",
       "├──────────────────────────────────────┼─────────────────────────────┼─────────────────┤\n",
       "│ bidirectional (<span style=\"color: #0087ff; text-decoration-color: #0087ff\">Bidirectional</span>)        │ ?                           │     <span style=\"color: #00af00; text-decoration-color: #00af00\">0</span> (unbuilt) │\n",
       "├──────────────────────────────────────┼─────────────────────────────┼─────────────────┤\n",
       "│ dropout (<span style=\"color: #0087ff; text-decoration-color: #0087ff\">Dropout</span>)                    │ ?                           │               <span style=\"color: #00af00; text-decoration-color: #00af00\">0</span> │\n",
       "├──────────────────────────────────────┼─────────────────────────────┼─────────────────┤\n",
       "│ global_max_pooling1d                 │ ?                           │               <span style=\"color: #00af00; text-decoration-color: #00af00\">0</span> │\n",
       "│ (<span style=\"color: #0087ff; text-decoration-color: #0087ff\">GlobalMaxPooling1D</span>)                 │                             │                 │\n",
       "├──────────────────────────────────────┼─────────────────────────────┼─────────────────┤\n",
       "│ dense (<span style=\"color: #0087ff; text-decoration-color: #0087ff\">Dense</span>)                        │ ?                           │     <span style=\"color: #00af00; text-decoration-color: #00af00\">0</span> (unbuilt) │\n",
       "├──────────────────────────────────────┼─────────────────────────────┼─────────────────┤\n",
       "│ dropout_1 (<span style=\"color: #0087ff; text-decoration-color: #0087ff\">Dropout</span>)                  │ ?                           │               <span style=\"color: #00af00; text-decoration-color: #00af00\">0</span> │\n",
       "├──────────────────────────────────────┼─────────────────────────────┼─────────────────┤\n",
       "│ dense_1 (<span style=\"color: #0087ff; text-decoration-color: #0087ff\">Dense</span>)                      │ ?                           │     <span style=\"color: #00af00; text-decoration-color: #00af00\">0</span> (unbuilt) │\n",
       "└──────────────────────────────────────┴─────────────────────────────┴─────────────────┘\n",
       "</pre>\n"
      ],
      "text/plain": [
       "┏━━━━━━━━━━━━━━━━━━━━━━━━━━━━━━━━━━━━━━┳━━━━━━━━━━━━━━━━━━━━━━━━━━━━━┳━━━━━━━━━━━━━━━━━┓\n",
       "┃\u001b[1m \u001b[0m\u001b[1mLayer (type)                        \u001b[0m\u001b[1m \u001b[0m┃\u001b[1m \u001b[0m\u001b[1mOutput Shape               \u001b[0m\u001b[1m \u001b[0m┃\u001b[1m \u001b[0m\u001b[1m        Param #\u001b[0m\u001b[1m \u001b[0m┃\n",
       "┡━━━━━━━━━━━━━━━━━━━━━━━━━━━━━━━━━━━━━━╇━━━━━━━━━━━━━━━━━━━━━━━━━━━━━╇━━━━━━━━━━━━━━━━━┩\n",
       "│ embedding (\u001b[38;5;33mEmbedding\u001b[0m)                │ ?                           │       \u001b[38;5;34m2,000,000\u001b[0m │\n",
       "├──────────────────────────────────────┼─────────────────────────────┼─────────────────┤\n",
       "│ spatial_dropout1d (\u001b[38;5;33mSpatialDropout1D\u001b[0m) │ ?                           │               \u001b[38;5;34m0\u001b[0m │\n",
       "├──────────────────────────────────────┼─────────────────────────────┼─────────────────┤\n",
       "│ bidirectional (\u001b[38;5;33mBidirectional\u001b[0m)        │ ?                           │     \u001b[38;5;34m0\u001b[0m (unbuilt) │\n",
       "├──────────────────────────────────────┼─────────────────────────────┼─────────────────┤\n",
       "│ dropout (\u001b[38;5;33mDropout\u001b[0m)                    │ ?                           │               \u001b[38;5;34m0\u001b[0m │\n",
       "├──────────────────────────────────────┼─────────────────────────────┼─────────────────┤\n",
       "│ global_max_pooling1d                 │ ?                           │               \u001b[38;5;34m0\u001b[0m │\n",
       "│ (\u001b[38;5;33mGlobalMaxPooling1D\u001b[0m)                 │                             │                 │\n",
       "├──────────────────────────────────────┼─────────────────────────────┼─────────────────┤\n",
       "│ dense (\u001b[38;5;33mDense\u001b[0m)                        │ ?                           │     \u001b[38;5;34m0\u001b[0m (unbuilt) │\n",
       "├──────────────────────────────────────┼─────────────────────────────┼─────────────────┤\n",
       "│ dropout_1 (\u001b[38;5;33mDropout\u001b[0m)                  │ ?                           │               \u001b[38;5;34m0\u001b[0m │\n",
       "├──────────────────────────────────────┼─────────────────────────────┼─────────────────┤\n",
       "│ dense_1 (\u001b[38;5;33mDense\u001b[0m)                      │ ?                           │     \u001b[38;5;34m0\u001b[0m (unbuilt) │\n",
       "└──────────────────────────────────────┴─────────────────────────────┴─────────────────┘\n"
      ]
     },
     "metadata": {},
     "output_type": "display_data"
    },
    {
     "data": {
      "text/html": [
       "<pre style=\"white-space:pre;overflow-x:auto;line-height:normal;font-family:Menlo,'DejaVu Sans Mono',consolas,'Courier New',monospace\"><span style=\"font-weight: bold\"> Total params: </span><span style=\"color: #00af00; text-decoration-color: #00af00\">2,000,000</span> (7.63 MB)\n",
       "</pre>\n"
      ],
      "text/plain": [
       "\u001b[1m Total params: \u001b[0m\u001b[38;5;34m2,000,000\u001b[0m (7.63 MB)\n"
      ]
     },
     "metadata": {},
     "output_type": "display_data"
    },
    {
     "data": {
      "text/html": [
       "<pre style=\"white-space:pre;overflow-x:auto;line-height:normal;font-family:Menlo,'DejaVu Sans Mono',consolas,'Courier New',monospace\"><span style=\"font-weight: bold\"> Trainable params: </span><span style=\"color: #00af00; text-decoration-color: #00af00\">2,000,000</span> (7.63 MB)\n",
       "</pre>\n"
      ],
      "text/plain": [
       "\u001b[1m Trainable params: \u001b[0m\u001b[38;5;34m2,000,000\u001b[0m (7.63 MB)\n"
      ]
     },
     "metadata": {},
     "output_type": "display_data"
    },
    {
     "data": {
      "text/html": [
       "<pre style=\"white-space:pre;overflow-x:auto;line-height:normal;font-family:Menlo,'DejaVu Sans Mono',consolas,'Courier New',monospace\"><span style=\"font-weight: bold\"> Non-trainable params: </span><span style=\"color: #00af00; text-decoration-color: #00af00\">0</span> (0.00 B)\n",
       "</pre>\n"
      ],
      "text/plain": [
       "\u001b[1m Non-trainable params: \u001b[0m\u001b[38;5;34m0\u001b[0m (0.00 B)\n"
      ]
     },
     "metadata": {},
     "output_type": "display_data"
    }
   ],
   "source": [
    "from tensorflow.keras.models import Sequential\n",
    "from tensorflow.keras.layers import Embedding, SpatialDropout1D, Bidirectional, LSTM, Dense, Dropout, GlobalMaxPooling1D\n",
    "from tensorflow.keras.optimizers import Adam\n",
    "from tensorflow.keras.regularizers import l2\n",
    "\n",
    "model_bilstm = Sequential()\n",
    "model_bilstm.add(Embedding(input_dim=num_words,\n",
    "                           output_dim=embedding_dim,\n",
    "                           weights=[embedding_matrix],\n",
    "                           input_length=max_sequence_length,\n",
    "                           trainable=True))\n",
    "model_bilstm.add(SpatialDropout1D(0.2)),\n",
    "# Bidirectional LSTM, return_sequences=True to use all time steps\n",
    "model_bilstm.add(Bidirectional(LSTM(128, return_sequences=True, dropout=0.3)))\n",
    "\n",
    "model_bilstm.add(Dropout(0.35))\n",
    "\n",
    "model_bilstm.add(GlobalMaxPooling1D())\n",
    "\n",
    "model_bilstm.add(Dense(64, activation='relu', kernel_regularizer=l2(1e-4)))\n",
    "\n",
    "model_bilstm.add(Dropout(0.35))\n",
    "\n",
    "model_bilstm.add(Dense(3, activation='softmax'))\n",
    "\n",
    "model_bilstm.compile(optimizer=Adam(5e-5, clipnorm=1.0), \n",
    "                     loss='sparse_categorical_crossentropy', \n",
    "                     metrics=['accuracy'])\n",
    "model_bilstm.summary()"
   ]
  },
  {
   "cell_type": "code",
   "execution_count": 12,
   "id": "d48cb937",
   "metadata": {
    "execution": {
     "iopub.execute_input": "2025-09-03T17:22:22.598460Z",
     "iopub.status.busy": "2025-09-03T17:22:22.597918Z",
     "iopub.status.idle": "2025-09-03T21:15:28.592148Z",
     "shell.execute_reply": "2025-09-03T21:15:28.589422Z"
    },
    "papermill": {
     "duration": 13986.062175,
     "end_time": "2025-09-03T21:15:28.619435",
     "exception": false,
     "start_time": "2025-09-03T17:22:22.557260",
     "status": "completed"
    },
    "tags": []
   },
   "outputs": [
    {
     "name": "stdout",
     "output_type": "stream",
     "text": [
      "Epoch 1/50\n",
      "657/657 - 288s - 438ms/step - accuracy: 0.3493 - loss: 1.1303 - val_accuracy: 0.3752 - val_loss: 1.1023 - learning_rate: 5.0000e-05\n",
      "Epoch 2/50\n",
      "657/657 - 272s - 414ms/step - accuracy: 0.3761 - loss: 1.1016 - val_accuracy: 0.4600 - val_loss: 1.0929 - learning_rate: 5.0000e-05\n",
      "Epoch 3/50\n",
      "657/657 - 276s - 421ms/step - accuracy: 0.4031 - loss: 1.0904 - val_accuracy: 0.4643 - val_loss: 1.0744 - learning_rate: 5.0000e-05\n",
      "Epoch 4/50\n",
      "657/657 - 295s - 449ms/step - accuracy: 0.4264 - loss: 1.0717 - val_accuracy: 0.4813 - val_loss: 1.0530 - learning_rate: 5.0000e-05\n",
      "Epoch 5/50\n",
      "657/657 - 276s - 420ms/step - accuracy: 0.4552 - loss: 1.0434 - val_accuracy: 0.4928 - val_loss: 1.0188 - learning_rate: 5.0000e-05\n",
      "Epoch 6/50\n",
      "657/657 - 275s - 418ms/step - accuracy: 0.4864 - loss: 1.0119 - val_accuracy: 0.5295 - val_loss: 0.9805 - learning_rate: 5.0000e-05\n",
      "Epoch 7/50\n",
      "657/657 - 274s - 417ms/step - accuracy: 0.5035 - loss: 0.9928 - val_accuracy: 0.5088 - val_loss: 0.9809 - learning_rate: 5.0000e-05\n",
      "Epoch 8/50\n",
      "657/657 - 275s - 419ms/step - accuracy: 0.5199 - loss: 0.9698 - val_accuracy: 0.5367 - val_loss: 0.9481 - learning_rate: 5.0000e-05\n",
      "Epoch 9/50\n",
      "657/657 - 273s - 416ms/step - accuracy: 0.5306 - loss: 0.9568 - val_accuracy: 0.5583 - val_loss: 0.9183 - learning_rate: 5.0000e-05\n",
      "Epoch 10/50\n",
      "657/657 - 276s - 420ms/step - accuracy: 0.5424 - loss: 0.9405 - val_accuracy: 0.5653 - val_loss: 0.9124 - learning_rate: 5.0000e-05\n",
      "Epoch 11/50\n",
      "657/657 - 277s - 422ms/step - accuracy: 0.5533 - loss: 0.9268 - val_accuracy: 0.5760 - val_loss: 0.9012 - learning_rate: 5.0000e-05\n",
      "Epoch 12/50\n",
      "657/657 - 279s - 424ms/step - accuracy: 0.5638 - loss: 0.9098 - val_accuracy: 0.5852 - val_loss: 0.8844 - learning_rate: 5.0000e-05\n",
      "Epoch 13/50\n",
      "657/657 - 275s - 418ms/step - accuracy: 0.5754 - loss: 0.8967 - val_accuracy: 0.5947 - val_loss: 0.8756 - learning_rate: 5.0000e-05\n",
      "Epoch 14/50\n",
      "657/657 - 273s - 416ms/step - accuracy: 0.5807 - loss: 0.8867 - val_accuracy: 0.6012 - val_loss: 0.8710 - learning_rate: 5.0000e-05\n",
      "Epoch 15/50\n",
      "657/657 - 274s - 417ms/step - accuracy: 0.5786 - loss: 0.8807 - val_accuracy: 0.6017 - val_loss: 0.8752 - learning_rate: 5.0000e-05\n",
      "Epoch 16/50\n",
      "657/657 - 275s - 418ms/step - accuracy: 0.5921 - loss: 0.8670 - val_accuracy: 0.6138 - val_loss: 0.8518 - learning_rate: 5.0000e-05\n",
      "Epoch 17/50\n",
      "657/657 - 273s - 415ms/step - accuracy: 0.6047 - loss: 0.8542 - val_accuracy: 0.6210 - val_loss: 0.8393 - learning_rate: 5.0000e-05\n",
      "Epoch 18/50\n",
      "657/657 - 272s - 414ms/step - accuracy: 0.6077 - loss: 0.8430 - val_accuracy: 0.6288 - val_loss: 0.8323 - learning_rate: 5.0000e-05\n",
      "Epoch 19/50\n",
      "657/657 - 276s - 420ms/step - accuracy: 0.6135 - loss: 0.8409 - val_accuracy: 0.6338 - val_loss: 0.8281 - learning_rate: 5.0000e-05\n",
      "Epoch 20/50\n",
      "657/657 - 275s - 418ms/step - accuracy: 0.6192 - loss: 0.8295 - val_accuracy: 0.6375 - val_loss: 0.8210 - learning_rate: 5.0000e-05\n",
      "Epoch 21/50\n",
      "657/657 - 276s - 420ms/step - accuracy: 0.6238 - loss: 0.8184 - val_accuracy: 0.6408 - val_loss: 0.8193 - learning_rate: 5.0000e-05\n",
      "Epoch 22/50\n",
      "657/657 - 274s - 417ms/step - accuracy: 0.6281 - loss: 0.8117 - val_accuracy: 0.6462 - val_loss: 0.8114 - learning_rate: 5.0000e-05\n",
      "Epoch 23/50\n",
      "657/657 - 279s - 424ms/step - accuracy: 0.6280 - loss: 0.8096 - val_accuracy: 0.6382 - val_loss: 0.8151 - learning_rate: 5.0000e-05\n",
      "Epoch 24/50\n",
      "657/657 - 275s - 419ms/step - accuracy: 0.6366 - loss: 0.7970 - val_accuracy: 0.6512 - val_loss: 0.7974 - learning_rate: 5.0000e-05\n",
      "Epoch 25/50\n",
      "657/657 - 274s - 417ms/step - accuracy: 0.6444 - loss: 0.7878 - val_accuracy: 0.6537 - val_loss: 0.7948 - learning_rate: 5.0000e-05\n",
      "Epoch 26/50\n",
      "657/657 - 275s - 419ms/step - accuracy: 0.6459 - loss: 0.7851 - val_accuracy: 0.6495 - val_loss: 0.7901 - learning_rate: 5.0000e-05\n",
      "Epoch 27/50\n",
      "657/657 - 281s - 428ms/step - accuracy: 0.6490 - loss: 0.7818 - val_accuracy: 0.6567 - val_loss: 0.7892 - learning_rate: 5.0000e-05\n",
      "Epoch 28/50\n",
      "657/657 - 277s - 422ms/step - accuracy: 0.6544 - loss: 0.7709 - val_accuracy: 0.6623 - val_loss: 0.7787 - learning_rate: 5.0000e-05\n",
      "Epoch 29/50\n",
      "657/657 - 274s - 417ms/step - accuracy: 0.6554 - loss: 0.7658 - val_accuracy: 0.6605 - val_loss: 0.7792 - learning_rate: 5.0000e-05\n",
      "Epoch 30/50\n",
      "657/657 - 274s - 418ms/step - accuracy: 0.6614 - loss: 0.7579 - val_accuracy: 0.6622 - val_loss: 0.7738 - learning_rate: 5.0000e-05\n",
      "Epoch 31/50\n",
      "657/657 - 275s - 418ms/step - accuracy: 0.6671 - loss: 0.7527 - val_accuracy: 0.6633 - val_loss: 0.7707 - learning_rate: 5.0000e-05\n",
      "Epoch 32/50\n",
      "657/657 - 276s - 420ms/step - accuracy: 0.6667 - loss: 0.7464 - val_accuracy: 0.6672 - val_loss: 0.7712 - learning_rate: 5.0000e-05\n",
      "Epoch 33/50\n",
      "657/657 - 279s - 424ms/step - accuracy: 0.6686 - loss: 0.7477 - val_accuracy: 0.6663 - val_loss: 0.7644 - learning_rate: 5.0000e-05\n",
      "Epoch 34/50\n",
      "657/657 - 278s - 424ms/step - accuracy: 0.6792 - loss: 0.7327 - val_accuracy: 0.6687 - val_loss: 0.7565 - learning_rate: 5.0000e-05\n",
      "Epoch 35/50\n",
      "657/657 - 277s - 422ms/step - accuracy: 0.6790 - loss: 0.7327 - val_accuracy: 0.6693 - val_loss: 0.7518 - learning_rate: 5.0000e-05\n",
      "Epoch 36/50\n",
      "657/657 - 276s - 420ms/step - accuracy: 0.6782 - loss: 0.7286 - val_accuracy: 0.6730 - val_loss: 0.7526 - learning_rate: 5.0000e-05\n",
      "Epoch 37/50\n",
      "657/657 - 322s - 490ms/step - accuracy: 0.6850 - loss: 0.7176 - val_accuracy: 0.6658 - val_loss: 0.7540 - learning_rate: 5.0000e-05\n",
      "Epoch 38/50\n",
      "657/657 - 276s - 419ms/step - accuracy: 0.6850 - loss: 0.7161 - val_accuracy: 0.6748 - val_loss: 0.7458 - learning_rate: 5.0000e-05\n",
      "Epoch 39/50\n",
      "657/657 - 275s - 419ms/step - accuracy: 0.6906 - loss: 0.7096 - val_accuracy: 0.6745 - val_loss: 0.7440 - learning_rate: 5.0000e-05\n",
      "Epoch 40/50\n",
      "657/657 - 295s - 449ms/step - accuracy: 0.6924 - loss: 0.7061 - val_accuracy: 0.6838 - val_loss: 0.7381 - learning_rate: 5.0000e-05\n",
      "Epoch 41/50\n",
      "657/657 - 278s - 424ms/step - accuracy: 0.6949 - loss: 0.6993 - val_accuracy: 0.6760 - val_loss: 0.7410 - learning_rate: 5.0000e-05\n",
      "Epoch 42/50\n",
      "657/657 - 280s - 426ms/step - accuracy: 0.6998 - loss: 0.6959 - val_accuracy: 0.6802 - val_loss: 0.7372 - learning_rate: 5.0000e-05\n",
      "Epoch 43/50\n",
      "657/657 - 298s - 453ms/step - accuracy: 0.7007 - loss: 0.6918 - val_accuracy: 0.6818 - val_loss: 0.7327 - learning_rate: 5.0000e-05\n",
      "Epoch 44/50\n",
      "657/657 - 277s - 422ms/step - accuracy: 0.7015 - loss: 0.6866 - val_accuracy: 0.6858 - val_loss: 0.7294 - learning_rate: 5.0000e-05\n",
      "Epoch 45/50\n",
      "657/657 - 283s - 430ms/step - accuracy: 0.7084 - loss: 0.6804 - val_accuracy: 0.6817 - val_loss: 0.7292 - learning_rate: 5.0000e-05\n",
      "Epoch 46/50\n",
      "657/657 - 323s - 491ms/step - accuracy: 0.7124 - loss: 0.6745 - val_accuracy: 0.6843 - val_loss: 0.7268 - learning_rate: 5.0000e-05\n",
      "Epoch 47/50\n",
      "657/657 - 283s - 431ms/step - accuracy: 0.7084 - loss: 0.6768 - val_accuracy: 0.6820 - val_loss: 0.7252 - learning_rate: 5.0000e-05\n",
      "Epoch 48/50\n",
      "657/657 - 284s - 432ms/step - accuracy: 0.7133 - loss: 0.6689 - val_accuracy: 0.6855 - val_loss: 0.7253 - learning_rate: 5.0000e-05\n",
      "Epoch 49/50\n",
      "657/657 - 281s - 428ms/step - accuracy: 0.7134 - loss: 0.6643 - val_accuracy: 0.6890 - val_loss: 0.7193 - learning_rate: 5.0000e-05\n",
      "Epoch 50/50\n",
      "657/657 - 282s - 430ms/step - accuracy: 0.7184 - loss: 0.6605 - val_accuracy: 0.6853 - val_loss: 0.7223 - learning_rate: 5.0000e-05\n",
      "Restoring model weights from the end of the best epoch: 49.\n"
     ]
    }
   ],
   "source": [
    "from tensorflow.keras.callbacks import EarlyStopping, ReduceLROnPlateau\n",
    "\n",
    "early_stop = EarlyStopping(monitor='val_loss', \n",
    "                           patience=5,    # stop if no improvement after 4 epochs\n",
    "                           restore_best_weights=True,  # keep best model weights\n",
    "                           verbose=1)\n",
    "\n",
    "reduce_lr = ReduceLROnPlateau(monitor='val_loss', \n",
    "                              factor=0.5, \n",
    "                              patience=3, \n",
    "                              min_lr=1e-6, \n",
    "                              verbose=1)\n",
    "history = model_bilstm.fit(\n",
    "    X_train_pad, \n",
    "    y_train, \n",
    "    epochs=50,           # Start with 10 epochs, adjust based on over/underfitting\n",
    "    batch_size=32,       # Common batch size for moderate dataset size\n",
    "    validation_data=(X_val_pad, y_val),\n",
    "    callbacks=[early_stop, reduce_lr],\n",
    "    verbose=2\n",
    ")"
   ]
  },
  {
   "cell_type": "code",
   "execution_count": 13,
   "id": "578944db",
   "metadata": {
    "execution": {
     "iopub.execute_input": "2025-09-03T21:15:28.716871Z",
     "iopub.status.busy": "2025-09-03T21:15:28.716406Z",
     "iopub.status.idle": "2025-09-03T21:15:30.137574Z",
     "shell.execute_reply": "2025-09-03T21:15:30.136741Z"
    },
    "papermill": {
     "duration": 1.474974,
     "end_time": "2025-09-03T21:15:30.139122",
     "exception": false,
     "start_time": "2025-09-03T21:15:28.664148",
     "status": "completed"
    },
    "tags": []
   },
   "outputs": [
    {
     "data": {
      "image/png": "[encoded data removed]",
      "text/plain": [
       "<Figure size 700x500 with 1 Axes>"
      ]
     },
     "metadata": {},
     "output_type": "display_data"
    },
    {
     "data": {
      "image/png": "[encoded data removed]",
      "text/plain": [
       "<Figure size 700x500 with 1 Axes>"
      ]
     },
     "metadata": {},
     "output_type": "display_data"
    }
   ],
   "source": [
    "import matplotlib.pyplot as plt\n",
    "\n",
    "# Accuracy plot\n",
    "plt.figure(figsize=(7, 5))\n",
    "plt.plot(history.history['accuracy'], label='Train Accuracy')\n",
    "plt.plot(history.history['val_accuracy'], label='Validation Accuracy')\n",
    "plt.title('Model Accuracy')\n",
    "plt.xlabel('Epoch')\n",
    "plt.ylabel('Accuracy')\n",
    "plt.legend()\n",
    "plt.tight_layout()\n",
    "plt.savefig(\"model_accuracy_biLSTM.png\", dpi=300, bbox_inches='tight')\n",
    "plt.show()\n",
    "\n",
    "# Loss plot\n",
    "plt.figure(figsize=(7, 5))   # new figure\n",
    "plt.plot(history.history['loss'], label='Train Loss')\n",
    "plt.plot(history.history['val_loss'], label='Validation Loss')\n",
    "plt.title('Model Loss')\n",
    "plt.xlabel('Epoch')\n",
    "plt.ylabel('Loss')\n",
    "plt.legend()\n",
    "plt.tight_layout()\n",
    "plt.savefig(\"model_loss_biLSTM.png\", dpi=300, bbox_inches='tight')\n",
    "plt.show()"
   ]
  },
  {
   "cell_type": "code",
   "execution_count": 14,
   "id": "d645657d",
   "metadata": {
    "execution": {
     "iopub.execute_input": "2025-09-03T21:15:30.234894Z",
     "iopub.status.busy": "2025-09-03T21:15:30.234036Z",
     "iopub.status.idle": "2025-09-03T21:15:52.826664Z",
     "shell.execute_reply": "2025-09-03T21:15:52.825771Z"
    },
    "papermill": {
     "duration": 22.642449,
     "end_time": "2025-09-03T21:15:52.828376",
     "exception": false,
     "start_time": "2025-09-03T21:15:30.185927",
     "status": "completed"
    },
    "tags": []
   },
   "outputs": [
    {
     "name": "stdout",
     "output_type": "stream",
     "text": [
      "\u001b[1m188/188\u001b[0m \u001b[32m━━━━━━━━━━━━━━━━━━━━\u001b[0m\u001b[37m\u001b[0m \u001b[1m22s\u001b[0m 116ms/step\n"
     ]
    }
   ],
   "source": [
    "# Get predicted probabilities\n",
    "y_val_probs = model_bilstm.predict(X_val_pad)\n",
    "\n",
    "# Convert to predicted class labels (0, 1, 2)\n",
    "y_val_pred = np.argmax(y_val_probs, axis=1)\n",
    "\n",
    "# Convert to numpy arrays\n",
    "y_val_true = np.array(y_val)"
   ]
  },
  {
   "cell_type": "code",
   "execution_count": 15,
   "id": "7bbc33c6",
   "metadata": {
    "execution": {
     "iopub.execute_input": "2025-09-03T21:15:52.941792Z",
     "iopub.status.busy": "2025-09-03T21:15:52.941419Z",
     "iopub.status.idle": "2025-09-03T21:15:52.949581Z",
     "shell.execute_reply": "2025-09-03T21:15:52.948568Z"
    },
    "papermill": {
     "duration": 0.066554,
     "end_time": "2025-09-03T21:15:52.951031",
     "exception": false,
     "start_time": "2025-09-03T21:15:52.884477",
     "status": "completed"
    },
    "tags": []
   },
   "outputs": [
    {
     "name": "stdout",
     "output_type": "stream",
     "text": [
      "Number of misclassified samples: 1866\n",
      "\n",
      " Review: i have read that john ringo basically wrote the books in this series over the course of a few months of frantic writing . i have not read the others , but this was a gritty description of commando style spy antics combined with almost bdsm sexual scenes . the military scenes and descriptions are solid . however , they could not carry the story and the overall plot just felt a bit thin . the sexual scenes felt almost forced at time and did not expand much upon the plot . i could see a male reader wishing he was the main character with his almost mystical ability to pleasure a woman and win her adoration , but in a way the scenes detracted from the characters and their impact . perhaps i should have read books 1 and 2 first so i could get more into the story , but i was able to figure out the basic personalities of most of hte characters , even if i did not know how they became friends and allies . this is definitely a book that will only be enjoyed by a select audience . the sexual scenes will be considered offensive by some , but as always john ringo ' s personal politics bleed into the politics of his writing . as a writer he has a great talent , but his works can end up seeming a bit juvenile due to his style and politics . this one fell into the juvenile category . i do not recommend this book to anyone . there are other better books out there .\n",
      "True label: 0\n",
      "Predicted:  1\n",
      "\n",
      " Review: i am in seventh grade , and had to choose any book for a book report . i am a dancer , mainly ballet , so when i saw this book at the bookstore , it caught my eye . i only have 24 pages to go , and so far , i am loving the book ! right after i finish writing this , i am going to finish the book ! i recommend this book to everyone , because it is not really about ballet , or even dancing very much . i give this book five stars !\n",
      "True label: 2\n",
      "Predicted:  0\n",
      "\n",
      " Review: robert jordan is an excellent author , but the last four volumes 710 have suffered from literary obesity . it is not that nothing happened it is that too little happened for the length of the volume and the wait inbetween to keep the fans happy . knife of dreams went through a more extensive editing process than those last four , and it shows . the prose is far tighter than we have come to expect recently . every chapter and every scene serves a purpose in advancing the story . we are not deluged with a lot of new pov characters , eithervirtually every scene is told through the eyes of the people we have come to know and love . more importantly , this volume finally resolves several of the ongoing plot lines that had really begun to drag , and in spectacular fashion . for the first time in the series , various threads are beginning to come together , leaving me with the thought that maybe , just maybe , jordan will manage to pull off a satisfying ending in only one more book . even if it takes him 1600 pages to do it . the difficulty with any extended , multivolume story is the tendency for the middle and late volumes to be expositionheavy , with too much buildup and too little climax . knife of dreams manages to avoid that trap , but still leaves us waiting for the final volume . and it will be a doozy .\n",
      "True label: 2\n",
      "Predicted:  1\n",
      "\n",
      " Review: having lived in the apartheid , nadine gordimer knows a big deal about political and historical facts of that period . so do not we . in this book , she uses her knowledge to give us the impression of the power of history , overcoming life of normal people . but neither we leave the book with the feeling of being enriched by a talent psychological insight , nor can we avoid the frustration not to be able to follow her detailed but rambling historical picture . the main character , rose , is the daughter of an important antiapartheid leader . her childhood , her adolescence and her entire life will turn out to be completely affected by her origins . and that is fine with me , although i do not like the idea we cannot change our fate . what i did not like is that the character rose ' s development is dropped little by little through the very long book and mixed up with a quantity of events regarding apartheid and rose ' s father connection with the communist party , which the average reader cannot understand . there is no order in their happening and the book is not trying to explain them they are just mentioned ! so , if you want to know more about apartheid this is not the right book . probably an essay would be more useful than this novel . and about ms . gordimer ' s psychological insight and characters living in the apartheid , i would rather suggest my son ' s story .\n",
      "True label: 0\n",
      "Predicted:  1\n",
      "\n",
      " Review: this is not an unabridged audible book of to kill a mockingbird . it is , as stated in the description above , simply a celebration of the book , in which excerpts of the book are read .\n",
      "True label: 1\n",
      "Predicted:  2\n",
      "\n",
      " Review: having loved lidy newton and thousand acres , how is it , i wonder , that i can feel so blah towards , first moo . . . and now this !\n",
      "True label: 0\n",
      "Predicted:  2\n",
      "\n",
      " Review: jessica always thought that her brilliant charmer of an exhusband married her on one of his impulsesan itseemedlikesuchagreatideaatthetime finale to a champagne picnic . and sam ? well , he figured jessica never really loved him . he was her fist man , and as sex itself is such a snazzy little concept . . . in other words , had jessica confused all that lovely felling with love ? seven years ago jesica and sam divorced . now they are together again , and fighting for there lives . but it will take faith and love to win this particular battleand one very special cat !\n",
      "True label: 1\n",
      "Predicted:  2\n",
      "\n",
      " Review: shaara ' s rising tide is best when the characters are ones that actually lived rather than the ones he makes up . the dialogue between the historical figures is shaara at his best . it is however unfortunate that he has chosen to write a fictional account of the war in north africa when there is better to be had . rick atkinson ' s true not fictional account beginning with an army at war and then day of battle is much much better . here truth is better than fiction . if you like shaara you will love atkinson .\n",
      "True label: 1\n",
      "Predicted:  2\n",
      "\n",
      " Review: this is standard sheldon fare cutthroats and graphic albeit cliche bedroom scenes . same old story . set during the 1940s , this book contains all of the ususal sheldon fare including some poor editing . an example of poor editing was in the case of a character named israel katz , who had an amputated leg . early in the book , it was his right leg and later in the book , his other leg was identified as the amputeded limb . inconsistencies like that are inexcusable . dramatis personaecatherine a silly , starryeyed girl who has pie in the sky hopes like her dreamer of a dad . she has a crush on a boy in her senior class and when he somehow manages to convince her to spend a night with him , she makes bizarre comments and kills off a possible conquest . she drops out of college to work and becomes involved with one william fraser , who is the only likable character in the book . a truly nice man , he has her interests at heart . larry a cruel , indifferent man . he manages to convince catherine to marry him instead of fraser . he would later jilt her for one noelle page after making attempts on her life so he can remarry . an erratic pilot , he is sacked from several airlines and mail runs before being hired as the private pilot for a greek tycoon . noelle page catherine ' s foil her opposite number . noelle is a ruthless barracuda who was encouraged to believe she was born into a noble gentry . instead , she was born in a fishing village in paris , the daughter of another barracuda and an unknown sailor . the man she recognizes as her papa sells her when she reaches puberty . she then goes on to seduce men and sharpen her teeth and claws . a greek tycoon named constantin demiris who bears more than a passing resemblance to ari onasis takes in interest in the young barracuda . he woos her after a callous pilot named larry who jilted her . these three lives collide . larry supposedly kills catherine and is executed in a trial after her disappearance noelle and larry reconnect and noelle meets a grim fate as well . a tale of revenge and excess , this one shares a place with other sheldon novels . this is just too trashy for me .\n",
      "True label: 0\n",
      "Predicted:  1\n",
      "\n",
      " Review: all editions are not equal ! amazon has the bad habit of gathering all reviews for one title and posting them under any edition . reviewers , please post all the necessary info to allow readers to discern which edition you are reviewing . the title and author is the same yes but the abridger , adapter , illustrator , edition yearcopyright , isbn would be a help . . . at least until amazon figures out that classics get reprinted a zillion times and reviews are usually about a particular edition .\n",
      "True label: 1\n",
      "Predicted:  0\n"
     ]
    }
   ],
   "source": [
    "# Find misclassified indices\n",
    "wrong_indices = np.where(y_val_pred != y_val_true)[0]\n",
    "print(f\"Number of misclassified samples: {len(wrong_indices)}\")\n",
    "\n",
    "for idx in wrong_indices[:10]:  # find 10 misclassification\n",
    "    print(f\"\\n Review: {X_val.iloc[idx]}\")\n",
    "    print(f\"True label: {y_val_true[idx]}\")\n",
    "    print(f\"Predicted:  {y_val_pred[idx]}\")"
   ]
  },
  {
   "cell_type": "code",
   "execution_count": 16,
   "id": "4fd46add",
   "metadata": {
    "execution": {
     "iopub.execute_input": "2025-09-03T21:15:53.064804Z",
     "iopub.status.busy": "2025-09-03T21:15:53.064054Z",
     "iopub.status.idle": "2025-09-03T21:16:14.518561Z",
     "shell.execute_reply": "2025-09-03T21:16:14.517544Z"
    },
    "papermill": {
     "duration": 21.513383,
     "end_time": "2025-09-03T21:16:14.520164",
     "exception": false,
     "start_time": "2025-09-03T21:15:53.006781",
     "status": "completed"
    },
    "tags": []
   },
   "outputs": [
    {
     "name": "stdout",
     "output_type": "stream",
     "text": [
      "\u001b[1m188/188\u001b[0m \u001b[32m━━━━━━━━━━━━━━━━━━━━\u001b[0m\u001b[37m\u001b[0m \u001b[1m21s\u001b[0m 113ms/step\n",
      "              precision    recall  f1-score   support\n",
      "\n",
      "           0       0.77      0.68      0.72      2000\n",
      "           1       0.58      0.60      0.59      2000\n",
      "           2       0.72      0.79      0.76      2000\n",
      "\n",
      "    accuracy                           0.69      6000\n",
      "   macro avg       0.69      0.69      0.69      6000\n",
      "weighted avg       0.69      0.69      0.69      6000\n",
      "\n"
     ]
    }
   ],
   "source": [
    "from sklearn.metrics import classification_report\n",
    "# Get predicted class indices from softmax probabilities\n",
    "y_val_probs = model_bilstm.predict(X_val_pad)\n",
    "y_val_pred = np.argmax(y_val_probs, axis=1)\n",
    "\n",
    "# Evaluate against true labels\n",
    "print(classification_report(y_val, y_val_pred, zero_division=0))"
   ]
  },
  {
   "cell_type": "code",
   "execution_count": 17,
   "id": "6b249d37",
   "metadata": {
    "execution": {
     "iopub.execute_input": "2025-09-03T21:16:14.653465Z",
     "iopub.status.busy": "2025-09-03T21:16:14.653132Z",
     "iopub.status.idle": "2025-09-03T21:16:26.306342Z",
     "shell.execute_reply": "2025-09-03T21:16:26.305337Z"
    },
    "papermill": {
     "duration": 11.721565,
     "end_time": "2025-09-03T21:16:26.307862",
     "exception": false,
     "start_time": "2025-09-03T21:16:14.586297",
     "status": "completed"
    },
    "tags": []
   },
   "outputs": [
    {
     "name": "stdout",
     "output_type": "stream",
     "text": [
      "\u001b[1m94/94\u001b[0m \u001b[32m━━━━━━━━━━━━━━━━━━━━\u001b[0m\u001b[37m\u001b[0m \u001b[1m11s\u001b[0m 114ms/step\n",
      "              precision    recall  f1-score   support\n",
      "\n",
      "           0       0.74      0.65      0.69      1000\n",
      "           1       0.57      0.59      0.58      1000\n",
      "           2       0.73      0.80      0.77      1000\n",
      "\n",
      "    accuracy                           0.68      3000\n",
      "   macro avg       0.68      0.68      0.68      3000\n",
      "weighted avg       0.68      0.68      0.68      3000\n",
      "\n"
     ]
    },
    {
     "data": {
      "image/png": "[encoded data removed]",
      "text/plain": [
       "<Figure size 640x480 with 2 Axes>"
      ]
     },
     "metadata": {},
     "output_type": "display_data"
    }
   ],
   "source": [
    "# Test-set predictions\n",
    "y_test_probs = model_bilstm.predict(X_test_pad)\n",
    "y_test_pred  = np.argmax(y_test_probs, axis=1)\n",
    "\n",
    "# Evaluate against true labels\n",
    "print(classification_report(y_test, y_test_pred, zero_division=0))\n",
    "\n",
    "# Report + confusion matrix\n",
    "from sklearn.metrics import confusion_matrix, ConfusionMatrixDisplay\n",
    "cm_norm = confusion_matrix(y_test, y_test_pred, labels=[0,1,2], normalize='true')\n",
    "disp = ConfusionMatrixDisplay(confusion_matrix=cm_norm, display_labels=['Negative','Neutral','Positive'])\n",
    "disp.plot(values_format='.2f', cmap='Blues')\n",
    "plt.title('BiLSTM – Normalized Confusion Matrix (Test)')\n",
    "plt.tight_layout()\n",
    "plt.savefig('confusion_matrix_BiLSTM.png', dpi=300, bbox_inches='tight')\n",
    "plt.show()\n"
   ]
  }
 ],
 "metadata": {
  "kaggle": {
   "accelerator": "none",
   "dataSources": [
    {
     "datasetId": 7688344,
     "sourceId": 12205009,
     "sourceType": "datasetVersion"
    },
    {
     "datasetId": 7773217,
     "sourceId": 12331071,
     "sourceType": "datasetVersion"
    }
   ],
   "dockerImageVersionId": 31040,
   "isGpuEnabled": false,
   "isInternetEnabled": true,
   "language": "python",
   "sourceType": "notebook"
  },
  "kernelspec": {
   "display_name": "Python 3",
   "language": "python",
   "name": "python3"
  },
  "language_info": {
   "codemirror_mode": {
    "name": "ipython",
    "version": 3
   },
   "file_extension": ".py",
   "mimetype": "text/x-python",
   "name": "python",
   "nbconvert_exporter": "python",
   "pygments_lexer": "ipython3",
   "version": "3.11.11"
  },
  "papermill": {
   "default_parameters": {},
   "duration": 14280.572774,
   "end_time": "2025-09-03T21:16:29.115347",
   "environment_variables": {},
   "exception": null,
   "input_path": "__notebook__.ipynb",
   "output_path": "__notebook__.ipynb",
   "parameters": {},
   "start_time": "2025-09-03T17:18:28.542573",
   "version": "2.6.0"
  }
 },
 "nbformat": 4,
 "nbformat_minor": 5
}
