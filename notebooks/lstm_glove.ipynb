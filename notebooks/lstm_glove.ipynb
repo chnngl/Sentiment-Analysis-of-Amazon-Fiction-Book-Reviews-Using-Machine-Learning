{
  "cells": [
    {
      "cell_type": "code",
      "execution_count": null,
      "metadata": {
        "colab": {
          "base_uri": "https://localhost:8080/",
          "height": 73
        },
        "id": "clDPzgVLOAQM",
        "outputId": "ca7fa099-6221-4e37-a8f6-ea9c4f170441"
      },
      "outputs": [
        {
          "output_type": "display_data",
          "data": {
            "text/plain": [
              "<IPython.core.display.HTML object>"
            ],
            "text/html": [
              "\n",
              "     <input type=\"file\" id=\"files-d339c3da-abce-46ed-b021-3dc53caf1e46\" name=\"files[]\" multiple disabled\n",
              "        style=\"border:none\" />\n",
              "     <output id=\"result-d339c3da-abce-46ed-b021-3dc53caf1e46\">\n",
              "      Upload widget is only available when the cell has been executed in the\n",
              "      current browser session. Please rerun this cell to enable.\n",
              "      </output>\n",
              "      <script>// Copyright 2017 Google LLC\n",
              "//\n",
              "// Licensed under the Apache License, Version 2.0 (the \"License\");\n",
              "// you may not use this file except in compliance with the License.\n",
              "// You may obtain a copy of the License at\n",
              "//\n",
              "//      http://www.apache.org/licenses/LICENSE-2.0\n",
              "//\n",
              "// Unless required by applicable law or agreed to in writing, software\n",
              "// distributed under the License is distributed on an \"AS IS\" BASIS,\n",
              "// WITHOUT WARRANTIES OR CONDITIONS OF ANY KIND, either express or implied.\n",
              "// See the License for the specific language governing permissions and\n",
              "// limitations under the License.\n",
              "\n",
              "/**\n",
              " * @fileoverview Helpers for google.colab Python module.\n",
              " */\n",
              "(function(scope) {\n",
              "function span(text, styleAttributes = {}) {\n",
              "  const element = document.createElement('span');\n",
              "  element.textContent = text;\n",
              "  for (const key of Object.keys(styleAttributes)) {\n",
              "    element.style[key] = styleAttributes[key];\n",
              "  }\n",
              "  return element;\n",
              "}\n",
              "\n",
              "// Max number of bytes which will be uploaded at a time.\n",
              "const MAX_PAYLOAD_SIZE = 100 * 1024;\n",
              "\n",
              "function _uploadFiles(inputId, outputId) {\n",
              "  const steps = uploadFilesStep(inputId, outputId);\n",
              "  const outputElement = document.getElementById(outputId);\n",
              "  // Cache steps on the outputElement to make it available for the next call\n",
              "  // to uploadFilesContinue from Python.\n",
              "  outputElement.steps = steps;\n",
              "\n",
              "  return _uploadFilesContinue(outputId);\n",
              "}\n",
              "\n",
              "// This is roughly an async generator (not supported in the browser yet),\n",
              "// where there are multiple asynchronous steps and the Python side is going\n",
              "// to poll for completion of each step.\n",
              "// This uses a Promise to block the python side on completion of each step,\n",
              "// then passes the result of the previous step as the input to the next step.\n",
              "function _uploadFilesContinue(outputId) {\n",
              "  const outputElement = document.getElementById(outputId);\n",
              "  const steps = outputElement.steps;\n",
              "\n",
              "  const next = steps.next(outputElement.lastPromiseValue);\n",
              "  return Promise.resolve(next.value.promise).then((value) => {\n",
              "    // Cache the last promise value to make it available to the next\n",
              "    // step of the generator.\n",
              "    outputElement.lastPromiseValue = value;\n",
              "    return next.value.response;\n",
              "  });\n",
              "}\n",
              "\n",
              "/**\n",
              " * Generator function which is called between each async step of the upload\n",
              " * process.\n",
              " * @param {string} inputId Element ID of the input file picker element.\n",
              " * @param {string} outputId Element ID of the output display.\n",
              " * @return {!Iterable<!Object>} Iterable of next steps.\n",
              " */\n",
              "function* uploadFilesStep(inputId, outputId) {\n",
              "  const inputElement = document.getElementById(inputId);\n",
              "  inputElement.disabled = false;\n",
              "\n",
              "  const outputElement = document.getElementById(outputId);\n",
              "  outputElement.innerHTML = '';\n",
              "\n",
              "  const pickedPromise = new Promise((resolve) => {\n",
              "    inputElement.addEventListener('change', (e) => {\n",
              "      resolve(e.target.files);\n",
              "    });\n",
              "  });\n",
              "\n",
              "  const cancel = document.createElement('button');\n",
              "  inputElement.parentElement.appendChild(cancel);\n",
              "  cancel.textContent = 'Cancel upload';\n",
              "  const cancelPromise = new Promise((resolve) => {\n",
              "    cancel.onclick = () => {\n",
              "      resolve(null);\n",
              "    };\n",
              "  });\n",
              "\n",
              "  // Wait for the user to pick the files.\n",
              "  const files = yield {\n",
              "    promise: Promise.race([pickedPromise, cancelPromise]),\n",
              "    response: {\n",
              "      action: 'starting',\n",
              "    }\n",
              "  };\n",
              "\n",
              "  cancel.remove();\n",
              "\n",
              "  // Disable the input element since further picks are not allowed.\n",
              "  inputElement.disabled = true;\n",
              "\n",
              "  if (!files) {\n",
              "    return {\n",
              "      response: {\n",
              "        action: 'complete',\n",
              "      }\n",
              "    };\n",
              "  }\n",
              "\n",
              "  for (const file of files) {\n",
              "    const li = document.createElement('li');\n",
              "    li.append(span(file.name, {fontWeight: 'bold'}));\n",
              "    li.append(span(\n",
              "        `(${file.type || 'n/a'}) - ${file.size} bytes, ` +\n",
              "        `last modified: ${\n",
              "            file.lastModifiedDate ? file.lastModifiedDate.toLocaleDateString() :\n",
              "                                    'n/a'} - `));\n",
              "    const percent = span('0% done');\n",
              "    li.appendChild(percent);\n",
              "\n",
              "    outputElement.appendChild(li);\n",
              "\n",
              "    const fileDataPromise = new Promise((resolve) => {\n",
              "      const reader = new FileReader();\n",
              "      reader.onload = (e) => {\n",
              "        resolve(e.target.result);\n",
              "      };\n",
              "      reader.readAsArrayBuffer(file);\n",
              "    });\n",
              "    // Wait for the data to be ready.\n",
              "    let fileData = yield {\n",
              "      promise: fileDataPromise,\n",
              "      response: {\n",
              "        action: 'continue',\n",
              "      }\n",
              "    };\n",
              "\n",
              "    // Use a chunked sending to avoid message size limits. See b/62115660.\n",
              "    let position = 0;\n",
              "    do {\n",
              "      const length = Math.min(fileData.byteLength - position, MAX_PAYLOAD_SIZE);\n",
              "      const chunk = new Uint8Array(fileData, position, length);\n",
              "      position += length;\n",
              "\n",
              "      const base64 = btoa(String.fromCharCode.apply(null, chunk));\n",
              "      yield {\n",
              "        response: {\n",
              "          action: 'append',\n",
              "          file: file.name,\n",
              "          data: base64,\n",
              "        },\n",
              "      };\n",
              "\n",
              "      let percentDone = fileData.byteLength === 0 ?\n",
              "          100 :\n",
              "          Math.round((position / fileData.byteLength) * 100);\n",
              "      percent.textContent = `${percentDone}% done`;\n",
              "\n",
              "    } while (position < fileData.byteLength);\n",
              "  }\n",
              "\n",
              "  // All done.\n",
              "  yield {\n",
              "    response: {\n",
              "      action: 'complete',\n",
              "    }\n",
              "  };\n",
              "}\n",
              "\n",
              "scope.google = scope.google || {};\n",
              "scope.google.colab = scope.google.colab || {};\n",
              "scope.google.colab._files = {\n",
              "  _uploadFiles,\n",
              "  _uploadFilesContinue,\n",
              "};\n",
              "})(self);\n",
              "</script> "
            ]
          },
          "metadata": {}
        },
        {
          "output_type": "stream",
          "name": "stdout",
          "text": [
            "Saving balanced30k.csv to balanced30k.csv\n"
          ]
        }
      ],
      "source": [
        "from google.colab import files\n",
        "import pandas as pd\n",
        "uploaded = files.upload()"
      ]
    },
    {
      "cell_type": "code",
      "execution_count": null,
      "metadata": {
        "colab": {
          "base_uri": "https://localhost:8080/"
        },
        "id": "NVkG-M0iQdQ2",
        "outputId": "da73f97e-9184-4af9-c873-4ae201378eb7"
      },
      "outputs": [
        {
          "output_type": "stream",
          "name": "stdout",
          "text": [
            "                                               Title  review/score  \\\n",
            "0                                     The Good Earth           2.0   \n",
            "1                           Like Water for Chocolate           4.0   \n",
            "2                                     Shadowy Horses           4.0   \n",
            "3  The Hobbitt, or there and back again; illustra...           5.0   \n",
            "4                                        Shamanspace           1.0   \n",
            "\n",
            "                                         review/text        categories  \\\n",
            "0  The book The Good Earth is about the rise and ...  Juvenile Fiction   \n",
            "1  Don't know why this book sticks in my mind, bu...           Fiction   \n",
            "2  By far the best of the latest crop of Romantic...           Fiction   \n",
            "3  Classic tale, great illustrations. A known qua...           Fiction   \n",
            "4  For the past year, I had come across Steve Ayl...           Fiction   \n",
            "\n",
            "   word_count  label  \n",
            "0         262      0  \n",
            "1          55      2  \n",
            "2         247      2  \n",
            "3          23      2  \n",
            "4         226      0  \n"
          ]
        }
      ],
      "source": [
        "import pandas as pd\n",
        "\n",
        "# Load the CSV file directly by filename\n",
        "df = pd.read_csv('balanced30k.csv')\n",
        "\n",
        "# Check the first few rows to confirm it loaded correctly\n",
        "print(df.head())\n"
      ]
    },
    {
      "cell_type": "code",
      "execution_count": null,
      "metadata": {
        "colab": {
          "base_uri": "https://localhost:8080/"
        },
        "id": "t0cxgKUpEfkK",
        "outputId": "54d0dc65-6870-4f08-c234-68a1f3baedf3"
      },
      "outputs": [
        {
          "output_type": "stream",
          "name": "stdout",
          "text": [
            "Collecting contractions\n",
            "  Downloading contractions-0.1.73-py2.py3-none-any.whl.metadata (1.2 kB)\n",
            "Collecting textsearch>=0.0.21 (from contractions)\n",
            "  Downloading textsearch-0.0.24-py2.py3-none-any.whl.metadata (1.2 kB)\n",
            "Collecting anyascii (from textsearch>=0.0.21->contractions)\n",
            "  Downloading anyascii-0.3.3-py3-none-any.whl.metadata (1.6 kB)\n",
            "Collecting pyahocorasick (from textsearch>=0.0.21->contractions)\n",
            "  Downloading pyahocorasick-2.2.0-cp312-cp312-manylinux_2_17_x86_64.manylinux2014_x86_64.whl.metadata (13 kB)\n",
            "Downloading contractions-0.1.73-py2.py3-none-any.whl (8.7 kB)\n",
            "Downloading textsearch-0.0.24-py2.py3-none-any.whl (7.6 kB)\n",
            "Downloading anyascii-0.3.3-py3-none-any.whl (345 kB)\n",
            "\u001b[2K   \u001b[90m━━━━━━━━━━━━━━━━━━━━━━━━━━━━━━━━━━━━━━━━\u001b[0m \u001b[32m345.1/345.1 kB\u001b[0m \u001b[31m10.6 MB/s\u001b[0m eta \u001b[36m0:00:00\u001b[0m\n",
            "\u001b[?25hDownloading pyahocorasick-2.2.0-cp312-cp312-manylinux_2_17_x86_64.manylinux2014_x86_64.whl (114 kB)\n",
            "\u001b[2K   \u001b[90m━━━━━━━━━━━━━━━━━━━━━━━━━━━━━━━━━━━━━━━━\u001b[0m \u001b[32m114.9/114.9 kB\u001b[0m \u001b[31m12.1 MB/s\u001b[0m eta \u001b[36m0:00:00\u001b[0m\n",
            "\u001b[?25hInstalling collected packages: pyahocorasick, anyascii, textsearch, contractions\n",
            "Successfully installed anyascii-0.3.3 contractions-0.1.73 pyahocorasick-2.2.0 textsearch-0.0.24\n"
          ]
        }
      ],
      "source": [
        "pip install contractions"
      ]
    },
    {
      "cell_type": "code",
      "execution_count": null,
      "metadata": {
        "id": "Oxy3Fz12S4F6"
      },
      "outputs": [],
      "source": [
        "import re\n",
        "import numpy as np\n",
        "import pandas as pd\n",
        "import contractions\n",
        "from tensorflow.keras.preprocessing.text import Tokenizer\n",
        "from tensorflow.keras.preprocessing.sequence import pad_sequences\n",
        "\n",
        "def clean_text_dl(text):\n",
        "    text = str(text).lower()\n",
        "    text = contractions.fix(text) # Expand contractions\n",
        "    text = re.sub(r'<.*?>', '', text)\n",
        "    text = re.sub(r'http\\S+|www\\S+|https\\S+', '', text)\n",
        "    text = re.sub(r'@\\w+|\\#', '', text)\n",
        "    text = re.sub(r\"([!?.,'])\", r\" \\1 \", text)  # Space out punctuation\n",
        "    text = re.sub(r\"[^a-zA-Z0-9!?.,' ]\", '', text)  # Remove non-ASCII chars\n",
        "    text = re.sub(r'\\s+', ' ', text).strip()\n",
        "    return text"
      ]
    },
    {
      "cell_type": "code",
      "execution_count": null,
      "metadata": {
        "id": "ptP0LF1LSfQx"
      },
      "outputs": [],
      "source": [
        "df['cleaned_text_dl'] = df['review/text'].apply(clean_text_dl)"
      ]
    },
    {
      "cell_type": "code",
      "execution_count": null,
      "metadata": {
        "colab": {
          "base_uri": "https://localhost:8080/",
          "height": 206
        },
        "id": "M0-0W0YkTVyI",
        "outputId": "4a42c6e8-83c7-463f-f1a9-5171ebe80c79"
      },
      "outputs": [
        {
          "output_type": "execute_result",
          "data": {
            "text/plain": [
              "                                               Title  review/score  \\\n",
              "0                                     The Good Earth           2.0   \n",
              "1                           Like Water for Chocolate           4.0   \n",
              "2                                     Shadowy Horses           4.0   \n",
              "3  The Hobbitt, or there and back again; illustra...           5.0   \n",
              "4                                        Shamanspace           1.0   \n",
              "\n",
              "                                         review/text        categories  \\\n",
              "0  The book The Good Earth is about the rise and ...  Juvenile Fiction   \n",
              "1  Don't know why this book sticks in my mind, bu...           Fiction   \n",
              "2  By far the best of the latest crop of Romantic...           Fiction   \n",
              "3  Classic tale, great illustrations. A known qua...           Fiction   \n",
              "4  For the past year, I had come across Steve Ayl...           Fiction   \n",
              "\n",
              "   word_count  label                                    cleaned_text_dl  \n",
              "0         262      0  the book the good earth is about the rise and ...  \n",
              "1          55      2  do not know why this book sticks in my mind , ...  \n",
              "2         247      2  by far the best of the latest crop of romantic...  \n",
              "3          23      2  classic tale , great illustrations . a known q...  \n",
              "4         226      0  for the past year , i had come across steve ay...  "
            ],
            "text/html": [
              "\n",
              "  <div id=\"df-ee26ec57-604e-4f73-b5bc-ba11baf6ce38\" class=\"colab-df-container\">\n",
              "    <div>\n",
              "<style scoped>\n",
              "    .dataframe tbody tr th:only-of-type {\n",
              "        vertical-align: middle;\n",
              "    }\n",
              "\n",
              "    .dataframe tbody tr th {\n",
              "        vertical-align: top;\n",
              "    }\n",
              "\n",
              "    .dataframe thead th {\n",
              "        text-align: right;\n",
              "    }\n",
              "</style>\n",
              "<table border=\"1\" class=\"dataframe\">\n",
              "  <thead>\n",
              "    <tr style=\"text-align: right;\">\n",
              "      <th></th>\n",
              "      <th>Title</th>\n",
              "      <th>review/score</th>\n",
              "      <th>review/text</th>\n",
              "      <th>categories</th>\n",
              "      <th>word_count</th>\n",
              "      <th>label</th>\n",
              "      <th>cleaned_text_dl</th>\n",
              "    </tr>\n",
              "  </thead>\n",
              "  <tbody>\n",
              "    <tr>\n",
              "      <th>0</th>\n",
              "      <td>The Good Earth</td>\n",
              "      <td>2.0</td>\n",
              "      <td>The book The Good Earth is about the rise and ...</td>\n",
              "      <td>Juvenile Fiction</td>\n",
              "      <td>262</td>\n",
              "      <td>0</td>\n",
              "      <td>the book the good earth is about the rise and ...</td>\n",
              "    </tr>\n",
              "    <tr>\n",
              "      <th>1</th>\n",
              "      <td>Like Water for Chocolate</td>\n",
              "      <td>4.0</td>\n",
              "      <td>Don't know why this book sticks in my mind, bu...</td>\n",
              "      <td>Fiction</td>\n",
              "      <td>55</td>\n",
              "      <td>2</td>\n",
              "      <td>do not know why this book sticks in my mind , ...</td>\n",
              "    </tr>\n",
              "    <tr>\n",
              "      <th>2</th>\n",
              "      <td>Shadowy Horses</td>\n",
              "      <td>4.0</td>\n",
              "      <td>By far the best of the latest crop of Romantic...</td>\n",
              "      <td>Fiction</td>\n",
              "      <td>247</td>\n",
              "      <td>2</td>\n",
              "      <td>by far the best of the latest crop of romantic...</td>\n",
              "    </tr>\n",
              "    <tr>\n",
              "      <th>3</th>\n",
              "      <td>The Hobbitt, or there and back again; illustra...</td>\n",
              "      <td>5.0</td>\n",
              "      <td>Classic tale, great illustrations. A known qua...</td>\n",
              "      <td>Fiction</td>\n",
              "      <td>23</td>\n",
              "      <td>2</td>\n",
              "      <td>classic tale , great illustrations . a known q...</td>\n",
              "    </tr>\n",
              "    <tr>\n",
              "      <th>4</th>\n",
              "      <td>Shamanspace</td>\n",
              "      <td>1.0</td>\n",
              "      <td>For the past year, I had come across Steve Ayl...</td>\n",
              "      <td>Fiction</td>\n",
              "      <td>226</td>\n",
              "      <td>0</td>\n",
              "      <td>for the past year , i had come across steve ay...</td>\n",
              "    </tr>\n",
              "  </tbody>\n",
              "</table>\n",
              "</div>\n",
              "    <div class=\"colab-df-buttons\">\n",
              "\n",
              "  <div class=\"colab-df-container\">\n",
              "    <button class=\"colab-df-convert\" onclick=\"convertToInteractive('df-ee26ec57-604e-4f73-b5bc-ba11baf6ce38')\"\n",
              "            title=\"Convert this dataframe to an interactive table.\"\n",
              "            style=\"display:none;\">\n",
              "\n",
              "  <svg xmlns=\"http://www.w3.org/2000/svg\" height=\"24px\" viewBox=\"0 -960 960 960\">\n",
              "    <path d=\"M120-120v-720h720v720H120Zm60-500h600v-160H180v160Zm220 220h160v-160H400v160Zm0 220h160v-160H400v160ZM180-400h160v-160H180v160Zm440 0h160v-160H620v160ZM180-180h160v-160H180v160Zm440 0h160v-160H620v160Z\"/>\n",
              "  </svg>\n",
              "    </button>\n",
              "\n",
              "  <style>\n",
              "    .colab-df-container {\n",
              "      display:flex;\n",
              "      gap: 12px;\n",
              "    }\n",
              "\n",
              "    .colab-df-convert {\n",
              "      background-color: #E8F0FE;\n",
              "      border: none;\n",
              "      border-radius: 50%;\n",
              "      cursor: pointer;\n",
              "      display: none;\n",
              "      fill: #1967D2;\n",
              "      height: 32px;\n",
              "      padding: 0 0 0 0;\n",
              "      width: 32px;\n",
              "    }\n",
              "\n",
              "    .colab-df-convert:hover {\n",
              "      background-color: #E2EBFA;\n",
              "      box-shadow: 0px 1px 2px rgba(60, 64, 67, 0.3), 0px 1px 3px 1px rgba(60, 64, 67, 0.15);\n",
              "      fill: #174EA6;\n",
              "    }\n",
              "\n",
              "    .colab-df-buttons div {\n",
              "      margin-bottom: 4px;\n",
              "    }\n",
              "\n",
              "    [theme=dark] .colab-df-convert {\n",
              "      background-color: #3B4455;\n",
              "      fill: #D2E3FC;\n",
              "    }\n",
              "\n",
              "    [theme=dark] .colab-df-convert:hover {\n",
              "      background-color: #434B5C;\n",
              "      box-shadow: 0px 1px 3px 1px rgba(0, 0, 0, 0.15);\n",
              "      filter: drop-shadow(0px 1px 2px rgba(0, 0, 0, 0.3));\n",
              "      fill: #FFFFFF;\n",
              "    }\n",
              "  </style>\n",
              "\n",
              "    <script>\n",
              "      const buttonEl =\n",
              "        document.querySelector('#df-ee26ec57-604e-4f73-b5bc-ba11baf6ce38 button.colab-df-convert');\n",
              "      buttonEl.style.display =\n",
              "        google.colab.kernel.accessAllowed ? 'block' : 'none';\n",
              "\n",
              "      async function convertToInteractive(key) {\n",
              "        const element = document.querySelector('#df-ee26ec57-604e-4f73-b5bc-ba11baf6ce38');\n",
              "        const dataTable =\n",
              "          await google.colab.kernel.invokeFunction('convertToInteractive',\n",
              "                                                    [key], {});\n",
              "        if (!dataTable) return;\n",
              "\n",
              "        const docLinkHtml = 'Like what you see? Visit the ' +\n",
              "          '<a target=\"_blank\" href=https://colab.research.google.com/notebooks/data_table.ipynb>data table notebook</a>'\n",
              "          + ' to learn more about interactive tables.';\n",
              "        element.innerHTML = '';\n",
              "        dataTable['output_type'] = 'display_data';\n",
              "        await google.colab.output.renderOutput(dataTable, element);\n",
              "        const docLink = document.createElement('div');\n",
              "        docLink.innerHTML = docLinkHtml;\n",
              "        element.appendChild(docLink);\n",
              "      }\n",
              "    </script>\n",
              "  </div>\n",
              "\n",
              "\n",
              "    <div id=\"df-066c6df6-79b5-4c36-952a-b1997ff2c0b8\">\n",
              "      <button class=\"colab-df-quickchart\" onclick=\"quickchart('df-066c6df6-79b5-4c36-952a-b1997ff2c0b8')\"\n",
              "                title=\"Suggest charts\"\n",
              "                style=\"display:none;\">\n",
              "\n",
              "<svg xmlns=\"http://www.w3.org/2000/svg\" height=\"24px\"viewBox=\"0 0 24 24\"\n",
              "     width=\"24px\">\n",
              "    <g>\n",
              "        <path d=\"M19 3H5c-1.1 0-2 .9-2 2v14c0 1.1.9 2 2 2h14c1.1 0 2-.9 2-2V5c0-1.1-.9-2-2-2zM9 17H7v-7h2v7zm4 0h-2V7h2v10zm4 0h-2v-4h2v4z\"/>\n",
              "    </g>\n",
              "</svg>\n",
              "      </button>\n",
              "\n",
              "<style>\n",
              "  .colab-df-quickchart {\n",
              "      --bg-color: #E8F0FE;\n",
              "      --fill-color: #1967D2;\n",
              "      --hover-bg-color: #E2EBFA;\n",
              "      --hover-fill-color: #174EA6;\n",
              "      --disabled-fill-color: #AAA;\n",
              "      --disabled-bg-color: #DDD;\n",
              "  }\n",
              "\n",
              "  [theme=dark] .colab-df-quickchart {\n",
              "      --bg-color: #3B4455;\n",
              "      --fill-color: #D2E3FC;\n",
              "      --hover-bg-color: #434B5C;\n",
              "      --hover-fill-color: #FFFFFF;\n",
              "      --disabled-bg-color: #3B4455;\n",
              "      --disabled-fill-color: #666;\n",
              "  }\n",
              "\n",
              "  .colab-df-quickchart {\n",
              "    background-color: var(--bg-color);\n",
              "    border: none;\n",
              "    border-radius: 50%;\n",
              "    cursor: pointer;\n",
              "    display: none;\n",
              "    fill: var(--fill-color);\n",
              "    height: 32px;\n",
              "    padding: 0;\n",
              "    width: 32px;\n",
              "  }\n",
              "\n",
              "  .colab-df-quickchart:hover {\n",
              "    background-color: var(--hover-bg-color);\n",
              "    box-shadow: 0 1px 2px rgba(60, 64, 67, 0.3), 0 1px 3px 1px rgba(60, 64, 67, 0.15);\n",
              "    fill: var(--button-hover-fill-color);\n",
              "  }\n",
              "\n",
              "  .colab-df-quickchart-complete:disabled,\n",
              "  .colab-df-quickchart-complete:disabled:hover {\n",
              "    background-color: var(--disabled-bg-color);\n",
              "    fill: var(--disabled-fill-color);\n",
              "    box-shadow: none;\n",
              "  }\n",
              "\n",
              "  .colab-df-spinner {\n",
              "    border: 2px solid var(--fill-color);\n",
              "    border-color: transparent;\n",
              "    border-bottom-color: var(--fill-color);\n",
              "    animation:\n",
              "      spin 1s steps(1) infinite;\n",
              "  }\n",
              "\n",
              "  @keyframes spin {\n",
              "    0% {\n",
              "      border-color: transparent;\n",
              "      border-bottom-color: var(--fill-color);\n",
              "      border-left-color: var(--fill-color);\n",
              "    }\n",
              "    20% {\n",
              "      border-color: transparent;\n",
              "      border-left-color: var(--fill-color);\n",
              "      border-top-color: var(--fill-color);\n",
              "    }\n",
              "    30% {\n",
              "      border-color: transparent;\n",
              "      border-left-color: var(--fill-color);\n",
              "      border-top-color: var(--fill-color);\n",
              "      border-right-color: var(--fill-color);\n",
              "    }\n",
              "    40% {\n",
              "      border-color: transparent;\n",
              "      border-right-color: var(--fill-color);\n",
              "      border-top-color: var(--fill-color);\n",
              "    }\n",
              "    60% {\n",
              "      border-color: transparent;\n",
              "      border-right-color: var(--fill-color);\n",
              "    }\n",
              "    80% {\n",
              "      border-color: transparent;\n",
              "      border-right-color: var(--fill-color);\n",
              "      border-bottom-color: var(--fill-color);\n",
              "    }\n",
              "    90% {\n",
              "      border-color: transparent;\n",
              "      border-bottom-color: var(--fill-color);\n",
              "    }\n",
              "  }\n",
              "</style>\n",
              "\n",
              "      <script>\n",
              "        async function quickchart(key) {\n",
              "          const quickchartButtonEl =\n",
              "            document.querySelector('#' + key + ' button');\n",
              "          quickchartButtonEl.disabled = true;  // To prevent multiple clicks.\n",
              "          quickchartButtonEl.classList.add('colab-df-spinner');\n",
              "          try {\n",
              "            const charts = await google.colab.kernel.invokeFunction(\n",
              "                'suggestCharts', [key], {});\n",
              "          } catch (error) {\n",
              "            console.error('Error during call to suggestCharts:', error);\n",
              "          }\n",
              "          quickchartButtonEl.classList.remove('colab-df-spinner');\n",
              "          quickchartButtonEl.classList.add('colab-df-quickchart-complete');\n",
              "        }\n",
              "        (() => {\n",
              "          let quickchartButtonEl =\n",
              "            document.querySelector('#df-066c6df6-79b5-4c36-952a-b1997ff2c0b8 button');\n",
              "          quickchartButtonEl.style.display =\n",
              "            google.colab.kernel.accessAllowed ? 'block' : 'none';\n",
              "        })();\n",
              "      </script>\n",
              "    </div>\n",
              "\n",
              "    </div>\n",
              "  </div>\n"
            ],
            "application/vnd.google.colaboratory.intrinsic+json": {
              "type": "dataframe",
              "variable_name": "df",
              "summary": "{\n  \"name\": \"df\",\n  \"rows\": 30000,\n  \"fields\": [\n    {\n      \"column\": \"Title\",\n      \"properties\": {\n        \"dtype\": \"category\",\n        \"num_unique_values\": 8637,\n        \"samples\": [\n          \"Shadowmancer [Signed and with Publisher's bookmark]\",\n          \"The Garden of Eden\",\n          \"Paddy Clarke Ha Ha Ha\"\n        ],\n        \"semantic_type\": \"\",\n        \"description\": \"\"\n      }\n    },\n    {\n      \"column\": \"review/score\",\n      \"properties\": {\n        \"dtype\": \"number\",\n        \"std\": 1.3850725118510538,\n        \"min\": 1.0,\n        \"max\": 5.0,\n        \"num_unique_values\": 5,\n        \"samples\": [\n          4.0,\n          3.0,\n          5.0\n        ],\n        \"semantic_type\": \"\",\n        \"description\": \"\"\n      }\n    },\n    {\n      \"column\": \"review/text\",\n      \"properties\": {\n        \"dtype\": \"string\",\n        \"num_unique_values\": 29341,\n        \"samples\": [\n          \"Different from the movie. Should be read by everyone. Review should be short and sweet.I need five more words. Goodbye\",\n          \"Hezekiah, prince of Judah, lives in a kingdom under siege from hostile forces within and without. His father, King Ahaz, has abandoned the worship of Yahweh and led his nation into idolatry. Gods & Kings chronicles Hezekiah's coming of age, detailing his turbulent childhood when he saw his father sacrifice his older brother Eliab to the pagan god Molech. Overwhelmed by fear, Hezekiah first encounters the life-changing touch of God through the love and teaching of his grandfather, Zechariah, a Levitical priest. These seeds of faith are all that Hezekiah has to guide him in a kingdom threatened by invasion and corrupted by idolatry. But surrounded by threats to his very existance, can he hope to survive and be given the chance to change the future of his country?This is one of the best biblical fiction series out there, easily on par with Angela Hunt's Legacies of the Ancient River series. I don't feel that Austin's writing is as strong or her characters quite as well-developed as is evident in her later books (such as the Christy award-winning novels Candle in the Darkness and Fire By Night), but that's a very minor issue. Austin does an excellent job bringing the world of ancient Judah to life in all of its color, pageantry, danger, and intrigue. She breathes fresh life into the character of Hezekiah, creating a flesh-and-blood man whose struggles and weaknesses make his triumphs as one of Judah's greatest kings all the more inspiring. And the book lives up to perhaps the best measure of whether or not biblical fiction succeeds or fails - it inspires study of the actual biblical text.When reading this book (incidentally this was my second time), I was struck by how timely the story felt. Hezekiah was one small drop in an overwhelming sea of danger and false gods, but God used his life to literally change the course of an entire nation and people. So read, study, and be inspired as Austin helps to bring to life the truth of 2 Chronicles 7:14 -- \\\"if my people, who are called by my name, will humble themselves and pray and seek my face and turn from their wicked ways, then will I hear from heaven and will forgive their sin and will heal their land.\\\"\",\n          \"What kind of whodunnit murder mystery plods clumsily along almost to the end before the murder is even committed? Answer: a poor excuse for one, and that's just what this book was. If that's not bad enough, the solution was woefully obvious, and that's coming from me, someone who needs a map to find his way to the bathroom. Raphael attempts to be comical and engaging in the dialogue but he doesn't have the deft ear of R.D. Zimmerman, for example. In fact, any reader looking for a great gay protagonist with creative crime-solving capabilities should forget this Nick Hoffman novel all together in favor of a master such as Zimmerman's Todd Mill series.\"\n        ],\n        \"semantic_type\": \"\",\n        \"description\": \"\"\n      }\n    },\n    {\n      \"column\": \"categories\",\n      \"properties\": {\n        \"dtype\": \"category\",\n        \"num_unique_values\": 48,\n        \"samples\": [\n          \"Superhero fiction\",\n          \"Dutch fiction\",\n          \"Kannada fiction\"\n        ],\n        \"semantic_type\": \"\",\n        \"description\": \"\"\n      }\n    },\n    {\n      \"column\": \"word_count\",\n      \"properties\": {\n        \"dtype\": \"number\",\n        \"std\": 150,\n        \"min\": 1,\n        \"max\": 2717,\n        \"num_unique_values\": 921,\n        \"samples\": [\n          48,\n          244,\n          278\n        ],\n        \"semantic_type\": \"\",\n        \"description\": \"\"\n      }\n    },\n    {\n      \"column\": \"label\",\n      \"properties\": {\n        \"dtype\": \"number\",\n        \"std\": 0,\n        \"min\": 0,\n        \"max\": 2,\n        \"num_unique_values\": 3,\n        \"samples\": [\n          0,\n          2,\n          1\n        ],\n        \"semantic_type\": \"\",\n        \"description\": \"\"\n      }\n    },\n    {\n      \"column\": \"cleaned_text_dl\",\n      \"properties\": {\n        \"dtype\": \"string\",\n        \"num_unique_values\": 29340,\n        \"samples\": [\n          \". . . if this is disappointing to loyal readers . i liked the first couple of kay scarpetta books , but i had not read any for a while because they seemed to go down in quality . i finally picked this one up and it is probably the last i will ever read . i still think that cornwell has talent , but she apparently did not feel up to coming up with anything new or worthwhile . this book is primarily about kay and her private life only rarely is the quotmysteryquot a hunt for a particularly vicious serial killer brought up . i did not like many of her characters much to begin with , but they have turned into charicatures of themselves now . marino has become a loathsome bigotted lowclass piece of dirt , and lucy is a crazed lesbian who wants to destroy the world . if you care what happens to lucy , marino , rose , and especially scarpetta , you probably should read this . to me , it was far too melodramatic and whiny scarpetta is to wrapped up in her life to be of any interest , and the rest of the characters were repellent or boring .\",\n          \"a book about sorrow , questions , passions , very erotic and captivating . loved it ! a book about human nature and types louis , the analythical type , lestat powerfull , armand charismathic , sophisticated and sensual , claudia cold and calculated . a drama of imortal life when all you know love changes and you cannot understand . viewed by louis , life is so sad . i believe louis is the first depressive vampire in all the stories , a vampire with a human soul , suffering each time he kills . such a cold immortal heart and yet such pain . looking for a master more than for answers he hates lestat , not a good teacher , he loves claudia but in spite that love he still feels miserable and alone . he thinks he finds in armand someone to guide him , someone strong . armand is the best vampirecharacter ever created . anyhow , much , much better than the film !\",\n          \"it is like if it were scanned from book with a very bad recognision of the text . is not posible to read it because many words are formed by incorrect caracters . i think amazon should take kindle version out of the market and return the money .\"\n        ],\n        \"semantic_type\": \"\",\n        \"description\": \"\"\n      }\n    }\n  ]\n}"
            }
          },
          "metadata": {},
          "execution_count": 7
        }
      ],
      "source": [
        "df.head()"
      ]
    },
    {
      "cell_type": "code",
      "execution_count": null,
      "metadata": {
        "id": "H_tR_RFFTba9"
      },
      "outputs": [],
      "source": [
        "df.to_csv('balanced30k_processed_dl.csv', index=False)\n"
      ]
    },
    {
      "cell_type": "code",
      "execution_count": null,
      "metadata": {
        "id": "4H9cd-XGTy34"
      },
      "outputs": [],
      "source": [
        "import numpy as np\n",
        "import pandas as pd\n",
        "from tensorflow.keras.preprocessing.text import Tokenizer\n",
        "from tensorflow.keras.preprocessing.sequence import pad_sequences\n",
        "from sklearn.model_selection import train_test_split\n",
        "from sklearn.preprocessing import LabelEncoder\n",
        "\n",
        "# Dataset\n",
        "X = df['cleaned_text_dl']\n",
        "y = df['label']"
      ]
    },
    {
      "cell_type": "code",
      "execution_count": null,
      "metadata": {
        "colab": {
          "base_uri": "https://localhost:8080/"
        },
        "id": "lzz3eyGMrcl1",
        "outputId": "e1548f9c-b260-49c0-80ca-737842e508ca"
      },
      "outputs": [
        {
          "output_type": "stream",
          "name": "stdout",
          "text": [
            "Train size: 21000\n",
            "Validation size: 6000\n",
            "Test size: 3000\n"
          ]
        }
      ],
      "source": [
        "# Split into train (70%), val (20%), test (10%) with stratification to keep class balance\n",
        "X_train, X_temp, y_train, y_temp = train_test_split(\n",
        "    X, y, test_size=0.3, random_state=42, stratify=y)\n",
        "\n",
        "X_val, X_test, y_val, y_test = train_test_split(\n",
        "    X_temp, y_temp, test_size=1/3, random_state=42, stratify=y_temp)\n",
        "\n",
        "print(f'Train size: {len(X_train)}')\n",
        "print(f'Validation size: {len(X_val)}')\n",
        "print(f'Test size: {len(X_test)}')"
      ]
    },
    {
      "cell_type": "code",
      "execution_count": null,
      "metadata": {
        "colab": {
          "base_uri": "https://localhost:8080/",
          "height": 335
        },
        "id": "A8JJAuYTte83",
        "outputId": "73c2b7c0-9330-4db7-e0c9-ba4b6e8f9553"
      },
      "outputs": [
        {
          "output_type": "execute_result",
          "data": {
            "text/plain": [
              "count    30000.00000\n",
              "mean       173.58070\n",
              "std        173.48506\n",
              "min          1.00000\n",
              "25%         65.00000\n",
              "50%        119.00000\n",
              "75%        221.00000\n",
              "max       3038.00000\n",
              "Name: cleaned_text_dl, dtype: float64"
            ],
            "text/html": [
              "<div>\n",
              "<style scoped>\n",
              "    .dataframe tbody tr th:only-of-type {\n",
              "        vertical-align: middle;\n",
              "    }\n",
              "\n",
              "    .dataframe tbody tr th {\n",
              "        vertical-align: top;\n",
              "    }\n",
              "\n",
              "    .dataframe thead th {\n",
              "        text-align: right;\n",
              "    }\n",
              "</style>\n",
              "<table border=\"1\" class=\"dataframe\">\n",
              "  <thead>\n",
              "    <tr style=\"text-align: right;\">\n",
              "      <th></th>\n",
              "      <th>cleaned_text_dl</th>\n",
              "    </tr>\n",
              "  </thead>\n",
              "  <tbody>\n",
              "    <tr>\n",
              "      <th>count</th>\n",
              "      <td>30000.00000</td>\n",
              "    </tr>\n",
              "    <tr>\n",
              "      <th>mean</th>\n",
              "      <td>173.58070</td>\n",
              "    </tr>\n",
              "    <tr>\n",
              "      <th>std</th>\n",
              "      <td>173.48506</td>\n",
              "    </tr>\n",
              "    <tr>\n",
              "      <th>min</th>\n",
              "      <td>1.00000</td>\n",
              "    </tr>\n",
              "    <tr>\n",
              "      <th>25%</th>\n",
              "      <td>65.00000</td>\n",
              "    </tr>\n",
              "    <tr>\n",
              "      <th>50%</th>\n",
              "      <td>119.00000</td>\n",
              "    </tr>\n",
              "    <tr>\n",
              "      <th>75%</th>\n",
              "      <td>221.00000</td>\n",
              "    </tr>\n",
              "    <tr>\n",
              "      <th>max</th>\n",
              "      <td>3038.00000</td>\n",
              "    </tr>\n",
              "  </tbody>\n",
              "</table>\n",
              "</div><br><label><b>dtype:</b> float64</label>"
            ]
          },
          "metadata": {},
          "execution_count": 11
        }
      ],
      "source": [
        "review_lengths = df['cleaned_text_dl'].apply(lambda x: len(x.split()))\n",
        "review_lengths.describe()\n"
      ]
    },
    {
      "cell_type": "code",
      "execution_count": null,
      "metadata": {
        "colab": {
          "base_uri": "https://localhost:8080/"
        },
        "id": "_XxUdqAWuEfl",
        "outputId": "1acc29e9-922c-4265-e25c-1166756b22d6"
      },
      "outputs": [
        {
          "output_type": "stream",
          "name": "stdout",
          "text": [
            "Example tokenized sequence: [44, 23, 22, 25, 1326, 2525, 16, 21, 1, 313, 23, 53, 269, 124, 12, 11, 66, 38, 699, 1143, 8, 57, 708, 207, 9908, 221, 1, 55, 43, 1, 2, 1, 49, 382, 10, 130, 1143, 16, 21, 66, 8, 50, 5201, 3, 1, 83, 2, 334, 964, 3, 10957, 235, 4, 1, 313, 87, 99, 22, 5729, 28, 2, 719, 1, 4, 1996, 10, 1143, 16, 21, 66, 27, 15099, 1014, 3497, 4438, 1, 3, 995, 5869, 18, 6797, 254, 6, 1, 1, 313, 3, 13095, 429, 2, 1, 3, 1, 1, 4, 6613, 26, 1472, 184, 257, 6798, 18, 103, 33, 9, 15, 122, 10, 13096, 60, 780, 15, 2895, 231, 42, 160, 1996, 3, 1887, 17, 5, 129, 1382, 5, 67, 10, 73, 310, 4, 87, 7918, 15100, 10, 5, 563, 11621, 317, 3378, 11, 3809, 42, 2, 177, 2109, 3, 743, 10397, 4, 2, 7919, 6, 2, 5730, 528, 4, 2, 6993, 1629, 4665, 46, 3999, 53, 124, 143, 10, 11, 13, 12, 8, 1008, 2712, 25, 9, 824, 9, 8, 5, 751, 339, 3, 37, 1, 3416]\n",
            "Example padded sequence shape: (21000, 250)\n"
          ]
        }
      ],
      "source": [
        "max_vocab_size = 20000\n",
        "max_sequence_length = 250\n",
        "\n",
        "tokenizer = Tokenizer(num_words=max_vocab_size, oov_token=\"<OOV>\")\n",
        "tokenizer.fit_on_texts(X_train)\n",
        "\n",
        "X_train_seq = tokenizer.texts_to_sequences(X_train)\n",
        "X_val_seq = tokenizer.texts_to_sequences(X_val)\n",
        "X_test_seq = tokenizer.texts_to_sequences(X_test)\n",
        "\n",
        "X_train_pad = pad_sequences(X_train_seq, maxlen=max_sequence_length, padding='post')\n",
        "X_val_pad = pad_sequences(X_val_seq, maxlen=max_sequence_length, padding='post')\n",
        "X_test_pad = pad_sequences(X_test_seq, maxlen=max_sequence_length, padding='post')\n",
        "\n",
        "print(f'Example tokenized sequence: {X_train_seq[0]}')\n",
        "print(f'Example padded sequence shape: {X_train_pad.shape}')"
      ]
    },
    {
      "cell_type": "code",
      "execution_count": null,
      "metadata": {
        "colab": {
          "base_uri": "https://localhost:8080/"
        },
        "id": "VT-myE6bvDyq",
        "outputId": "2e53a2af-8b73-4e13-e2e8-3a6556bbac6c"
      },
      "outputs": [
        {
          "output_type": "stream",
          "name": "stdout",
          "text": [
            "--2025-09-02 11:03:01--  http://nlp.stanford.edu/data/glove.6B.zip\n",
            "Resolving nlp.stanford.edu (nlp.stanford.edu)... 171.64.67.140\n",
            "Connecting to nlp.stanford.edu (nlp.stanford.edu)|171.64.67.140|:80... connected.\n",
            "HTTP request sent, awaiting response... 302 Found\n",
            "Location: https://nlp.stanford.edu/data/glove.6B.zip [following]\n",
            "--2025-09-02 11:03:01--  https://nlp.stanford.edu/data/glove.6B.zip\n",
            "Connecting to nlp.stanford.edu (nlp.stanford.edu)|171.64.67.140|:443... connected.\n",
            "HTTP request sent, awaiting response... 301 Moved Permanently\n",
            "Location: https://downloads.cs.stanford.edu/nlp/data/glove.6B.zip [following]\n",
            "--2025-09-02 11:03:02--  https://downloads.cs.stanford.edu/nlp/data/glove.6B.zip\n",
            "Resolving downloads.cs.stanford.edu (downloads.cs.stanford.edu)... 171.64.64.22\n",
            "Connecting to downloads.cs.stanford.edu (downloads.cs.stanford.edu)|171.64.64.22|:443... connected.\n",
            "HTTP request sent, awaiting response... 200 OK\n",
            "Length: 862182613 (822M) [application/zip]\n",
            "Saving to: ‘glove.6B.zip’\n",
            "\n",
            "glove.6B.zip        100%[===================>] 822.24M  4.97MB/s    in 2m 40s  \n",
            "\n",
            "2025-09-02 11:05:42 (5.13 MB/s) - ‘glove.6B.zip’ saved [862182613/862182613]\n",
            "\n",
            "Archive:  glove.6B.zip\n",
            "  inflating: glove.6B.50d.txt        \n",
            "  inflating: glove.6B.100d.txt       \n",
            "  inflating: glove.6B.200d.txt       \n",
            "  inflating: glove.6B.300d.txt       \n"
          ]
        }
      ],
      "source": [
        "!wget --no-check-certificate http://nlp.stanford.edu/data/glove.6B.zip\n",
        "!unzip glove.6B.zip"
      ]
    },
    {
      "cell_type": "code",
      "execution_count": null,
      "metadata": {
        "colab": {
          "base_uri": "https://localhost:8080/"
        },
        "id": "m-8UWgyNwj1p",
        "outputId": "25470520-70e7-4296-f68a-b893560ab069"
      },
      "outputs": [
        {
          "output_type": "stream",
          "name": "stdout",
          "text": [
            "Loaded 400000 word vectors.\n"
          ]
        }
      ],
      "source": [
        "embedding_index = {}\n",
        "with open(\"glove.6B.100d.txt\", encoding='utf8') as f:\n",
        "    for line in f:\n",
        "        values = line.split()\n",
        "        word = values[0]\n",
        "        coefs = np.asarray(values[1:], dtype='float32')\n",
        "        embedding_index[word] = coefs\n",
        "\n",
        "print(f\"Loaded {len(embedding_index)} word vectors.\")\n"
      ]
    },
    {
      "cell_type": "code",
      "execution_count": null,
      "metadata": {
        "colab": {
          "base_uri": "https://localhost:8080/"
        },
        "id": "bZrojWehww25",
        "outputId": "271f4ec3-fcfd-4199-a7a1-cbd287409b63"
      },
      "outputs": [
        {
          "output_type": "stream",
          "name": "stdout",
          "text": [
            "Embedding matrix shape: (20000, 100)\n"
          ]
        }
      ],
      "source": [
        "embedding_dim = 100\n",
        "word_index = tokenizer.word_index\n",
        "num_words = min(max_vocab_size, len(word_index) + 1)\n",
        "\n",
        "# Build embedding matrix\n",
        "embedding_matrix = np.zeros((num_words, embedding_dim))\n",
        "\n",
        "for word, i in word_index.items():\n",
        "    if i < num_words:\n",
        "        embedding_vector = embedding_index.get(word)\n",
        "        if embedding_vector is not None:\n",
        "            embedding_matrix[i] = embedding_vector\n",
        "\n",
        "print(f'Embedding matrix shape: {embedding_matrix.shape}')"
      ]
    },
    {
      "cell_type": "code",
      "execution_count": null,
      "metadata": {
        "colab": {
          "base_uri": "https://localhost:8080/",
          "height": 442
        },
        "id": "Ld_8mWR37itl",
        "outputId": "ac877525-4968-4d84-d0ef-759eb9e7ae75"
      },
      "outputs": [
        {
          "output_type": "display_data",
          "data": {
            "text/plain": [
              "\u001b[1mModel: \"sequential_1\"\u001b[0m\n"
            ],
            "text/html": [
              "<pre style=\"white-space:pre;overflow-x:auto;line-height:normal;font-family:Menlo,'DejaVu Sans Mono',consolas,'Courier New',monospace\"><span style=\"font-weight: bold\">Model: \"sequential_1\"</span>\n",
              "</pre>\n"
            ]
          },
          "metadata": {}
        },
        {
          "output_type": "display_data",
          "data": {
            "text/plain": [
              "┏━━━━━━━━━━━━━━━━━━━━━━━━━━━━━━━━━┳━━━━━━━━━━━━━━━━━━━━━━━━┳━━━━━━━━━━━━━━━┓\n",
              "┃\u001b[1m \u001b[0m\u001b[1mLayer (type)                   \u001b[0m\u001b[1m \u001b[0m┃\u001b[1m \u001b[0m\u001b[1mOutput Shape          \u001b[0m\u001b[1m \u001b[0m┃\u001b[1m \u001b[0m\u001b[1m      Param #\u001b[0m\u001b[1m \u001b[0m┃\n",
              "┡━━━━━━━━━━━━━━━━━━━━━━━━━━━━━━━━━╇━━━━━━━━━━━━━━━━━━━━━━━━╇━━━━━━━━━━━━━━━┩\n",
              "│ embedding_1 (\u001b[38;5;33mEmbedding\u001b[0m)         │ ?                      │     \u001b[38;5;34m2,000,000\u001b[0m │\n",
              "├─────────────────────────────────┼────────────────────────┼───────────────┤\n",
              "│ spatial_dropout1d_1             │ ?                      │             \u001b[38;5;34m0\u001b[0m │\n",
              "│ (\u001b[38;5;33mSpatialDropout1D\u001b[0m)              │                        │               │\n",
              "├─────────────────────────────────┼────────────────────────┼───────────────┤\n",
              "│ lstm_1 (\u001b[38;5;33mLSTM\u001b[0m)                   │ ?                      │   \u001b[38;5;34m0\u001b[0m (unbuilt) │\n",
              "├─────────────────────────────────┼────────────────────────┼───────────────┤\n",
              "│ dropout_2 (\u001b[38;5;33mDropout\u001b[0m)             │ ?                      │             \u001b[38;5;34m0\u001b[0m │\n",
              "├─────────────────────────────────┼────────────────────────┼───────────────┤\n",
              "│ global_max_pooling1d_1          │ ?                      │             \u001b[38;5;34m0\u001b[0m │\n",
              "│ (\u001b[38;5;33mGlobalMaxPooling1D\u001b[0m)            │                        │               │\n",
              "├─────────────────────────────────┼────────────────────────┼───────────────┤\n",
              "│ dense_2 (\u001b[38;5;33mDense\u001b[0m)                 │ ?                      │   \u001b[38;5;34m0\u001b[0m (unbuilt) │\n",
              "├─────────────────────────────────┼────────────────────────┼───────────────┤\n",
              "│ dropout_3 (\u001b[38;5;33mDropout\u001b[0m)             │ ?                      │             \u001b[38;5;34m0\u001b[0m │\n",
              "├─────────────────────────────────┼────────────────────────┼───────────────┤\n",
              "│ dense_3 (\u001b[38;5;33mDense\u001b[0m)                 │ ?                      │   \u001b[38;5;34m0\u001b[0m (unbuilt) │\n",
              "└─────────────────────────────────┴────────────────────────┴───────────────┘\n"
            ],
            "text/html": [
              "<pre style=\"white-space:pre;overflow-x:auto;line-height:normal;font-family:Menlo,'DejaVu Sans Mono',consolas,'Courier New',monospace\">┏━━━━━━━━━━━━━━━━━━━━━━━━━━━━━━━━━┳━━━━━━━━━━━━━━━━━━━━━━━━┳━━━━━━━━━━━━━━━┓\n",
              "┃<span style=\"font-weight: bold\"> Layer (type)                    </span>┃<span style=\"font-weight: bold\"> Output Shape           </span>┃<span style=\"font-weight: bold\">       Param # </span>┃\n",
              "┡━━━━━━━━━━━━━━━━━━━━━━━━━━━━━━━━━╇━━━━━━━━━━━━━━━━━━━━━━━━╇━━━━━━━━━━━━━━━┩\n",
              "│ embedding_1 (<span style=\"color: #0087ff; text-decoration-color: #0087ff\">Embedding</span>)         │ ?                      │     <span style=\"color: #00af00; text-decoration-color: #00af00\">2,000,000</span> │\n",
              "├─────────────────────────────────┼────────────────────────┼───────────────┤\n",
              "│ spatial_dropout1d_1             │ ?                      │             <span style=\"color: #00af00; text-decoration-color: #00af00\">0</span> │\n",
              "│ (<span style=\"color: #0087ff; text-decoration-color: #0087ff\">SpatialDropout1D</span>)              │                        │               │\n",
              "├─────────────────────────────────┼────────────────────────┼───────────────┤\n",
              "│ lstm_1 (<span style=\"color: #0087ff; text-decoration-color: #0087ff\">LSTM</span>)                   │ ?                      │   <span style=\"color: #00af00; text-decoration-color: #00af00\">0</span> (unbuilt) │\n",
              "├─────────────────────────────────┼────────────────────────┼───────────────┤\n",
              "│ dropout_2 (<span style=\"color: #0087ff; text-decoration-color: #0087ff\">Dropout</span>)             │ ?                      │             <span style=\"color: #00af00; text-decoration-color: #00af00\">0</span> │\n",
              "├─────────────────────────────────┼────────────────────────┼───────────────┤\n",
              "│ global_max_pooling1d_1          │ ?                      │             <span style=\"color: #00af00; text-decoration-color: #00af00\">0</span> │\n",
              "│ (<span style=\"color: #0087ff; text-decoration-color: #0087ff\">GlobalMaxPooling1D</span>)            │                        │               │\n",
              "├─────────────────────────────────┼────────────────────────┼───────────────┤\n",
              "│ dense_2 (<span style=\"color: #0087ff; text-decoration-color: #0087ff\">Dense</span>)                 │ ?                      │   <span style=\"color: #00af00; text-decoration-color: #00af00\">0</span> (unbuilt) │\n",
              "├─────────────────────────────────┼────────────────────────┼───────────────┤\n",
              "│ dropout_3 (<span style=\"color: #0087ff; text-decoration-color: #0087ff\">Dropout</span>)             │ ?                      │             <span style=\"color: #00af00; text-decoration-color: #00af00\">0</span> │\n",
              "├─────────────────────────────────┼────────────────────────┼───────────────┤\n",
              "│ dense_3 (<span style=\"color: #0087ff; text-decoration-color: #0087ff\">Dense</span>)                 │ ?                      │   <span style=\"color: #00af00; text-decoration-color: #00af00\">0</span> (unbuilt) │\n",
              "└─────────────────────────────────┴────────────────────────┴───────────────┘\n",
              "</pre>\n"
            ]
          },
          "metadata": {}
        },
        {
          "output_type": "display_data",
          "data": {
            "text/plain": [
              "\u001b[1m Total params: \u001b[0m\u001b[38;5;34m2,000,000\u001b[0m (7.63 MB)\n"
            ],
            "text/html": [
              "<pre style=\"white-space:pre;overflow-x:auto;line-height:normal;font-family:Menlo,'DejaVu Sans Mono',consolas,'Courier New',monospace\"><span style=\"font-weight: bold\"> Total params: </span><span style=\"color: #00af00; text-decoration-color: #00af00\">2,000,000</span> (7.63 MB)\n",
              "</pre>\n"
            ]
          },
          "metadata": {}
        },
        {
          "output_type": "display_data",
          "data": {
            "text/plain": [
              "\u001b[1m Trainable params: \u001b[0m\u001b[38;5;34m2,000,000\u001b[0m (7.63 MB)\n"
            ],
            "text/html": [
              "<pre style=\"white-space:pre;overflow-x:auto;line-height:normal;font-family:Menlo,'DejaVu Sans Mono',consolas,'Courier New',monospace\"><span style=\"font-weight: bold\"> Trainable params: </span><span style=\"color: #00af00; text-decoration-color: #00af00\">2,000,000</span> (7.63 MB)\n",
              "</pre>\n"
            ]
          },
          "metadata": {}
        },
        {
          "output_type": "display_data",
          "data": {
            "text/plain": [
              "\u001b[1m Non-trainable params: \u001b[0m\u001b[38;5;34m0\u001b[0m (0.00 B)\n"
            ],
            "text/html": [
              "<pre style=\"white-space:pre;overflow-x:auto;line-height:normal;font-family:Menlo,'DejaVu Sans Mono',consolas,'Courier New',monospace\"><span style=\"font-weight: bold\"> Non-trainable params: </span><span style=\"color: #00af00; text-decoration-color: #00af00\">0</span> (0.00 B)\n",
              "</pre>\n"
            ]
          },
          "metadata": {}
        }
      ],
      "source": [
        "from tensorflow.keras.models import Sequential\n",
        "from tensorflow.keras.layers import Embedding, SpatialDropout1D, LSTM, Dropout, Dense, GlobalMaxPooling1D\n",
        "from tensorflow.keras.optimizers import Adam\n",
        "from tensorflow.keras.regularizers import l2\n",
        "\n",
        "model_lstm = Sequential()\n",
        "model_lstm.add(Embedding(input_dim=num_words,\n",
        "                    output_dim=embedding_dim,\n",
        "                    weights=[embedding_matrix],\n",
        "                    input_length=max_sequence_length,\n",
        "                    trainable=True))\n",
        "model_lstm.add(SpatialDropout1D(0.2))\n",
        "\n",
        "model_lstm.add(LSTM(units=128, dropout=0.3, return_sequences=True))\n",
        "\n",
        "model_lstm.add(GlobalMaxPooling1D())\n",
        "\n",
        "model_lstm.add(Dense(64, activation='relu', kernel_regularizer=l2(1e-4)))\n",
        "\n",
        "model_lstm.add(Dropout(0.35))\n",
        "\n",
        "model_lstm.add(Dense(3, activation='softmax'))\n",
        "\n",
        "\n",
        "optimizer = Adam(learning_rate=5e-5, clipnorm=1.0)\n",
        "model_lstm.compile(optimizer=optimizer, loss='sparse_categorical_crossentropy', metrics=['accuracy'])\n",
        "model_lstm.summary()"
      ]
    },
    {
      "cell_type": "code",
      "execution_count": null,
      "metadata": {
        "colab": {
          "base_uri": "https://localhost:8080/"
        },
        "id": "QlpoicOJxRyP",
        "outputId": "351d5f49-c275-4e77-b056-086d7eec1984"
      },
      "outputs": [
        {
          "output_type": "stream",
          "name": "stdout",
          "text": [
            "Epoch 1/50\n",
            "657/657 - 21s - 32ms/step - accuracy: 0.3392 - loss: 1.1262 - val_accuracy: 0.3672 - val_loss: 1.1029 - learning_rate: 5.0000e-05\n",
            "Epoch 2/50\n",
            "657/657 - 10s - 15ms/step - accuracy: 0.3613 - loss: 1.1046 - val_accuracy: 0.3747 - val_loss: 1.0999 - learning_rate: 5.0000e-05\n",
            "Epoch 3/50\n",
            "657/657 - 10s - 16ms/step - accuracy: 0.3832 - loss: 1.0955 - val_accuracy: 0.4085 - val_loss: 1.0930 - learning_rate: 5.0000e-05\n",
            "Epoch 4/50\n",
            "657/657 - 21s - 32ms/step - accuracy: 0.4142 - loss: 1.0828 - val_accuracy: 0.4515 - val_loss: 1.0713 - learning_rate: 5.0000e-05\n",
            "Epoch 5/50\n",
            "657/657 - 20s - 30ms/step - accuracy: 0.4454 - loss: 1.0610 - val_accuracy: 0.4897 - val_loss: 1.0408 - learning_rate: 5.0000e-05\n",
            "Epoch 6/50\n",
            "657/657 - 11s - 17ms/step - accuracy: 0.4615 - loss: 1.0399 - val_accuracy: 0.5067 - val_loss: 1.0179 - learning_rate: 5.0000e-05\n",
            "Epoch 7/50\n",
            "657/657 - 21s - 31ms/step - accuracy: 0.4831 - loss: 1.0192 - val_accuracy: 0.4832 - val_loss: 1.0192 - learning_rate: 5.0000e-05\n",
            "Epoch 8/50\n",
            "657/657 - 20s - 31ms/step - accuracy: 0.4951 - loss: 1.0010 - val_accuracy: 0.5330 - val_loss: 0.9743 - learning_rate: 5.0000e-05\n",
            "Epoch 9/50\n",
            "657/657 - 21s - 31ms/step - accuracy: 0.5140 - loss: 0.9881 - val_accuracy: 0.5288 - val_loss: 0.9767 - learning_rate: 5.0000e-05\n",
            "Epoch 10/50\n",
            "657/657 - 12s - 18ms/step - accuracy: 0.5239 - loss: 0.9673 - val_accuracy: 0.5493 - val_loss: 0.9458 - learning_rate: 5.0000e-05\n",
            "Epoch 11/50\n",
            "657/657 - 10s - 15ms/step - accuracy: 0.5344 - loss: 0.9510 - val_accuracy: 0.5323 - val_loss: 0.9567 - learning_rate: 5.0000e-05\n",
            "Epoch 12/50\n",
            "657/657 - 11s - 16ms/step - accuracy: 0.5462 - loss: 0.9361 - val_accuracy: 0.5707 - val_loss: 0.9171 - learning_rate: 5.0000e-05\n",
            "Epoch 13/50\n",
            "657/657 - 20s - 31ms/step - accuracy: 0.5517 - loss: 0.9288 - val_accuracy: 0.5633 - val_loss: 0.9174 - learning_rate: 5.0000e-05\n",
            "Epoch 14/50\n",
            "657/657 - 10s - 15ms/step - accuracy: 0.5569 - loss: 0.9171 - val_accuracy: 0.5627 - val_loss: 0.9185 - learning_rate: 5.0000e-05\n",
            "Epoch 15/50\n",
            "657/657 - 10s - 16ms/step - accuracy: 0.5704 - loss: 0.9039 - val_accuracy: 0.5955 - val_loss: 0.8819 - learning_rate: 5.0000e-05\n",
            "Epoch 16/50\n",
            "657/657 - 11s - 16ms/step - accuracy: 0.5760 - loss: 0.8927 - val_accuracy: 0.6045 - val_loss: 0.8715 - learning_rate: 5.0000e-05\n",
            "Epoch 17/50\n",
            "657/657 - 21s - 31ms/step - accuracy: 0.5806 - loss: 0.8869 - val_accuracy: 0.6027 - val_loss: 0.8752 - learning_rate: 5.0000e-05\n",
            "Epoch 18/50\n",
            "657/657 - 21s - 32ms/step - accuracy: 0.5864 - loss: 0.8751 - val_accuracy: 0.6085 - val_loss: 0.8535 - learning_rate: 5.0000e-05\n",
            "Epoch 19/50\n",
            "657/657 - 20s - 31ms/step - accuracy: 0.5944 - loss: 0.8694 - val_accuracy: 0.6218 - val_loss: 0.8488 - learning_rate: 5.0000e-05\n",
            "Epoch 20/50\n",
            "657/657 - 20s - 30ms/step - accuracy: 0.5998 - loss: 0.8591 - val_accuracy: 0.6212 - val_loss: 0.8430 - learning_rate: 5.0000e-05\n",
            "Epoch 21/50\n",
            "657/657 - 11s - 16ms/step - accuracy: 0.6057 - loss: 0.8507 - val_accuracy: 0.6283 - val_loss: 0.8384 - learning_rate: 5.0000e-05\n",
            "Epoch 22/50\n",
            "657/657 - 11s - 16ms/step - accuracy: 0.6103 - loss: 0.8433 - val_accuracy: 0.6327 - val_loss: 0.8263 - learning_rate: 5.0000e-05\n",
            "Epoch 23/50\n",
            "657/657 - 20s - 30ms/step - accuracy: 0.6172 - loss: 0.8324 - val_accuracy: 0.6378 - val_loss: 0.8218 - learning_rate: 5.0000e-05\n",
            "Epoch 24/50\n",
            "657/657 - 11s - 16ms/step - accuracy: 0.6214 - loss: 0.8265 - val_accuracy: 0.6375 - val_loss: 0.8147 - learning_rate: 5.0000e-05\n",
            "Epoch 25/50\n",
            "657/657 - 21s - 31ms/step - accuracy: 0.6255 - loss: 0.8182 - val_accuracy: 0.6415 - val_loss: 0.8156 - learning_rate: 5.0000e-05\n",
            "Epoch 26/50\n",
            "657/657 - 20s - 30ms/step - accuracy: 0.6276 - loss: 0.8120 - val_accuracy: 0.6408 - val_loss: 0.8028 - learning_rate: 5.0000e-05\n",
            "Epoch 27/50\n",
            "657/657 - 21s - 32ms/step - accuracy: 0.6301 - loss: 0.8090 - val_accuracy: 0.6438 - val_loss: 0.8042 - learning_rate: 5.0000e-05\n",
            "Epoch 28/50\n",
            "657/657 - 19s - 29ms/step - accuracy: 0.6375 - loss: 0.7987 - val_accuracy: 0.6455 - val_loss: 0.7991 - learning_rate: 5.0000e-05\n",
            "Epoch 29/50\n",
            "657/657 - 12s - 18ms/step - accuracy: 0.6410 - loss: 0.7953 - val_accuracy: 0.6412 - val_loss: 0.8026 - learning_rate: 5.0000e-05\n",
            "Epoch 30/50\n",
            "657/657 - 19s - 30ms/step - accuracy: 0.6413 - loss: 0.7908 - val_accuracy: 0.6547 - val_loss: 0.7910 - learning_rate: 5.0000e-05\n",
            "Epoch 31/50\n",
            "657/657 - 20s - 30ms/step - accuracy: 0.6482 - loss: 0.7818 - val_accuracy: 0.6520 - val_loss: 0.7883 - learning_rate: 5.0000e-05\n",
            "Epoch 32/50\n",
            "657/657 - 21s - 32ms/step - accuracy: 0.6507 - loss: 0.7737 - val_accuracy: 0.6590 - val_loss: 0.7757 - learning_rate: 5.0000e-05\n",
            "Epoch 33/50\n",
            "657/657 - 19s - 29ms/step - accuracy: 0.6511 - loss: 0.7720 - val_accuracy: 0.6528 - val_loss: 0.7787 - learning_rate: 5.0000e-05\n",
            "Epoch 34/50\n",
            "657/657 - 11s - 16ms/step - accuracy: 0.6567 - loss: 0.7667 - val_accuracy: 0.6623 - val_loss: 0.7750 - learning_rate: 5.0000e-05\n",
            "Epoch 35/50\n",
            "657/657 - 20s - 31ms/step - accuracy: 0.6638 - loss: 0.7554 - val_accuracy: 0.6682 - val_loss: 0.7627 - learning_rate: 5.0000e-05\n",
            "Epoch 36/50\n",
            "657/657 - 10s - 15ms/step - accuracy: 0.6653 - loss: 0.7547 - val_accuracy: 0.6648 - val_loss: 0.7605 - learning_rate: 5.0000e-05\n",
            "Epoch 37/50\n",
            "657/657 - 11s - 17ms/step - accuracy: 0.6695 - loss: 0.7491 - val_accuracy: 0.6673 - val_loss: 0.7576 - learning_rate: 5.0000e-05\n",
            "Epoch 38/50\n",
            "657/657 - 21s - 32ms/step - accuracy: 0.6707 - loss: 0.7422 - val_accuracy: 0.6652 - val_loss: 0.7593 - learning_rate: 5.0000e-05\n",
            "Epoch 39/50\n",
            "657/657 - 11s - 16ms/step - accuracy: 0.6715 - loss: 0.7389 - val_accuracy: 0.6642 - val_loss: 0.7551 - learning_rate: 5.0000e-05\n",
            "Epoch 40/50\n",
            "657/657 - 21s - 31ms/step - accuracy: 0.6712 - loss: 0.7375 - val_accuracy: 0.6635 - val_loss: 0.7587 - learning_rate: 5.0000e-05\n",
            "Epoch 41/50\n",
            "657/657 - 11s - 17ms/step - accuracy: 0.6753 - loss: 0.7308 - val_accuracy: 0.6743 - val_loss: 0.7494 - learning_rate: 5.0000e-05\n",
            "Epoch 42/50\n",
            "657/657 - 21s - 32ms/step - accuracy: 0.6858 - loss: 0.7220 - val_accuracy: 0.6723 - val_loss: 0.7431 - learning_rate: 5.0000e-05\n",
            "Epoch 43/50\n",
            "657/657 - 20s - 30ms/step - accuracy: 0.6840 - loss: 0.7234 - val_accuracy: 0.6762 - val_loss: 0.7407 - learning_rate: 5.0000e-05\n",
            "Epoch 44/50\n",
            "657/657 - 11s - 16ms/step - accuracy: 0.6860 - loss: 0.7151 - val_accuracy: 0.6713 - val_loss: 0.7449 - learning_rate: 5.0000e-05\n",
            "Epoch 45/50\n",
            "657/657 - 20s - 30ms/step - accuracy: 0.6906 - loss: 0.7136 - val_accuracy: 0.6688 - val_loss: 0.7473 - learning_rate: 5.0000e-05\n",
            "Epoch 46/50\n",
            "657/657 - 11s - 16ms/step - accuracy: 0.6922 - loss: 0.7078 - val_accuracy: 0.6775 - val_loss: 0.7361 - learning_rate: 5.0000e-05\n",
            "Epoch 47/50\n",
            "657/657 - 21s - 32ms/step - accuracy: 0.6898 - loss: 0.7077 - val_accuracy: 0.6778 - val_loss: 0.7340 - learning_rate: 5.0000e-05\n",
            "Epoch 48/50\n",
            "657/657 - 20s - 30ms/step - accuracy: 0.6963 - loss: 0.6981 - val_accuracy: 0.6807 - val_loss: 0.7307 - learning_rate: 5.0000e-05\n",
            "Epoch 49/50\n",
            "657/657 - 11s - 17ms/step - accuracy: 0.7002 - loss: 0.6907 - val_accuracy: 0.6808 - val_loss: 0.7280 - learning_rate: 5.0000e-05\n",
            "Epoch 50/50\n",
            "657/657 - 20s - 31ms/step - accuracy: 0.7013 - loss: 0.6941 - val_accuracy: 0.6732 - val_loss: 0.7355 - learning_rate: 5.0000e-05\n",
            "Restoring model weights from the end of the best epoch: 49.\n"
          ]
        }
      ],
      "source": [
        "from tensorflow.keras.callbacks import EarlyStopping, ReduceLROnPlateau\n",
        "\n",
        "early_stop = EarlyStopping(monitor='val_loss',\n",
        "                           patience=3,    # stop if no improvement after 3 epochs\n",
        "                           restore_best_weights=True,  # keep best model weights\n",
        "                           verbose=1)\n",
        "\n",
        "reduce_lr = ReduceLROnPlateau(monitor='val_loss',\n",
        "                              factor=0.5,\n",
        "                              patience=3,\n",
        "                              min_lr=1e-6,\n",
        "                              verbose=1)\n",
        "history = model_lstm.fit(\n",
        "    X_train_pad,\n",
        "    y_train,\n",
        "    epochs=50,           # Start with 10 epochs, adjust based on over/underfitting\n",
        "    batch_size=32,       # Common batch size for moderate dataset size\n",
        "    validation_data=(X_val_pad, y_val),\n",
        "    callbacks=[early_stop, reduce_lr],\n",
        "    verbose=2\n",
        ")"
      ]
    },
    {
      "cell_type": "code",
      "execution_count": null,
      "metadata": {
        "colab": {
          "base_uri": "https://localhost:8080/",
          "height": 997
        },
        "id": "vur6ZpAIxZZd",
        "outputId": "8f3d67a2-fc66-4c50-c232-402b069ccef2"
      },
      "outputs": [
        {
          "output_type": "display_data",
          "data": {
            "text/plain": [
              "<Figure size 700x500 with 1 Axes>"
            ],
            "image/png": "[encoded data removed]"
          },
          "metadata": {}
        },
        {
          "output_type": "display_data",
          "data": {
            "text/plain": [
              "<Figure size 700x500 with 1 Axes>"
            ],
            "image/png": "[encoded data removed]"
          },
          "metadata": {}
        }
      ],
      "source": [
        "import matplotlib.pyplot as plt\n",
        "\n",
        "# Plot training & validation accuracy values\n",
        "plt.figure(figsize=(7, 5))\n",
        "plt.plot(history.history['accuracy'], label='Train')\n",
        "plt.plot(history.history['val_accuracy'], label='Validation')\n",
        "plt.title('Model Accuracy')\n",
        "plt.xlabel('Epoch'); plt.ylabel('Accuracy'); plt.legend(loc='upper left')\n",
        "plt.tight_layout()\n",
        "plt.savefig(\"model_accuracy_lstm.png\", dpi=300, bbox_inches='tight')\n",
        "plt.show()\n",
        "\n",
        "# Plot training & validation loss values\n",
        "plt.figure(figsize=(7, 5))\n",
        "plt.plot(history.history['loss'], label='Train')\n",
        "plt.plot(history.history['val_loss'], label='Validation')\n",
        "plt.title('Model Loss')\n",
        "plt.xlabel('Epoch'); plt.ylabel('Loss'); plt.legend(loc='upper left')\n",
        "plt.tight_layout()\n",
        "plt.savefig(\"model_loss_lstm.png\", dpi=300, bbox_inches='tight')\n",
        "plt.show()"
      ]
    },
    {
      "cell_type": "code",
      "execution_count": null,
      "metadata": {
        "colab": {
          "base_uri": "https://localhost:8080/"
        },
        "id": "Y4P9Ez16-Gv9",
        "outputId": "dc9b0866-645b-45ee-caf7-c1af27bb03f6"
      },
      "outputs": [
        {
          "output_type": "stream",
          "name": "stdout",
          "text": [
            "\u001b[1m188/188\u001b[0m \u001b[32m━━━━━━━━━━━━━━━━━━━━\u001b[0m\u001b[37m\u001b[0m \u001b[1m1s\u001b[0m 6ms/step\n",
            "Number of misclassified samples: 1915\n",
            "\n",
            " Review: i have read that john ringo basically wrote the books in this series over the course of a few months of frantic writing . i have not read the others , but this was a gritty description of commando style spy antics combined with almost bdsm sexual scenes . the military scenes and descriptions are solid . however , they could not carry the story and the overall plot just felt a bit thin . the sexual scenes felt almost forced at time and did not expand much upon the plot . i could see a male reader wishing he was the main character with his almost mystical ability to pleasure a woman and win her adoration , but in a way the scenes detracted from the characters and their impact . perhaps i should have read books 1 and 2 first so i could get more into the story , but i was able to figure out the basic personalities of most of hte characters , even if i did not know how they became friends and allies . this is definitely a book that will only be enjoyed by a select audience . the sexual scenes will be considered offensive by some , but as always john ringo ' s personal politics bleed into the politics of his writing . as a writer he has a great talent , but his works can end up seeming a bit juvenile due to his style and politics . this one fell into the juvenile category . i do not recommend this book to anyone . there are other better books out there .\n",
            "True label: 0\n",
            "Predicted:  1\n",
            "\n",
            " Review: i am in seventh grade , and had to choose any book for a book report . i am a dancer , mainly ballet , so when i saw this book at the bookstore , it caught my eye . i only have 24 pages to go , and so far , i am loving the book ! right after i finish writing this , i am going to finish the book ! i recommend this book to everyone , because it is not really about ballet , or even dancing very much . i give this book five stars !\n",
            "True label: 2\n",
            "Predicted:  0\n",
            "\n",
            " Review: robert jordan is an excellent author , but the last four volumes 710 have suffered from literary obesity . it is not that nothing happened it is that too little happened for the length of the volume and the wait inbetween to keep the fans happy . knife of dreams went through a more extensive editing process than those last four , and it shows . the prose is far tighter than we have come to expect recently . every chapter and every scene serves a purpose in advancing the story . we are not deluged with a lot of new pov characters , eithervirtually every scene is told through the eyes of the people we have come to know and love . more importantly , this volume finally resolves several of the ongoing plot lines that had really begun to drag , and in spectacular fashion . for the first time in the series , various threads are beginning to come together , leaving me with the thought that maybe , just maybe , jordan will manage to pull off a satisfying ending in only one more book . even if it takes him 1600 pages to do it . the difficulty with any extended , multivolume story is the tendency for the middle and late volumes to be expositionheavy , with too much buildup and too little climax . knife of dreams manages to avoid that trap , but still leaves us waiting for the final volume . and it will be a doozy .\n",
            "True label: 2\n",
            "Predicted:  1\n",
            "\n",
            " Review: having lived in the apartheid , nadine gordimer knows a big deal about political and historical facts of that period . so do not we . in this book , she uses her knowledge to give us the impression of the power of history , overcoming life of normal people . but neither we leave the book with the feeling of being enriched by a talent psychological insight , nor can we avoid the frustration not to be able to follow her detailed but rambling historical picture . the main character , rose , is the daughter of an important antiapartheid leader . her childhood , her adolescence and her entire life will turn out to be completely affected by her origins . and that is fine with me , although i do not like the idea we cannot change our fate . what i did not like is that the character rose ' s development is dropped little by little through the very long book and mixed up with a quantity of events regarding apartheid and rose ' s father connection with the communist party , which the average reader cannot understand . there is no order in their happening and the book is not trying to explain them they are just mentioned ! so , if you want to know more about apartheid this is not the right book . probably an essay would be more useful than this novel . and about ms . gordimer ' s psychological insight and characters living in the apartheid , i would rather suggest my son ' s story .\n",
            "True label: 0\n",
            "Predicted:  1\n",
            "\n",
            " Review: this is not an unabridged audible book of to kill a mockingbird . it is , as stated in the description above , simply a celebration of the book , in which excerpts of the book are read .\n",
            "True label: 1\n",
            "Predicted:  2\n",
            "\n",
            " Review: having loved lidy newton and thousand acres , how is it , i wonder , that i can feel so blah towards , first moo . . . and now this !\n",
            "True label: 0\n",
            "Predicted:  2\n",
            "\n",
            " Review: jessica always thought that her brilliant charmer of an exhusband married her on one of his impulsesan itseemedlikesuchagreatideaatthetime finale to a champagne picnic . and sam ? well , he figured jessica never really loved him . he was her fist man , and as sex itself is such a snazzy little concept . . . in other words , had jessica confused all that lovely felling with love ? seven years ago jesica and sam divorced . now they are together again , and fighting for there lives . but it will take faith and love to win this particular battleand one very special cat !\n",
            "True label: 1\n",
            "Predicted:  2\n",
            "\n",
            " Review: shaara ' s rising tide is best when the characters are ones that actually lived rather than the ones he makes up . the dialogue between the historical figures is shaara at his best . it is however unfortunate that he has chosen to write a fictional account of the war in north africa when there is better to be had . rick atkinson ' s true not fictional account beginning with an army at war and then day of battle is much much better . here truth is better than fiction . if you like shaara you will love atkinson .\n",
            "True label: 1\n",
            "Predicted:  2\n",
            "\n",
            " Review: this is standard sheldon fare cutthroats and graphic albeit cliche bedroom scenes . same old story . set during the 1940s , this book contains all of the ususal sheldon fare including some poor editing . an example of poor editing was in the case of a character named israel katz , who had an amputated leg . early in the book , it was his right leg and later in the book , his other leg was identified as the amputeded limb . inconsistencies like that are inexcusable . dramatis personaecatherine a silly , starryeyed girl who has pie in the sky hopes like her dreamer of a dad . she has a crush on a boy in her senior class and when he somehow manages to convince her to spend a night with him , she makes bizarre comments and kills off a possible conquest . she drops out of college to work and becomes involved with one william fraser , who is the only likable character in the book . a truly nice man , he has her interests at heart . larry a cruel , indifferent man . he manages to convince catherine to marry him instead of fraser . he would later jilt her for one noelle page after making attempts on her life so he can remarry . an erratic pilot , he is sacked from several airlines and mail runs before being hired as the private pilot for a greek tycoon . noelle page catherine ' s foil her opposite number . noelle is a ruthless barracuda who was encouraged to believe she was born into a noble gentry . instead , she was born in a fishing village in paris , the daughter of another barracuda and an unknown sailor . the man she recognizes as her papa sells her when she reaches puberty . she then goes on to seduce men and sharpen her teeth and claws . a greek tycoon named constantin demiris who bears more than a passing resemblance to ari onasis takes in interest in the young barracuda . he woos her after a callous pilot named larry who jilted her . these three lives collide . larry supposedly kills catherine and is executed in a trial after her disappearance noelle and larry reconnect and noelle meets a grim fate as well . a tale of revenge and excess , this one shares a place with other sheldon novels . this is just too trashy for me .\n",
            "True label: 0\n",
            "Predicted:  2\n",
            "\n",
            " Review: all editions are not equal ! amazon has the bad habit of gathering all reviews for one title and posting them under any edition . reviewers , please post all the necessary info to allow readers to discern which edition you are reviewing . the title and author is the same yes but the abridger , adapter , illustrator , edition yearcopyright , isbn would be a help . . . at least until amazon figures out that classics get reprinted a zillion times and reviews are usually about a particular edition .\n",
            "True label: 1\n",
            "Predicted:  0\n"
          ]
        }
      ],
      "source": [
        "import numpy as np\n",
        "\n",
        "# Get predicted probabilities\n",
        "y_val_probs = model_lstm.predict(X_val_pad)\n",
        "\n",
        "# Convert to predicted class labels (0, 1, 2)\n",
        "y_val_pred = np.argmax(y_val_probs, axis=1)\n",
        "\n",
        "# Convert to numpy arrays just in case\n",
        "y_val_true = np.array(y_val)\n",
        "\n",
        "# Find misclassified indices\n",
        "wrong_indices = np.where(y_val_pred != y_val_true)[0]\n",
        "print(f\"Number of misclassified samples: {len(wrong_indices)}\")\n",
        "\n",
        "for idx in wrong_indices[:10]:  # change to [:10] for more\n",
        "    print(f\"\\n Review: {X_val.iloc[idx]}\")\n",
        "    print(f\"True label: {y_val_true[idx]}\")\n",
        "    print(f\"Predicted:  {y_val_pred[idx]}\")"
      ]
    },
    {
      "cell_type": "code",
      "execution_count": null,
      "metadata": {
        "colab": {
          "base_uri": "https://localhost:8080/"
        },
        "id": "uIvMMekP4tVl",
        "outputId": "a4c19820-856b-40bf-af3a-10c00152b532"
      },
      "outputs": [
        {
          "output_type": "stream",
          "name": "stdout",
          "text": [
            "Training accuracy per epoch: [0.3391904830932617, 0.3612857162952423, 0.38319048285484314, 0.41419047117233276, 0.44538095593452454, 0.46152380108833313, 0.4830952286720276, 0.49509525299072266, 0.513952374458313, 0.5239047408103943, 0.534428596496582, 0.546238124370575, 0.551714301109314, 0.5569047331809998, 0.5703809261322021, 0.5759999752044678, 0.5806190371513367, 0.5864285826683044, 0.5944285988807678, 0.5997619032859802, 0.6057142615318298, 0.6102856993675232, 0.6172381043434143, 0.6214285492897034, 0.6255238056182861, 0.6275714039802551, 0.630142867565155, 0.6374762058258057, 0.640999972820282, 0.6412857174873352, 0.6481904983520508, 0.6506666541099548, 0.6511428356170654, 0.6567142605781555, 0.6638095378875732, 0.6652857065200806, 0.6694762110710144, 0.670714259147644, 0.6715238094329834, 0.671238124370575, 0.6753333210945129, 0.6858095526695251, 0.6839523911476135, 0.6859999895095825, 0.6905714273452759, 0.6922380924224854, 0.6898095011711121, 0.6963333487510681, 0.7001904845237732, 0.701285719871521]\n",
            "Validation accuracy per epoch: [0.367166668176651, 0.37466666102409363, 0.40849998593330383, 0.4514999985694885, 0.4896666705608368, 0.5066666603088379, 0.4831666648387909, 0.5329999923706055, 0.5288333296775818, 0.5493333339691162, 0.5323333144187927, 0.5706666707992554, 0.5633333325386047, 0.562666654586792, 0.5954999923706055, 0.6044999957084656, 0.6026666760444641, 0.6085000038146973, 0.621833324432373, 0.6211666464805603, 0.628333330154419, 0.6326666474342346, 0.6378333568572998, 0.637499988079071, 0.6414999961853027, 0.64083331823349, 0.643833339214325, 0.6455000042915344, 0.6411666870117188, 0.6546666622161865, 0.6520000100135803, 0.6589999794960022, 0.6528333425521851, 0.6623333096504211, 0.6681666374206543, 0.6648333072662354, 0.6673333048820496, 0.6651666760444641, 0.6641666889190674, 0.6635000109672546, 0.6743333339691162, 0.6723333597183228, 0.6761666536331177, 0.6713333129882812, 0.668833315372467, 0.6775000095367432, 0.6778333187103271, 0.6806666851043701, 0.6808333396911621, 0.6731666922569275]\n"
          ]
        }
      ],
      "source": [
        "# history.history is a dictionary that contains all metrics recorded during training\n",
        "\n",
        "train_acc = history.history['accuracy']       # training accuracy per epoch\n",
        "val_acc = history.history['val_accuracy']     # validation accuracy per epoch\n",
        "\n",
        "print(\"Training accuracy per epoch:\", train_acc)\n",
        "print(\"Validation accuracy per epoch:\", val_acc)\n"
      ]
    },
    {
      "cell_type": "code",
      "execution_count": null,
      "metadata": {
        "colab": {
          "base_uri": "https://localhost:8080/"
        },
        "id": "BE3GiMJ24M5w",
        "outputId": "cf83afe5-4c62-4e26-87f0-36cc893ccf90"
      },
      "outputs": [
        {
          "output_type": "stream",
          "name": "stdout",
          "text": [
            "Final training accuracy: 0.7013\n",
            "Final validation accuracy: 0.6732\n"
          ]
        }
      ],
      "source": [
        "print(f\"Final training accuracy: {train_acc[-1]:.4f}\")\n",
        "print(f\"Final validation accuracy: {val_acc[-1]:.4f}\")\n"
      ]
    },
    {
      "cell_type": "code",
      "execution_count": null,
      "metadata": {
        "colab": {
          "base_uri": "https://localhost:8080/"
        },
        "id": "4p5xbmFV7-Yx",
        "outputId": "5dba9b41-05b0-4980-81ee-45dbca82ab07"
      },
      "outputs": [
        {
          "output_type": "stream",
          "name": "stdout",
          "text": [
            "\u001b[1m188/188\u001b[0m \u001b[32m━━━━━━━━━━━━━━━━━━━━\u001b[0m\u001b[37m\u001b[0m \u001b[1m1s\u001b[0m 5ms/step\n",
            "              precision    recall  f1-score   support\n",
            "\n",
            "           0       0.74      0.71      0.72      2000\n",
            "           1       0.57      0.59      0.58      2000\n",
            "           2       0.74      0.74      0.74      2000\n",
            "\n",
            "    accuracy                           0.68      6000\n",
            "   macro avg       0.68      0.68      0.68      6000\n",
            "weighted avg       0.68      0.68      0.68      6000\n",
            "\n"
          ]
        }
      ],
      "source": [
        "from sklearn.metrics import classification_report\n",
        "# Get predicted class indices from softmax probabilities\n",
        "y_val_probs = model_lstm.predict(X_val_pad)\n",
        "y_val_pred = np.argmax(y_val_probs, axis=1)\n",
        "\n",
        "# Evaluate against true labels\n",
        "print(classification_report(y_val, y_val_pred, zero_division=0))"
      ]
    }
  ],
  "metadata": {
    "accelerator": "GPU",
    "colab": {
      "gpuType": "T4",
      "provenance": []
    },
    "kernelspec": {
      "display_name": "Python 3",
      "name": "python3"
    },
    "language_info": {
      "name": "python"
    }
  },
  "nbformat": 4,
  "nbformat_minor": 0
}