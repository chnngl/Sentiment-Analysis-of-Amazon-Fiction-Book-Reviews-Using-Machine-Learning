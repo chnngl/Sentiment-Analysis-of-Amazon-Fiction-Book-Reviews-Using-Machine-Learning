{
  "cells": [
    {
      "cell_type": "code",
      "execution_count": null,
      "metadata": {
        "colab": {
          "base_uri": "https://localhost:8080/",
          "height": 73
        },
        "id": "lB9GrSDYiSy8",
        "outputId": "51b6a6be-24bc-4180-e5eb-08966aeb456f"
      },
      "outputs": [
        {
          "output_type": "display_data",
          "data": {
            "text/plain": [
              "<IPython.core.display.HTML object>"
            ],
            "text/html": [
              "\n",
              "     <input type=\"file\" id=\"files-7ad516a6-1d6c-4da2-9b8d-881653d8d788\" name=\"files[]\" multiple disabled\n",
              "        style=\"border:none\" />\n",
              "     <output id=\"result-7ad516a6-1d6c-4da2-9b8d-881653d8d788\">\n",
              "      Upload widget is only available when the cell has been executed in the\n",
              "      current browser session. Please rerun this cell to enable.\n",
              "      </output>\n",
              "      <script>// Copyright 2017 Google LLC\n",
              "//\n",
              "// Licensed under the Apache License, Version 2.0 (the \"License\");\n",
              "// you may not use this file except in compliance with the License.\n",
              "// You may obtain a copy of the License at\n",
              "//\n",
              "//      http://www.apache.org/licenses/LICENSE-2.0\n",
              "//\n",
              "// Unless required by applicable law or agreed to in writing, software\n",
              "// distributed under the License is distributed on an \"AS IS\" BASIS,\n",
              "// WITHOUT WARRANTIES OR CONDITIONS OF ANY KIND, either express or implied.\n",
              "// See the License for the specific language governing permissions and\n",
              "// limitations under the License.\n",
              "\n",
              "/**\n",
              " * @fileoverview Helpers for google.colab Python module.\n",
              " */\n",
              "(function(scope) {\n",
              "function span(text, styleAttributes = {}) {\n",
              "  const element = document.createElement('span');\n",
              "  element.textContent = text;\n",
              "  for (const key of Object.keys(styleAttributes)) {\n",
              "    element.style[key] = styleAttributes[key];\n",
              "  }\n",
              "  return element;\n",
              "}\n",
              "\n",
              "// Max number of bytes which will be uploaded at a time.\n",
              "const MAX_PAYLOAD_SIZE = 100 * 1024;\n",
              "\n",
              "function _uploadFiles(inputId, outputId) {\n",
              "  const steps = uploadFilesStep(inputId, outputId);\n",
              "  const outputElement = document.getElementById(outputId);\n",
              "  // Cache steps on the outputElement to make it available for the next call\n",
              "  // to uploadFilesContinue from Python.\n",
              "  outputElement.steps = steps;\n",
              "\n",
              "  return _uploadFilesContinue(outputId);\n",
              "}\n",
              "\n",
              "// This is roughly an async generator (not supported in the browser yet),\n",
              "// where there are multiple asynchronous steps and the Python side is going\n",
              "// to poll for completion of each step.\n",
              "// This uses a Promise to block the python side on completion of each step,\n",
              "// then passes the result of the previous step as the input to the next step.\n",
              "function _uploadFilesContinue(outputId) {\n",
              "  const outputElement = document.getElementById(outputId);\n",
              "  const steps = outputElement.steps;\n",
              "\n",
              "  const next = steps.next(outputElement.lastPromiseValue);\n",
              "  return Promise.resolve(next.value.promise).then((value) => {\n",
              "    // Cache the last promise value to make it available to the next\n",
              "    // step of the generator.\n",
              "    outputElement.lastPromiseValue = value;\n",
              "    return next.value.response;\n",
              "  });\n",
              "}\n",
              "\n",
              "/**\n",
              " * Generator function which is called between each async step of the upload\n",
              " * process.\n",
              " * @param {string} inputId Element ID of the input file picker element.\n",
              " * @param {string} outputId Element ID of the output display.\n",
              " * @return {!Iterable<!Object>} Iterable of next steps.\n",
              " */\n",
              "function* uploadFilesStep(inputId, outputId) {\n",
              "  const inputElement = document.getElementById(inputId);\n",
              "  inputElement.disabled = false;\n",
              "\n",
              "  const outputElement = document.getElementById(outputId);\n",
              "  outputElement.innerHTML = '';\n",
              "\n",
              "  const pickedPromise = new Promise((resolve) => {\n",
              "    inputElement.addEventListener('change', (e) => {\n",
              "      resolve(e.target.files);\n",
              "    });\n",
              "  });\n",
              "\n",
              "  const cancel = document.createElement('button');\n",
              "  inputElement.parentElement.appendChild(cancel);\n",
              "  cancel.textContent = 'Cancel upload';\n",
              "  const cancelPromise = new Promise((resolve) => {\n",
              "    cancel.onclick = () => {\n",
              "      resolve(null);\n",
              "    };\n",
              "  });\n",
              "\n",
              "  // Wait for the user to pick the files.\n",
              "  const files = yield {\n",
              "    promise: Promise.race([pickedPromise, cancelPromise]),\n",
              "    response: {\n",
              "      action: 'starting',\n",
              "    }\n",
              "  };\n",
              "\n",
              "  cancel.remove();\n",
              "\n",
              "  // Disable the input element since further picks are not allowed.\n",
              "  inputElement.disabled = true;\n",
              "\n",
              "  if (!files) {\n",
              "    return {\n",
              "      response: {\n",
              "        action: 'complete',\n",
              "      }\n",
              "    };\n",
              "  }\n",
              "\n",
              "  for (const file of files) {\n",
              "    const li = document.createElement('li');\n",
              "    li.append(span(file.name, {fontWeight: 'bold'}));\n",
              "    li.append(span(\n",
              "        `(${file.type || 'n/a'}) - ${file.size} bytes, ` +\n",
              "        `last modified: ${\n",
              "            file.lastModifiedDate ? file.lastModifiedDate.toLocaleDateString() :\n",
              "                                    'n/a'} - `));\n",
              "    const percent = span('0% done');\n",
              "    li.appendChild(percent);\n",
              "\n",
              "    outputElement.appendChild(li);\n",
              "\n",
              "    const fileDataPromise = new Promise((resolve) => {\n",
              "      const reader = new FileReader();\n",
              "      reader.onload = (e) => {\n",
              "        resolve(e.target.result);\n",
              "      };\n",
              "      reader.readAsArrayBuffer(file);\n",
              "    });\n",
              "    // Wait for the data to be ready.\n",
              "    let fileData = yield {\n",
              "      promise: fileDataPromise,\n",
              "      response: {\n",
              "        action: 'continue',\n",
              "      }\n",
              "    };\n",
              "\n",
              "    // Use a chunked sending to avoid message size limits. See b/62115660.\n",
              "    let position = 0;\n",
              "    do {\n",
              "      const length = Math.min(fileData.byteLength - position, MAX_PAYLOAD_SIZE);\n",
              "      const chunk = new Uint8Array(fileData, position, length);\n",
              "      position += length;\n",
              "\n",
              "      const base64 = btoa(String.fromCharCode.apply(null, chunk));\n",
              "      yield {\n",
              "        response: {\n",
              "          action: 'append',\n",
              "          file: file.name,\n",
              "          data: base64,\n",
              "        },\n",
              "      };\n",
              "\n",
              "      let percentDone = fileData.byteLength === 0 ?\n",
              "          100 :\n",
              "          Math.round((position / fileData.byteLength) * 100);\n",
              "      percent.textContent = `${percentDone}% done`;\n",
              "\n",
              "    } while (position < fileData.byteLength);\n",
              "  }\n",
              "\n",
              "  // All done.\n",
              "  yield {\n",
              "    response: {\n",
              "      action: 'complete',\n",
              "    }\n",
              "  };\n",
              "}\n",
              "\n",
              "scope.google = scope.google || {};\n",
              "scope.google.colab = scope.google.colab || {};\n",
              "scope.google.colab._files = {\n",
              "  _uploadFiles,\n",
              "  _uploadFilesContinue,\n",
              "};\n",
              "})(self);\n",
              "</script> "
            ]
          },
          "metadata": {}
        },
        {
          "output_type": "stream",
          "name": "stdout",
          "text": [
            "Saving balanced30k_processed_dl.csv to balanced30k_processed_dl.csv\n"
          ]
        }
      ],
      "source": [
        "from google.colab import files\n",
        "import pandas as pd\n",
        "uploaded = files.upload()"
      ]
    },
    {
      "cell_type": "code",
      "execution_count": null,
      "metadata": {
        "colab": {
          "base_uri": "https://localhost:8080/"
        },
        "id": "bnGpkAKPon8U",
        "outputId": "a59f6e25-cd77-4364-c375-c76ce4f4eeb1"
      },
      "outputs": [
        {
          "output_type": "stream",
          "name": "stdout",
          "text": [
            "                                               Title  review/score  \\\n",
            "0                                     The Good Earth           2.0   \n",
            "1                           Like Water for Chocolate           4.0   \n",
            "2                                     Shadowy Horses           4.0   \n",
            "3  The Hobbitt, or there and back again; illustra...           5.0   \n",
            "4                                        Shamanspace           1.0   \n",
            "\n",
            "                                         review/text        categories  \\\n",
            "0  The book The Good Earth is about the rise and ...  Juvenile Fiction   \n",
            "1  Don't know why this book sticks in my mind, bu...           Fiction   \n",
            "2  By far the best of the latest crop of Romantic...           Fiction   \n",
            "3  Classic tale, great illustrations. A known qua...           Fiction   \n",
            "4  For the past year, I had come across Steve Ayl...           Fiction   \n",
            "\n",
            "   word_count  label                                    cleaned_text_dl  \n",
            "0         262      0  the book the good earth is about the rise and ...  \n",
            "1          55      2  do not know why this book sticks in my mind , ...  \n",
            "2         247      2  by far the best of the latest crop of romantic...  \n",
            "3          23      2  classic tale , great illustrations . a known q...  \n",
            "4         226      0  for the past year , i had come across steve ay...  \n"
          ]
        }
      ],
      "source": [
        "import pandas as pd\n",
        "\n",
        "# Load the CSV file directly by filename\n",
        "df = pd.read_csv('balanced30k_processed_dl.csv')\n",
        "\n",
        "# Check the first few rows to confirm it loaded correctly\n",
        "print(df.head())"
      ]
    },
    {
      "cell_type": "code",
      "execution_count": null,
      "metadata": {
        "id": "ZbA8LF3CotF8"
      },
      "outputs": [],
      "source": [
        "import numpy as np\n",
        "import pandas as pd\n",
        "from tensorflow.keras.preprocessing.text import Tokenizer\n",
        "from tensorflow.keras.preprocessing.sequence import pad_sequences\n",
        "from sklearn.model_selection import train_test_split\n",
        "from sklearn.preprocessing import LabelEncoder\n",
        "\n",
        "# Dataset\n",
        "X = df['cleaned_text_dl']\n",
        "y = df['label']"
      ]
    },
    {
      "cell_type": "code",
      "execution_count": null,
      "metadata": {
        "colab": {
          "base_uri": "https://localhost:8080/"
        },
        "id": "2Olh82BKovH5",
        "outputId": "3434a17d-a700-43e7-9e5f-7c551593058d"
      },
      "outputs": [
        {
          "output_type": "stream",
          "name": "stdout",
          "text": [
            "Train size: 21000\n",
            "Validation size: 6000\n",
            "Test size: 3000\n"
          ]
        }
      ],
      "source": [
        "# Split into train (70%), val (20%), test (10%) with stratification to keep class balance\n",
        "X_train, X_temp, y_train, y_temp = train_test_split(\n",
        "    X, y, test_size=0.3, random_state=42, stratify=y)\n",
        "\n",
        "X_val, X_test, y_val, y_test = train_test_split(\n",
        "    X_temp, y_temp, test_size=1/3, random_state=42, stratify=y_temp)\n",
        "\n",
        "print(f'Train size: {len(X_train)}')\n",
        "print(f'Validation size: {len(X_val)}')\n",
        "print(f'Test size: {len(X_test)}')"
      ]
    },
    {
      "cell_type": "code",
      "execution_count": null,
      "metadata": {
        "colab": {
          "base_uri": "https://localhost:8080/"
        },
        "id": "7R9zMqN9oyhW",
        "outputId": "befb2de1-aa59-4411-817f-9746a7233f27"
      },
      "outputs": [
        {
          "output_type": "stream",
          "name": "stdout",
          "text": [
            "Example tokenized sequence: [44, 23, 22, 25, 1326, 2525, 16, 21, 1, 313, 23, 53, 269, 124, 12, 11, 66, 38, 699, 1143, 8, 57, 708, 207, 9908, 221, 1, 55, 43, 1, 2, 1, 49, 382, 10, 130, 1143, 16, 21, 66, 8, 50, 5201, 3, 1, 83, 2, 334, 964, 3, 10957, 235, 4, 1, 313, 87, 99, 22, 5729, 28, 2, 719, 1, 4, 1996, 10, 1143, 16, 21, 66, 27, 15099, 1014, 3497, 4438, 1, 3, 995, 5869, 18, 6797, 254, 6, 1, 1, 313, 3, 13095, 429, 2, 1, 3, 1, 1, 4, 6613, 26, 1472, 184, 257, 6798, 18, 103, 33, 9, 15, 122, 10, 13096, 60, 780, 15, 2895, 231, 42, 160, 1996, 3, 1887, 17, 5, 129, 1382, 5, 67, 10, 73, 310, 4, 87, 7918, 15100, 10, 5, 563, 11621, 317, 3378, 11, 3809, 42, 2, 177, 2109, 3, 743, 10397, 4, 2, 7919, 6, 2, 5730, 528, 4, 2, 6993, 1629, 4665, 46, 3999, 53, 124, 143, 10, 11, 13, 12, 8, 1008, 2712, 25, 9, 824, 9, 8, 5, 751, 339, 3, 37, 1, 3416]\n",
            "Example padded sequence shape: (21000, 250)\n"
          ]
        }
      ],
      "source": [
        "max_vocab_size = 20000\n",
        "max_sequence_length = 250\n",
        "\n",
        "tokenizer = Tokenizer(num_words=max_vocab_size, oov_token=\"<OOV>\")\n",
        "tokenizer.fit_on_texts(X_train)\n",
        "\n",
        "X_train_seq = tokenizer.texts_to_sequences(X_train)\n",
        "X_val_seq = tokenizer.texts_to_sequences(X_val)\n",
        "X_test_seq = tokenizer.texts_to_sequences(X_test)\n",
        "\n",
        "X_train_pad = pad_sequences(X_train_seq, maxlen=max_sequence_length, padding='post')\n",
        "X_val_pad = pad_sequences(X_val_seq, maxlen=max_sequence_length, padding='post')\n",
        "X_test_pad = pad_sequences(X_test_seq, maxlen=max_sequence_length, padding='post')\n",
        "\n",
        "print(f'Example tokenized sequence: {X_train_seq[0]}')\n",
        "print(f'Example padded sequence shape: {X_train_pad.shape}')"
      ]
    },
    {
      "cell_type": "code",
      "execution_count": null,
      "metadata": {
        "colab": {
          "base_uri": "https://localhost:8080/"
        },
        "id": "8UVAEcFQo2fy",
        "outputId": "710f6e6a-4a3d-4d9f-e0b0-934abf24e50d"
      },
      "outputs": [
        {
          "output_type": "stream",
          "name": "stdout",
          "text": [
            "--2025-09-06 20:12:37--  http://nlp.stanford.edu/data/glove.6B.zip\n",
            "Resolving nlp.stanford.edu (nlp.stanford.edu)... 171.64.67.140\n",
            "Connecting to nlp.stanford.edu (nlp.stanford.edu)|171.64.67.140|:80... connected.\n",
            "HTTP request sent, awaiting response... 302 Found\n",
            "Location: https://nlp.stanford.edu/data/glove.6B.zip [following]\n",
            "--2025-09-06 20:12:37--  https://nlp.stanford.edu/data/glove.6B.zip\n",
            "Connecting to nlp.stanford.edu (nlp.stanford.edu)|171.64.67.140|:443... connected.\n",
            "HTTP request sent, awaiting response... 301 Moved Permanently\n",
            "Location: https://downloads.cs.stanford.edu/nlp/data/glove.6B.zip [following]\n",
            "--2025-09-06 20:12:37--  https://downloads.cs.stanford.edu/nlp/data/glove.6B.zip\n",
            "Resolving downloads.cs.stanford.edu (downloads.cs.stanford.edu)... 171.64.64.22\n",
            "Connecting to downloads.cs.stanford.edu (downloads.cs.stanford.edu)|171.64.64.22|:443... connected.\n",
            "HTTP request sent, awaiting response... 200 OK\n",
            "Length: 862182613 (822M) [application/zip]\n",
            "Saving to: ‘glove.6B.zip’\n",
            "\n",
            "glove.6B.zip        100%[===================>] 822.24M  5.05MB/s    in 2m 41s  \n",
            "\n",
            "2025-09-06 20:15:19 (5.11 MB/s) - ‘glove.6B.zip’ saved [862182613/862182613]\n",
            "\n",
            "Archive:  glove.6B.zip\n",
            "  inflating: glove.6B.50d.txt        \n",
            "  inflating: glove.6B.100d.txt       \n",
            "  inflating: glove.6B.200d.txt       \n",
            "  inflating: glove.6B.300d.txt       \n"
          ]
        }
      ],
      "source": [
        "!wget --no-check-certificate http://nlp.stanford.edu/data/glove.6B.zip\n",
        "!unzip glove.6B.zip"
      ]
    },
    {
      "cell_type": "code",
      "execution_count": null,
      "metadata": {
        "colab": {
          "base_uri": "https://localhost:8080/"
        },
        "id": "iDCCfPZjo32W",
        "outputId": "7e0c7b44-a5a8-48b3-d0f7-98f2554ed600"
      },
      "outputs": [
        {
          "output_type": "stream",
          "name": "stdout",
          "text": [
            "Loaded 400000 word vectors.\n"
          ]
        }
      ],
      "source": [
        "embedding_index = {}\n",
        "with open(\"glove.6B.100d.txt\", encoding='utf8') as f:\n",
        "    for line in f:\n",
        "        values = line.split()\n",
        "        word = values[0]\n",
        "        coefs = np.asarray(values[1:], dtype='float32')\n",
        "        embedding_index[word] = coefs\n",
        "\n",
        "print(f\"Loaded {len(embedding_index)} word vectors.\")"
      ]
    },
    {
      "cell_type": "code",
      "execution_count": null,
      "metadata": {
        "colab": {
          "base_uri": "https://localhost:8080/"
        },
        "id": "0ZXWh1Iso5M-",
        "outputId": "641dae16-71e4-41c8-f98c-a2d0f29cbfbe"
      },
      "outputs": [
        {
          "output_type": "stream",
          "name": "stdout",
          "text": [
            "Embedding matrix shape: (20000, 100)\n"
          ]
        }
      ],
      "source": [
        "embedding_dim = 100\n",
        "word_index = tokenizer.word_index\n",
        "num_words = min(max_vocab_size, len(word_index) + 1)\n",
        "\n",
        "# Build embedding matrix\n",
        "embedding_matrix = np.zeros((num_words, embedding_dim))\n",
        "\n",
        "for word, i in word_index.items():\n",
        "    if i < num_words:\n",
        "        embedding_vector = embedding_index.get(word)\n",
        "        if embedding_vector is not None:\n",
        "            embedding_matrix[i] = embedding_vector\n",
        "print(f'Embedding matrix shape: {embedding_matrix.shape}')"
      ]
    },
    {
      "cell_type": "code",
      "execution_count": null,
      "metadata": {
        "colab": {
          "base_uri": "https://localhost:8080/",
          "height": 511
        },
        "id": "UFlN-gYIo7L9",
        "outputId": "d2d94ede-1bfc-44fd-e6eb-9ce9c9a3c5e7"
      },
      "outputs": [
        {
          "output_type": "stream",
          "name": "stderr",
          "text": [
            "/usr/local/lib/python3.12/dist-packages/keras/src/layers/core/embedding.py:97: UserWarning: Argument `input_length` is deprecated. Just remove it.\n",
            "  warnings.warn(\n"
          ]
        },
        {
          "output_type": "display_data",
          "data": {
            "text/plain": [
              "\u001b[1mModel: \"sequential\"\u001b[0m\n"
            ],
            "text/html": [
              "<pre style=\"white-space:pre;overflow-x:auto;line-height:normal;font-family:Menlo,'DejaVu Sans Mono',consolas,'Courier New',monospace\"><span style=\"font-weight: bold\">Model: \"sequential\"</span>\n",
              "</pre>\n"
            ]
          },
          "metadata": {}
        },
        {
          "output_type": "display_data",
          "data": {
            "text/plain": [
              "┏━━━━━━━━━━━━━━━━━━━━━━━━━━━━━━━━━┳━━━━━━━━━━━━━━━━━━━━━━━━┳━━━━━━━━━━━━━━━┓\n",
              "┃\u001b[1m \u001b[0m\u001b[1mLayer (type)                   \u001b[0m\u001b[1m \u001b[0m┃\u001b[1m \u001b[0m\u001b[1mOutput Shape          \u001b[0m\u001b[1m \u001b[0m┃\u001b[1m \u001b[0m\u001b[1m      Param #\u001b[0m\u001b[1m \u001b[0m┃\n",
              "┡━━━━━━━━━━━━━━━━━━━━━━━━━━━━━━━━━╇━━━━━━━━━━━━━━━━━━━━━━━━╇━━━━━━━━━━━━━━━┩\n",
              "│ embedding (\u001b[38;5;33mEmbedding\u001b[0m)           │ ?                      │     \u001b[38;5;34m2,000,000\u001b[0m │\n",
              "├─────────────────────────────────┼────────────────────────┼───────────────┤\n",
              "│ spatial_dropout1d               │ ?                      │             \u001b[38;5;34m0\u001b[0m │\n",
              "│ (\u001b[38;5;33mSpatialDropout1D\u001b[0m)              │                        │               │\n",
              "├─────────────────────────────────┼────────────────────────┼───────────────┤\n",
              "│ conv1d (\u001b[38;5;33mConv1D\u001b[0m)                 │ ?                      │   \u001b[38;5;34m0\u001b[0m (unbuilt) │\n",
              "├─────────────────────────────────┼────────────────────────┼───────────────┤\n",
              "│ lstm (\u001b[38;5;33mLSTM\u001b[0m)                     │ ?                      │   \u001b[38;5;34m0\u001b[0m (unbuilt) │\n",
              "├─────────────────────────────────┼────────────────────────┼───────────────┤\n",
              "│ dropout (\u001b[38;5;33mDropout\u001b[0m)               │ ?                      │             \u001b[38;5;34m0\u001b[0m │\n",
              "├─────────────────────────────────┼────────────────────────┼───────────────┤\n",
              "│ global_max_pooling1d            │ ?                      │             \u001b[38;5;34m0\u001b[0m │\n",
              "│ (\u001b[38;5;33mGlobalMaxPooling1D\u001b[0m)            │                        │               │\n",
              "├─────────────────────────────────┼────────────────────────┼───────────────┤\n",
              "│ dense (\u001b[38;5;33mDense\u001b[0m)                   │ ?                      │   \u001b[38;5;34m0\u001b[0m (unbuilt) │\n",
              "├─────────────────────────────────┼────────────────────────┼───────────────┤\n",
              "│ dropout_1 (\u001b[38;5;33mDropout\u001b[0m)             │ ?                      │             \u001b[38;5;34m0\u001b[0m │\n",
              "├─────────────────────────────────┼────────────────────────┼───────────────┤\n",
              "│ dense_1 (\u001b[38;5;33mDense\u001b[0m)                 │ ?                      │   \u001b[38;5;34m0\u001b[0m (unbuilt) │\n",
              "└─────────────────────────────────┴────────────────────────┴───────────────┘\n"
            ],
            "text/html": [
              "<pre style=\"white-space:pre;overflow-x:auto;line-height:normal;font-family:Menlo,'DejaVu Sans Mono',consolas,'Courier New',monospace\">┏━━━━━━━━━━━━━━━━━━━━━━━━━━━━━━━━━┳━━━━━━━━━━━━━━━━━━━━━━━━┳━━━━━━━━━━━━━━━┓\n",
              "┃<span style=\"font-weight: bold\"> Layer (type)                    </span>┃<span style=\"font-weight: bold\"> Output Shape           </span>┃<span style=\"font-weight: bold\">       Param # </span>┃\n",
              "┡━━━━━━━━━━━━━━━━━━━━━━━━━━━━━━━━━╇━━━━━━━━━━━━━━━━━━━━━━━━╇━━━━━━━━━━━━━━━┩\n",
              "│ embedding (<span style=\"color: #0087ff; text-decoration-color: #0087ff\">Embedding</span>)           │ ?                      │     <span style=\"color: #00af00; text-decoration-color: #00af00\">2,000,000</span> │\n",
              "├─────────────────────────────────┼────────────────────────┼───────────────┤\n",
              "│ spatial_dropout1d               │ ?                      │             <span style=\"color: #00af00; text-decoration-color: #00af00\">0</span> │\n",
              "│ (<span style=\"color: #0087ff; text-decoration-color: #0087ff\">SpatialDropout1D</span>)              │                        │               │\n",
              "├─────────────────────────────────┼────────────────────────┼───────────────┤\n",
              "│ conv1d (<span style=\"color: #0087ff; text-decoration-color: #0087ff\">Conv1D</span>)                 │ ?                      │   <span style=\"color: #00af00; text-decoration-color: #00af00\">0</span> (unbuilt) │\n",
              "├─────────────────────────────────┼────────────────────────┼───────────────┤\n",
              "│ lstm (<span style=\"color: #0087ff; text-decoration-color: #0087ff\">LSTM</span>)                     │ ?                      │   <span style=\"color: #00af00; text-decoration-color: #00af00\">0</span> (unbuilt) │\n",
              "├─────────────────────────────────┼────────────────────────┼───────────────┤\n",
              "│ dropout (<span style=\"color: #0087ff; text-decoration-color: #0087ff\">Dropout</span>)               │ ?                      │             <span style=\"color: #00af00; text-decoration-color: #00af00\">0</span> │\n",
              "├─────────────────────────────────┼────────────────────────┼───────────────┤\n",
              "│ global_max_pooling1d            │ ?                      │             <span style=\"color: #00af00; text-decoration-color: #00af00\">0</span> │\n",
              "│ (<span style=\"color: #0087ff; text-decoration-color: #0087ff\">GlobalMaxPooling1D</span>)            │                        │               │\n",
              "├─────────────────────────────────┼────────────────────────┼───────────────┤\n",
              "│ dense (<span style=\"color: #0087ff; text-decoration-color: #0087ff\">Dense</span>)                   │ ?                      │   <span style=\"color: #00af00; text-decoration-color: #00af00\">0</span> (unbuilt) │\n",
              "├─────────────────────────────────┼────────────────────────┼───────────────┤\n",
              "│ dropout_1 (<span style=\"color: #0087ff; text-decoration-color: #0087ff\">Dropout</span>)             │ ?                      │             <span style=\"color: #00af00; text-decoration-color: #00af00\">0</span> │\n",
              "├─────────────────────────────────┼────────────────────────┼───────────────┤\n",
              "│ dense_1 (<span style=\"color: #0087ff; text-decoration-color: #0087ff\">Dense</span>)                 │ ?                      │   <span style=\"color: #00af00; text-decoration-color: #00af00\">0</span> (unbuilt) │\n",
              "└─────────────────────────────────┴────────────────────────┴───────────────┘\n",
              "</pre>\n"
            ]
          },
          "metadata": {}
        },
        {
          "output_type": "display_data",
          "data": {
            "text/plain": [
              "\u001b[1m Total params: \u001b[0m\u001b[38;5;34m2,000,000\u001b[0m (7.63 MB)\n"
            ],
            "text/html": [
              "<pre style=\"white-space:pre;overflow-x:auto;line-height:normal;font-family:Menlo,'DejaVu Sans Mono',consolas,'Courier New',monospace\"><span style=\"font-weight: bold\"> Total params: </span><span style=\"color: #00af00; text-decoration-color: #00af00\">2,000,000</span> (7.63 MB)\n",
              "</pre>\n"
            ]
          },
          "metadata": {}
        },
        {
          "output_type": "display_data",
          "data": {
            "text/plain": [
              "\u001b[1m Trainable params: \u001b[0m\u001b[38;5;34m2,000,000\u001b[0m (7.63 MB)\n"
            ],
            "text/html": [
              "<pre style=\"white-space:pre;overflow-x:auto;line-height:normal;font-family:Menlo,'DejaVu Sans Mono',consolas,'Courier New',monospace\"><span style=\"font-weight: bold\"> Trainable params: </span><span style=\"color: #00af00; text-decoration-color: #00af00\">2,000,000</span> (7.63 MB)\n",
              "</pre>\n"
            ]
          },
          "metadata": {}
        },
        {
          "output_type": "display_data",
          "data": {
            "text/plain": [
              "\u001b[1m Non-trainable params: \u001b[0m\u001b[38;5;34m0\u001b[0m (0.00 B)\n"
            ],
            "text/html": [
              "<pre style=\"white-space:pre;overflow-x:auto;line-height:normal;font-family:Menlo,'DejaVu Sans Mono',consolas,'Courier New',monospace\"><span style=\"font-weight: bold\"> Non-trainable params: </span><span style=\"color: #00af00; text-decoration-color: #00af00\">0</span> (0.00 B)\n",
              "</pre>\n"
            ]
          },
          "metadata": {}
        }
      ],
      "source": [
        "# Model training\n",
        "from tensorflow.keras.models import Sequential\n",
        "from tensorflow.keras.layers import Embedding, SpatialDropout1D, Conv1D, LSTM, Dropout, Dense, GlobalMaxPooling1D\n",
        "from tensorflow.keras.optimizers import Adam\n",
        "from tensorflow.keras.regularizers import l2\n",
        "\n",
        "model_cnn_lstm = Sequential([\n",
        "    Embedding(input_dim=num_words,\n",
        "              output_dim=embedding_dim,\n",
        "              weights=[embedding_matrix],\n",
        "              input_length=max_sequence_length,\n",
        "              trainable=True),\n",
        "    SpatialDropout1D(0.25),\n",
        "    Conv1D(128, 5, activation='relu', kernel_regularizer=l2(1e-4)),\n",
        "\n",
        "    LSTM(128, return_sequences=True, dropout=0.4),\n",
        "    Dropout(0.4),\n",
        "    GlobalMaxPooling1D(),\n",
        "\n",
        "    Dense(64, activation='relu', kernel_regularizer=l2(1e-4)),\n",
        "    Dropout(0.4),\n",
        "\n",
        "    Dense(3, activation='softmax', kernel_regularizer=l2(1e-4))\n",
        "])\n",
        "\n",
        "optimizer = Adam(learning_rate=5e-5, clipnorm=1.0)\n",
        "model_cnn_lstm.compile(optimizer=optimizer, loss='sparse_categorical_crossentropy', metrics=['accuracy'])\n",
        "model_cnn_lstm.summary()"
      ]
    },
    {
      "cell_type": "code",
      "execution_count": null,
      "metadata": {
        "colab": {
          "base_uri": "https://localhost:8080/"
        },
        "id": "mUHSSyMCpRWl",
        "outputId": "d3cfb5d0-5627-4e07-8f16-a33d34a4ecc9"
      },
      "outputs": [
        {
          "output_type": "stream",
          "name": "stdout",
          "text": [
            "Epoch 1/50\n",
            "657/657 - 21s - 32ms/step - accuracy: 0.3383 - loss: 1.1365 - val_accuracy: 0.4078 - val_loss: 1.1150 - learning_rate: 5.0000e-05\n",
            "Epoch 2/50\n",
            "657/657 - 14s - 21ms/step - accuracy: 0.3569 - loss: 1.1174 - val_accuracy: 0.4150 - val_loss: 1.1129 - learning_rate: 5.0000e-05\n",
            "Epoch 3/50\n",
            "657/657 - 21s - 31ms/step - accuracy: 0.3671 - loss: 1.1118 - val_accuracy: 0.4250 - val_loss: 1.1052 - learning_rate: 5.0000e-05\n",
            "Epoch 4/50\n",
            "657/657 - 12s - 18ms/step - accuracy: 0.3979 - loss: 1.1001 - val_accuracy: 0.4805 - val_loss: 1.0879 - learning_rate: 5.0000e-05\n",
            "Epoch 5/50\n",
            "657/657 - 20s - 31ms/step - accuracy: 0.4289 - loss: 1.0786 - val_accuracy: 0.4872 - val_loss: 1.0676 - learning_rate: 5.0000e-05\n",
            "Epoch 6/50\n",
            "657/657 - 21s - 31ms/step - accuracy: 0.4509 - loss: 1.0590 - val_accuracy: 0.4860 - val_loss: 1.0501 - learning_rate: 5.0000e-05\n",
            "Epoch 7/50\n",
            "657/657 - 12s - 18ms/step - accuracy: 0.4722 - loss: 1.0371 - val_accuracy: 0.5338 - val_loss: 1.0212 - learning_rate: 5.0000e-05\n",
            "Epoch 8/50\n",
            "657/657 - 12s - 18ms/step - accuracy: 0.4888 - loss: 1.0172 - val_accuracy: 0.5388 - val_loss: 1.0040 - learning_rate: 5.0000e-05\n",
            "Epoch 9/50\n",
            "657/657 - 21s - 32ms/step - accuracy: 0.5071 - loss: 0.9956 - val_accuracy: 0.5457 - val_loss: 0.9858 - learning_rate: 5.0000e-05\n",
            "Epoch 10/50\n",
            "657/657 - 20s - 30ms/step - accuracy: 0.5256 - loss: 0.9789 - val_accuracy: 0.5453 - val_loss: 0.9714 - learning_rate: 5.0000e-05\n",
            "Epoch 11/50\n",
            "657/657 - 12s - 18ms/step - accuracy: 0.5349 - loss: 0.9630 - val_accuracy: 0.5717 - val_loss: 0.9606 - learning_rate: 5.0000e-05\n",
            "Epoch 12/50\n",
            "657/657 - 20s - 30ms/step - accuracy: 0.5441 - loss: 0.9442 - val_accuracy: 0.5712 - val_loss: 0.9491 - learning_rate: 5.0000e-05\n",
            "Epoch 13/50\n",
            "657/657 - 21s - 32ms/step - accuracy: 0.5575 - loss: 0.9298 - val_accuracy: 0.5877 - val_loss: 0.9244 - learning_rate: 5.0000e-05\n",
            "Epoch 14/50\n",
            "657/657 - 22s - 33ms/step - accuracy: 0.5659 - loss: 0.9207 - val_accuracy: 0.6003 - val_loss: 0.9174 - learning_rate: 5.0000e-05\n",
            "Epoch 15/50\n",
            "657/657 - 20s - 30ms/step - accuracy: 0.5760 - loss: 0.9077 - val_accuracy: 0.5818 - val_loss: 0.9114 - learning_rate: 5.0000e-05\n",
            "Epoch 16/50\n",
            "657/657 - 20s - 31ms/step - accuracy: 0.5863 - loss: 0.8897 - val_accuracy: 0.5973 - val_loss: 0.8952 - learning_rate: 5.0000e-05\n",
            "Epoch 17/50\n",
            "657/657 - 20s - 31ms/step - accuracy: 0.5907 - loss: 0.8806 - val_accuracy: 0.6052 - val_loss: 0.8941 - learning_rate: 5.0000e-05\n",
            "Epoch 18/50\n",
            "657/657 - 21s - 31ms/step - accuracy: 0.5969 - loss: 0.8711 - val_accuracy: 0.6085 - val_loss: 0.8842 - learning_rate: 5.0000e-05\n",
            "Epoch 19/50\n",
            "657/657 - 12s - 18ms/step - accuracy: 0.6077 - loss: 0.8567 - val_accuracy: 0.6055 - val_loss: 0.8801 - learning_rate: 5.0000e-05\n",
            "Epoch 20/50\n",
            "657/657 - 21s - 31ms/step - accuracy: 0.6167 - loss: 0.8467 - val_accuracy: 0.6223 - val_loss: 0.8659 - learning_rate: 5.0000e-05\n",
            "Epoch 21/50\n",
            "657/657 - 12s - 18ms/step - accuracy: 0.6208 - loss: 0.8388 - val_accuracy: 0.6258 - val_loss: 0.8505 - learning_rate: 5.0000e-05\n",
            "Epoch 22/50\n",
            "657/657 - 20s - 31ms/step - accuracy: 0.6229 - loss: 0.8343 - val_accuracy: 0.6088 - val_loss: 0.8630 - learning_rate: 5.0000e-05\n",
            "Epoch 23/50\n",
            "657/657 - 12s - 18ms/step - accuracy: 0.6280 - loss: 0.8258 - val_accuracy: 0.6245 - val_loss: 0.8511 - learning_rate: 5.0000e-05\n",
            "Epoch 24/50\n",
            "657/657 - 11s - 17ms/step - accuracy: 0.6337 - loss: 0.8178 - val_accuracy: 0.6357 - val_loss: 0.8425 - learning_rate: 5.0000e-05\n",
            "Epoch 25/50\n",
            "657/657 - 21s - 32ms/step - accuracy: 0.6383 - loss: 0.8090 - val_accuracy: 0.6367 - val_loss: 0.8310 - learning_rate: 5.0000e-05\n",
            "Epoch 26/50\n",
            "657/657 - 22s - 33ms/step - accuracy: 0.6440 - loss: 0.8031 - val_accuracy: 0.6352 - val_loss: 0.8319 - learning_rate: 5.0000e-05\n",
            "Epoch 27/50\n",
            "657/657 - 19s - 30ms/step - accuracy: 0.6445 - loss: 0.7970 - val_accuracy: 0.6365 - val_loss: 0.8244 - learning_rate: 5.0000e-05\n",
            "Epoch 28/50\n",
            "657/657 - 21s - 32ms/step - accuracy: 0.6528 - loss: 0.7917 - val_accuracy: 0.6468 - val_loss: 0.8179 - learning_rate: 5.0000e-05\n",
            "Epoch 29/50\n",
            "657/657 - 20s - 30ms/step - accuracy: 0.6602 - loss: 0.7769 - val_accuracy: 0.6450 - val_loss: 0.8106 - learning_rate: 5.0000e-05\n",
            "Epoch 30/50\n",
            "657/657 - 21s - 32ms/step - accuracy: 0.6601 - loss: 0.7733 - val_accuracy: 0.6465 - val_loss: 0.8124 - learning_rate: 5.0000e-05\n",
            "Epoch 31/50\n",
            "657/657 - 20s - 30ms/step - accuracy: 0.6624 - loss: 0.7688 - val_accuracy: 0.6288 - val_loss: 0.8230 - learning_rate: 5.0000e-05\n",
            "Epoch 32/50\n",
            "657/657 - 21s - 32ms/step - accuracy: 0.6691 - loss: 0.7597 - val_accuracy: 0.6510 - val_loss: 0.8010 - learning_rate: 5.0000e-05\n",
            "Epoch 33/50\n",
            "657/657 - 20s - 31ms/step - accuracy: 0.6760 - loss: 0.7473 - val_accuracy: 0.6475 - val_loss: 0.8000 - learning_rate: 5.0000e-05\n",
            "Epoch 34/50\n",
            "657/657 - 21s - 31ms/step - accuracy: 0.6759 - loss: 0.7461 - val_accuracy: 0.6598 - val_loss: 0.7871 - learning_rate: 5.0000e-05\n",
            "Epoch 35/50\n",
            "657/657 - 20s - 31ms/step - accuracy: 0.6790 - loss: 0.7408 - val_accuracy: 0.6540 - val_loss: 0.7902 - learning_rate: 5.0000e-05\n",
            "Epoch 36/50\n",
            "657/657 - 12s - 19ms/step - accuracy: 0.6788 - loss: 0.7337 - val_accuracy: 0.6585 - val_loss: 0.7837 - learning_rate: 5.0000e-05\n",
            "Epoch 37/50\n",
            "657/657 - 12s - 18ms/step - accuracy: 0.6796 - loss: 0.7296 - val_accuracy: 0.6585 - val_loss: 0.7856 - learning_rate: 5.0000e-05\n",
            "Epoch 38/50\n",
            "657/657 - 20s - 31ms/step - accuracy: 0.6861 - loss: 0.7202 - val_accuracy: 0.6575 - val_loss: 0.7820 - learning_rate: 5.0000e-05\n",
            "Epoch 39/50\n",
            "657/657 - 20s - 31ms/step - accuracy: 0.6932 - loss: 0.7250 - val_accuracy: 0.6597 - val_loss: 0.7820 - learning_rate: 5.0000e-05\n",
            "Epoch 40/50\n",
            "657/657 - 21s - 31ms/step - accuracy: 0.6905 - loss: 0.7125 - val_accuracy: 0.6638 - val_loss: 0.7695 - learning_rate: 5.0000e-05\n",
            "Epoch 41/50\n",
            "657/657 - 21s - 31ms/step - accuracy: 0.7001 - loss: 0.7054 - val_accuracy: 0.6647 - val_loss: 0.7673 - learning_rate: 5.0000e-05\n",
            "Epoch 42/50\n",
            "657/657 - 20s - 31ms/step - accuracy: 0.6992 - loss: 0.7030 - val_accuracy: 0.6697 - val_loss: 0.7681 - learning_rate: 5.0000e-05\n",
            "Epoch 43/50\n",
            "657/657 - 12s - 18ms/step - accuracy: 0.7035 - loss: 0.6969 - val_accuracy: 0.6653 - val_loss: 0.7638 - learning_rate: 5.0000e-05\n",
            "Epoch 44/50\n",
            "657/657 - 12s - 18ms/step - accuracy: 0.6993 - loss: 0.6958 - val_accuracy: 0.6577 - val_loss: 0.7801 - learning_rate: 5.0000e-05\n",
            "Epoch 45/50\n",
            "657/657 - 20s - 31ms/step - accuracy: 0.7096 - loss: 0.6893 - val_accuracy: 0.6710 - val_loss: 0.7573 - learning_rate: 5.0000e-05\n",
            "Epoch 46/50\n",
            "657/657 - 21s - 31ms/step - accuracy: 0.7095 - loss: 0.6819 - val_accuracy: 0.6715 - val_loss: 0.7559 - learning_rate: 5.0000e-05\n",
            "Epoch 47/50\n",
            "657/657 - 20s - 31ms/step - accuracy: 0.7086 - loss: 0.6821 - val_accuracy: 0.6710 - val_loss: 0.7626 - learning_rate: 5.0000e-05\n",
            "Epoch 48/50\n",
            "657/657 - 20s - 31ms/step - accuracy: 0.7145 - loss: 0.6748 - val_accuracy: 0.6628 - val_loss: 0.7667 - learning_rate: 5.0000e-05\n",
            "Epoch 49/50\n",
            "657/657 - 11s - 17ms/step - accuracy: 0.7156 - loss: 0.6703 - val_accuracy: 0.6745 - val_loss: 0.7517 - learning_rate: 5.0000e-05\n",
            "Epoch 50/50\n",
            "657/657 - 21s - 31ms/step - accuracy: 0.7221 - loss: 0.6616 - val_accuracy: 0.6733 - val_loss: 0.7479 - learning_rate: 5.0000e-05\n",
            "Restoring model weights from the end of the best epoch: 50.\n"
          ]
        }
      ],
      "source": [
        "# Optimization\n",
        "from tensorflow.keras.callbacks import EarlyStopping, ReduceLROnPlateau\n",
        "\n",
        "early_stop = EarlyStopping(monitor='val_loss',\n",
        "                           patience=4,    # stop if no improvement after 4 epochs\n",
        "                           restore_best_weights=True,  # keep best model weights\n",
        "                           verbose=1)\n",
        "\n",
        "reduce_lr = ReduceLROnPlateau(monitor='val_loss',\n",
        "                              factor=0.5,\n",
        "                              patience=4,\n",
        "                              min_lr=1e-6,\n",
        "                              verbose=1)\n",
        "history = model_cnn_lstm.fit(\n",
        "    X_train_pad,\n",
        "    y_train,\n",
        "    epochs=50,           # Adjusted from 10 to 50\n",
        "    batch_size=32,       # Tuned using 32 and 64\n",
        "    validation_data=(X_val_pad, y_val),\n",
        "    callbacks=[early_stop, reduce_lr],\n",
        "    verbose=2\n",
        ")"
      ]
    },
    {
      "cell_type": "code",
      "execution_count": null,
      "metadata": {
        "id": "eywMIyZNpTZL",
        "colab": {
          "base_uri": "https://localhost:8080/",
          "height": 997
        },
        "outputId": "8d5eb0fb-5e21-4a6a-c6a3-182f7c5e421f"
      },
      "outputs": [
        {
          "output_type": "display_data",
          "data": {
            "text/plain": [
              "<Figure size 700x500 with 1 Axes>"
            ],
            "image/png": "[encoded data removed]"
          },
          "metadata": {}
        },
        {
          "output_type": "display_data",
          "data": {
            "text/plain": [
              "<Figure size 700x500 with 1 Axes>"
            ],
            "image/png": "[encoded data removed]"
          },
          "metadata": {}
        }
      ],
      "source": [
        "import matplotlib.pyplot as plt\n",
        "\n",
        "# Plot training & validation accuracy values\n",
        "plt.figure(figsize=(7, 5))\n",
        "plt.plot(history.history['accuracy'], label='Train Accuracy')\n",
        "plt.plot(history.history['val_accuracy'], label='Validation Accuracy')\n",
        "plt.title('Model Accuracy')\n",
        "plt.xlabel('Epoch')\n",
        "plt.ylabel('Accuracy')\n",
        "plt.legend()\n",
        "plt.tight_layout()\n",
        "plt.savefig(\"model_accuracy_cnn+lstm.png\", dpi=300, bbox_inches='tight')\n",
        "plt.show()\n",
        "\n",
        "# Loss plot\n",
        "plt.figure(figsize=(7, 5))   # new figure\n",
        "plt.plot(history.history['loss'], label='Train Loss')\n",
        "plt.plot(history.history['val_loss'], label='Validation Loss')\n",
        "plt.title('Model Loss')\n",
        "plt.xlabel('Epoch')\n",
        "plt.ylabel('Loss')\n",
        "plt.legend()\n",
        "plt.tight_layout()\n",
        "plt.savefig(\"model_loss_cnn+lstm.png\", dpi=300, bbox_inches='tight')\n",
        "plt.show()"
      ]
    },
    {
      "cell_type": "code",
      "execution_count": null,
      "metadata": {
        "id": "fpZzI5cTpudC",
        "colab": {
          "base_uri": "https://localhost:8080/"
        },
        "outputId": "e05bd127-b3da-4d7c-b38c-8639730bf081"
      },
      "outputs": [
        {
          "output_type": "stream",
          "name": "stdout",
          "text": [
            "\u001b[1m188/188\u001b[0m \u001b[32m━━━━━━━━━━━━━━━━━━━━\u001b[0m\u001b[37m\u001b[0m \u001b[1m2s\u001b[0m 8ms/step\n"
          ]
        }
      ],
      "source": [
        "# Get predicted probabilities\n",
        "y_val_probs = model_cnn_lstm.predict(X_val_pad)\n",
        "\n",
        "# Convert to predicted class labels (0, 1, 2)\n",
        "y_val_pred = np.argmax(y_val_probs, axis=1)\n",
        "\n",
        "# Convert to numpy arrays\n",
        "y_val_true = np.array(y_val)"
      ]
    },
    {
      "cell_type": "code",
      "execution_count": null,
      "metadata": {
        "id": "-C0_sahEpwxn",
        "colab": {
          "base_uri": "https://localhost:8080/"
        },
        "outputId": "8cbc04d0-f45c-4799-d022-b2347500d7e9"
      },
      "outputs": [
        {
          "output_type": "stream",
          "name": "stdout",
          "text": [
            "Number of misclassified samples: 1960\n",
            "\n",
            " Review: i have read that john ringo basically wrote the books in this series over the course of a few months of frantic writing . i have not read the others , but this was a gritty description of commando style spy antics combined with almost bdsm sexual scenes . the military scenes and descriptions are solid . however , they could not carry the story and the overall plot just felt a bit thin . the sexual scenes felt almost forced at time and did not expand much upon the plot . i could see a male reader wishing he was the main character with his almost mystical ability to pleasure a woman and win her adoration , but in a way the scenes detracted from the characters and their impact . perhaps i should have read books 1 and 2 first so i could get more into the story , but i was able to figure out the basic personalities of most of hte characters , even if i did not know how they became friends and allies . this is definitely a book that will only be enjoyed by a select audience . the sexual scenes will be considered offensive by some , but as always john ringo ' s personal politics bleed into the politics of his writing . as a writer he has a great talent , but his works can end up seeming a bit juvenile due to his style and politics . this one fell into the juvenile category . i do not recommend this book to anyone . there are other better books out there .\n",
            "True label: 0\n",
            "Predicted:  1\n",
            "\n",
            " Review: robert jordan is an excellent author , but the last four volumes 710 have suffered from literary obesity . it is not that nothing happened it is that too little happened for the length of the volume and the wait inbetween to keep the fans happy . knife of dreams went through a more extensive editing process than those last four , and it shows . the prose is far tighter than we have come to expect recently . every chapter and every scene serves a purpose in advancing the story . we are not deluged with a lot of new pov characters , eithervirtually every scene is told through the eyes of the people we have come to know and love . more importantly , this volume finally resolves several of the ongoing plot lines that had really begun to drag , and in spectacular fashion . for the first time in the series , various threads are beginning to come together , leaving me with the thought that maybe , just maybe , jordan will manage to pull off a satisfying ending in only one more book . even if it takes him 1600 pages to do it . the difficulty with any extended , multivolume story is the tendency for the middle and late volumes to be expositionheavy , with too much buildup and too little climax . knife of dreams manages to avoid that trap , but still leaves us waiting for the final volume . and it will be a doozy .\n",
            "True label: 2\n",
            "Predicted:  1\n",
            "\n",
            " Review: having lived in the apartheid , nadine gordimer knows a big deal about political and historical facts of that period . so do not we . in this book , she uses her knowledge to give us the impression of the power of history , overcoming life of normal people . but neither we leave the book with the feeling of being enriched by a talent psychological insight , nor can we avoid the frustration not to be able to follow her detailed but rambling historical picture . the main character , rose , is the daughter of an important antiapartheid leader . her childhood , her adolescence and her entire life will turn out to be completely affected by her origins . and that is fine with me , although i do not like the idea we cannot change our fate . what i did not like is that the character rose ' s development is dropped little by little through the very long book and mixed up with a quantity of events regarding apartheid and rose ' s father connection with the communist party , which the average reader cannot understand . there is no order in their happening and the book is not trying to explain them they are just mentioned ! so , if you want to know more about apartheid this is not the right book . probably an essay would be more useful than this novel . and about ms . gordimer ' s psychological insight and characters living in the apartheid , i would rather suggest my son ' s story .\n",
            "True label: 0\n",
            "Predicted:  1\n",
            "\n",
            " Review: madame bovary is considered a liteary classic , esp . amongst romance readers . however , i found the book somewhat dull and lackluster . . . nothing ever changed and most of the characters were extremely flat . if you are in need of an early classic , madame bovary is a much better alternative to the works of jane austen and the bronte sisters . . . but it is no bestseller .\n",
            "True label: 1\n",
            "Predicted:  0\n",
            "\n",
            " Review: this is not an unabridged audible book of to kill a mockingbird . it is , as stated in the description above , simply a celebration of the book , in which excerpts of the book are read .\n",
            "True label: 1\n",
            "Predicted:  2\n",
            "\n",
            " Review: having loved lidy newton and thousand acres , how is it , i wonder , that i can feel so blah towards , first moo . . . and now this !\n",
            "True label: 0\n",
            "Predicted:  2\n",
            "\n",
            " Review: jessica always thought that her brilliant charmer of an exhusband married her on one of his impulsesan itseemedlikesuchagreatideaatthetime finale to a champagne picnic . and sam ? well , he figured jessica never really loved him . he was her fist man , and as sex itself is such a snazzy little concept . . . in other words , had jessica confused all that lovely felling with love ? seven years ago jesica and sam divorced . now they are together again , and fighting for there lives . but it will take faith and love to win this particular battleand one very special cat !\n",
            "True label: 1\n",
            "Predicted:  2\n",
            "\n",
            " Review: shaara ' s rising tide is best when the characters are ones that actually lived rather than the ones he makes up . the dialogue between the historical figures is shaara at his best . it is however unfortunate that he has chosen to write a fictional account of the war in north africa when there is better to be had . rick atkinson ' s true not fictional account beginning with an army at war and then day of battle is much much better . here truth is better than fiction . if you like shaara you will love atkinson .\n",
            "True label: 1\n",
            "Predicted:  2\n",
            "\n",
            " Review: this is standard sheldon fare cutthroats and graphic albeit cliche bedroom scenes . same old story . set during the 1940s , this book contains all of the ususal sheldon fare including some poor editing . an example of poor editing was in the case of a character named israel katz , who had an amputated leg . early in the book , it was his right leg and later in the book , his other leg was identified as the amputeded limb . inconsistencies like that are inexcusable . dramatis personaecatherine a silly , starryeyed girl who has pie in the sky hopes like her dreamer of a dad . she has a crush on a boy in her senior class and when he somehow manages to convince her to spend a night with him , she makes bizarre comments and kills off a possible conquest . she drops out of college to work and becomes involved with one william fraser , who is the only likable character in the book . a truly nice man , he has her interests at heart . larry a cruel , indifferent man . he manages to convince catherine to marry him instead of fraser . he would later jilt her for one noelle page after making attempts on her life so he can remarry . an erratic pilot , he is sacked from several airlines and mail runs before being hired as the private pilot for a greek tycoon . noelle page catherine ' s foil her opposite number . noelle is a ruthless barracuda who was encouraged to believe she was born into a noble gentry . instead , she was born in a fishing village in paris , the daughter of another barracuda and an unknown sailor . the man she recognizes as her papa sells her when she reaches puberty . she then goes on to seduce men and sharpen her teeth and claws . a greek tycoon named constantin demiris who bears more than a passing resemblance to ari onasis takes in interest in the young barracuda . he woos her after a callous pilot named larry who jilted her . these three lives collide . larry supposedly kills catherine and is executed in a trial after her disappearance noelle and larry reconnect and noelle meets a grim fate as well . a tale of revenge and excess , this one shares a place with other sheldon novels . this is just too trashy for me .\n",
            "True label: 0\n",
            "Predicted:  2\n",
            "\n",
            " Review: all editions are not equal ! amazon has the bad habit of gathering all reviews for one title and posting them under any edition . reviewers , please post all the necessary info to allow readers to discern which edition you are reviewing . the title and author is the same yes but the abridger , adapter , illustrator , edition yearcopyright , isbn would be a help . . . at least until amazon figures out that classics get reprinted a zillion times and reviews are usually about a particular edition .\n",
            "True label: 1\n",
            "Predicted:  0\n"
          ]
        }
      ],
      "source": [
        "# Find misclassified indices\n",
        "wrong_indices = np.where(y_val_pred != y_val_true)[0]\n",
        "print(f\"Number of misclassified samples: {len(wrong_indices)}\")\n",
        "\n",
        "for idx in wrong_indices[:10]:  # find 10 misclassification\n",
        "    print(f\"\\n Review: {X_val.iloc[idx]}\")\n",
        "    print(f\"True label: {y_val_true[idx]}\")\n",
        "    print(f\"Predicted:  {y_val_pred[idx]}\")\n"
      ]
    },
    {
      "cell_type": "code",
      "execution_count": null,
      "metadata": {
        "id": "srXhIBsDpztI",
        "colab": {
          "base_uri": "https://localhost:8080/"
        },
        "outputId": "9d95959b-1a9b-4a43-edaa-3a035d552b7d"
      },
      "outputs": [
        {
          "output_type": "stream",
          "name": "stdout",
          "text": [
            "\u001b[1m188/188\u001b[0m \u001b[32m━━━━━━━━━━━━━━━━━━━━\u001b[0m\u001b[37m\u001b[0m \u001b[1m1s\u001b[0m 6ms/step\n",
            "              precision    recall  f1-score   support\n",
            "\n",
            "           0       0.74      0.69      0.72      2000\n",
            "           1       0.57      0.53      0.55      2000\n",
            "           2       0.70      0.80      0.74      2000\n",
            "\n",
            "    accuracy                           0.67      6000\n",
            "   macro avg       0.67      0.67      0.67      6000\n",
            "weighted avg       0.67      0.67      0.67      6000\n",
            "\n"
          ]
        }
      ],
      "source": [
        "from sklearn.metrics import classification_report\n",
        "# Get predicted class indices from softmax probabilities\n",
        "y_val_probs = model_cnn_lstm.predict(X_val_pad)\n",
        "y_val_pred = np.argmax(y_val_probs, axis=1)\n",
        "\n",
        "# Evaluate against true labels\n",
        "print(classification_report(y_val, y_val_pred, zero_division=0))"
      ]
    }
  ],
  "metadata": {
    "accelerator": "GPU",
    "colab": {
      "gpuType": "T4",
      "provenance": []
    },
    "kernelspec": {
      "display_name": "Python 3",
      "name": "python3"
    },
    "language_info": {
      "name": "python"
    }
  },
  "nbformat": 4,
  "nbformat_minor": 0
}